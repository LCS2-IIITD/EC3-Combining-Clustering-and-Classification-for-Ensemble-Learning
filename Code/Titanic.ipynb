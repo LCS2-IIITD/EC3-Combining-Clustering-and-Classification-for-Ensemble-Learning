{
  "nbformat": 4,
  "nbformat_minor": 0,
  "metadata": {
    "colab": {
      "name": "Untitled143.ipynb",
      "provenance": [],
      "collapsed_sections": [],
      "include_colab_link": true
    },
    "kernelspec": {
      "name": "python3",
      "display_name": "Python 3"
    }
  },
  "cells": [
    {
      "cell_type": "markdown",
      "metadata": {
        "id": "view-in-github",
        "colab_type": "text"
      },
      "source": [
        "<a href=\"https://colab.research.google.com/github/manjotmb20/EC3/blob/master/Titanic.ipynb\" target=\"_parent\"><img src=\"https://colab.research.google.com/assets/colab-badge.svg\" alt=\"Open In Colab\"/></a>"
      ]
    },
    {
      "cell_type": "code",
      "metadata": {
        "id": "2DUW-Ldrt-ft",
        "colab_type": "code",
        "colab": {}
      },
      "source": [
        "import numpy as np\n",
        "import matplotlib.pyplot as plt\n",
        "import pandas as pd\n",
        "import seaborn as sns\n",
        "from sklearn.preprocessing import LabelEncoder\n",
        "from sklearn.preprocessing import StandardScaler\n",
        "from sklearn.preprocessing import OneHotEncoder\n",
        "from numpy import linalg as LA\n"
      ],
      "execution_count": 0,
      "outputs": []
    },
    {
      "cell_type": "markdown",
      "metadata": {
        "id": "LFApVytKZ09r",
        "colab_type": "text"
      },
      "source": [
        "**Preprocessing of the titanic dataset**"
      ]
    },
    {
      "cell_type": "code",
      "metadata": {
        "id": "bOJLcdXUDGkZ",
        "colab_type": "code",
        "colab": {}
      },
      "source": [
        "df_train = pd.read_csv('train.csv')\n",
        "df_train[['Pclass', 'Survived']].groupby(['Pclass'], as_index=False).mean().sort_values(by='Survived', ascending=False)\n",
        "df_train[['Sex', 'Survived']].groupby(['Sex'], as_index=False).mean().sort_values(by='Survived', ascending=False)\n",
        "df_train[['SibSp', 'Survived']].groupby(['SibSp'], as_index=False).mean().sort_values(by='Survived', ascending=False)\n",
        "df_train[['Parch', 'Survived']].groupby(['Parch'], as_index=False).mean().sort_values(by='Survived', ascending=False)\n",
        "df_train = df_train.drop(['Ticket', 'Cabin'], axis=1)\n",
        "combine = [df_train]\n",
        "for dataset in combine:\n",
        "    dataset['Title'] = dataset.Name.str.extract('([A-Za-z]+)\\.', expand=False)\n",
        "pd.crosstab(df_train['Title'], df_train['Sex'])\n",
        "for dataset in combine:\n",
        "    dataset['Title'] = dataset['Title'].replace('Mlle', 'Miss')\n",
        "    dataset['Title'] = dataset['Title'].replace('Ms', 'Miss')\n",
        "    dataset['Title'] = dataset['Title'].replace('Mme', 'Mrs')\n",
        "    dataset['Title'] = dataset['Title'].replace(['Lady', 'Countess','Don', 'Sir', 'Jonkheer', 'Dona'],'Royalty')\n",
        "    dataset['Title'] = dataset['Title'].replace(['Capt', 'Col','Dr','Major','Rev'],'Special')\n",
        "df_train[['Title','Survived']].groupby(['Title'], as_index=False).mean()\n",
        "title_mapping = {\"Master\": 1, \"Miss\": 2, \"Mrs\": 3, \"Mr\": 4, \"Royalty\": 5, \"Special\": 6}\n",
        "for dataset in combine:\n",
        "    dataset['Title'] = dataset['Title'].map(title_mapping)\n",
        "    dataset['Title'] = dataset['Title'].fillna(0)\n",
        "df_train = df_train.drop(['Name', 'PassengerId'], axis=1)\n",
        "combine = [df_train]\n",
        "for dataset in combine:\n",
        "    dataset['Sex'] = dataset['Sex'].map( {'female': 1, 'male': 0} ).astype(int)\n",
        "median_age = np.zeros((2,3))\n",
        "for dataset in combine:\n",
        "    for sex in range(0,2):\n",
        "        for pclass in range(0,3):\n",
        "            guess_df = dataset[(dataset['Sex'] == sex) & \\\n",
        "                                  (dataset['Pclass'] == pclass+1)]['Age'].dropna()\n",
        "            age_guess = guess_df.median()\n",
        "            median_age[sex,pclass] = age_guess\n",
        "\n",
        "for dataset in combine:\n",
        "    for i in range(0, 2):\n",
        "        for j in range(0, 3):\n",
        "            dataset.loc[ (dataset.Age.isnull()) & (dataset.Sex == i) & (dataset.Pclass == j+1),\\\n",
        "                    'Age'] = median_age[i,j]\n",
        "\n",
        "dataset['Age'] = dataset['Age'].astype(int)\n",
        "df_train['AgeBand'] = pd.cut(df_train['Age'], 5)\n",
        "df_train[['AgeBand', 'Survived']].groupby(['AgeBand'], as_index=False).mean().sort_values(by='AgeBand', ascending=True)\n",
        "for dataset in combine:\n",
        "    dataset.loc[ dataset['Age'] <= 16, 'AgeG'] = 0\n",
        "    dataset.loc[(dataset['Age'] > 16) & (dataset['Age'] <= 32), 'AgeG'] = 1\n",
        "    dataset.loc[(dataset['Age'] > 32) & (dataset['Age'] <= 48), 'AgeG'] = 2\n",
        "    dataset.loc[(dataset['Age'] > 48) & (dataset['Age'] <= 64), 'AgeG'] = 3\n",
        "    dataset.loc[ dataset['Age'] > 64, 'AgeG'] = 4\n",
        "df_train = df_train.drop(['AgeBand','Age'], axis=1)\n",
        "combine = [df_train]\n",
        "for dataset in combine:\n",
        "    dataset['FamilySize'] = dataset['SibSp'] + dataset['Parch'] + 1\n",
        "\n",
        "df_train[['FamilySize','Survived']].groupby(['FamilySize'], as_index=False).mean().sort_values(by='Survived', ascending=False) \n",
        "df_train = df_train.drop(['SibSp', 'Parch'], axis=1)\n",
        "combine = [df_train]\n",
        "freq_port = df_train.Embarked.dropna().mode()[0]\n",
        "for dataset in combine:\n",
        "    dataset['Embarked'] = dataset['Embarked'].fillna(freq_port)\n",
        "df_train[['Embarked','Survived']].groupby(['Embarked'], as_index = False).mean().sort_values(by='Survived', ascending=False)\n",
        "for dataset in combine:\n",
        "    dataset['Embarked'] = dataset['Embarked'].map( {'S': 0, 'C': 1, 'Q': 2} ).astype(int)\n",
        "df_train = df_train.drop(['Fare'], axis=1)\n",
        "combine = [df_train]\n",
        "for dataset in combine:\n",
        "    dataset.AgeG = dataset.AgeG.astype(int)\n",
        "X_train = df_train.drop(\"Survived\", axis=1)\n",
        "Y_train = df_train['Survived']           "
      ],
      "execution_count": 0,
      "outputs": []
    },
    {
      "cell_type": "code",
      "metadata": {
        "id": "42yT1C_jIxsW",
        "colab_type": "code",
        "outputId": "bac36351-0eda-4866-c814-989e69634188",
        "colab": {
          "base_uri": "https://localhost:8080/",
          "height": 34
        }
      },
      "source": [
        "X_train.shape"
      ],
      "execution_count": 0,
      "outputs": [
        {
          "output_type": "execute_result",
          "data": {
            "text/plain": [
              "(891, 6)"
            ]
          },
          "metadata": {
            "tags": []
          },
          "execution_count": 3
        }
      ]
    },
    {
      "cell_type": "markdown",
      "metadata": {
        "id": "qUFzvAcTZ6IL",
        "colab_type": "text"
      },
      "source": [
        "**We create different models, we take in to account the ensemble of Support vector classifiers and Logistic Regression. **"
      ]
    },
    {
      "cell_type": "code",
      "metadata": {
        "id": "WYk6rVh4ur-w",
        "colab_type": "code",
        "outputId": "7ce09657-952f-40e8-df38-d4fa2de672d2",
        "colab": {
          "base_uri": "https://localhost:8080/",
          "height": 88
        }
      },
      "source": [
        "from sklearn.linear_model import LogisticRegression\n",
        "from sklearn.model_selection import train_test_split\n",
        "from sklearn.tree import DecisionTreeClassifier\n",
        "from sklearn.svm import SVC\n",
        "classifier3=SVC(probability=True)\n",
        "from sklearn.metrics import roc_auc_score,accuracy_score\n",
        "x_train,x_val,y_train,y_val=train_test_split(X_train,Y_train,test_size=0.2,random_state=9)\n",
        "classifier=LogisticRegression(random_state=0)\n",
        "classifier.fit(x_train,y_train)\n",
        "ypred=classifier.predict(x_val)\n",
        "print(\"Accuracy score of LR\",roc_auc_score(y_val,ypred))\n",
        "y_prob=classifier.predict_proba(x_val)\n",
        "df=pd.DataFrame()\n",
        "df['pred']=ypred\n",
        "survived=pd.get_dummies(df.pred,prefix='Survived')\n",
        "df=pd.concat([df,survived],axis=1)\n",
        "df.drop('pred',inplace=True,axis=1)\n",
        "df2=pd.DataFrame()\n",
        "classifier3.fit(x_train,y_train)\n",
        "ypred3=classifier3.predict(x_val)\n",
        "print(\"Accuracy score of SVM\",roc_auc_score(y_val,ypred3))\n",
        "df2['pred']=ypred3\n",
        "y_prob3=classifier3.predict_proba(x_val)\n",
        "survived2=pd.get_dummies(df2.pred,prefix='Surviveds')\n",
        "df=pd.concat([df,survived2],axis=1)"
      ],
      "execution_count": 0,
      "outputs": [
        {
          "output_type": "stream",
          "text": [
            "Accuracy score of LR 0.7487974683544305\n",
            "Accuracy score of SVM 0.7654430379746835\n"
          ],
          "name": "stdout"
        },
        {
          "output_type": "execute_result",
          "data": {
            "text/plain": [
              "'from sklearn.cluster import KMeans\\nkmeans = KMeans(n_clusters=2,init=\\'k-means++\\')\\nkmeans.fit(x_train,y_train)\\nk_pred=kmeans.predict(x_val)\\naccuracy_score(y_val,k_pred)\\ndf_kmeans=pd.DataFrame()\\ndf_kmeans[\\'Survived_k\\']=k_pred\\nsurvivedk=pd.get_dummies(df_kmeans.Survived_k,prefix=\\'Survivedk\\')\\ndf[\\'Survivedk_0\\']=survivedk[\\'Survivedk_0\\']\\ndf[\\'Survivedk_1\\']=survivedk[\\'Survivedk_1\\']\\nprint(\"Accuracy score of Kmeans\",accuracy_score(y_val,k_pred))'"
            ]
          },
          "metadata": {
            "tags": []
          },
          "execution_count": 4
        }
      ]
    },
    {
      "cell_type": "code",
      "metadata": {
        "id": "NgYnJERI6n7_",
        "colab_type": "code",
        "outputId": "e7fb1b2d-8c2f-44e9-b918-5c66f7edfba2",
        "colab": {
          "base_uri": "https://localhost:8080/",
          "height": 34
        }
      },
      "source": [
        "x_val.shape"
      ],
      "execution_count": 0,
      "outputs": [
        {
          "output_type": "execute_result",
          "data": {
            "text/plain": [
              "(179, 6)"
            ]
          },
          "metadata": {
            "tags": []
          },
          "execution_count": 5
        }
      ]
    },
    {
      "cell_type": "code",
      "metadata": {
        "id": "gL0l0l-l4oO-",
        "colab_type": "code",
        "colab": {}
      },
      "source": [
        ""
      ],
      "execution_count": 0,
      "outputs": []
    },
    {
      "cell_type": "code",
      "metadata": {
        "id": "--kB3nvI6HkC",
        "colab_type": "code",
        "outputId": "13cd95de-47c4-4356-c9c2-bd2c444cc219",
        "colab": {
          "base_uri": "https://localhost:8080/",
          "height": 34
        }
      },
      "source": [
        "x_train.shape"
      ],
      "execution_count": 0,
      "outputs": [
        {
          "output_type": "execute_result",
          "data": {
            "text/plain": [
              "(712, 6)"
            ]
          },
          "metadata": {
            "tags": []
          },
          "execution_count": 6
        }
      ]
    },
    {
      "cell_type": "code",
      "metadata": {
        "id": "Nc3lJQrV-crC",
        "colab_type": "code",
        "colab": {}
      },
      "source": [
        ""
      ],
      "execution_count": 0,
      "outputs": []
    },
    {
      "cell_type": "code",
      "metadata": {
        "id": "c1GfoQLj55ll",
        "colab_type": "code",
        "colab": {}
      },
      "source": [
        ""
      ],
      "execution_count": 0,
      "outputs": []
    },
    {
      "cell_type": "code",
      "metadata": {
        "id": "KA1O2adF-z-J",
        "colab_type": "code",
        "outputId": "7b326841-06b8-4451-f4e2-6d00473f5d21",
        "colab": {
          "base_uri": "https://localhost:8080/",
          "height": 712
        }
      },
      "source": [
        "import keras\n",
        "from keras.models import Sequential\n",
        "from keras.layers import Conv1D,MaxPooling1D,Dense,Flatten\n",
        "classifier = Sequential()\n",
        "classifier.add(Dense(output_dim = 3, init = 'uniform', activation = 'relu', input_dim = 6))\n",
        "classifier.add(Dense(output_dim = 2, init = 'uniform', activation = 'relu'))\n",
        "classifier.add(Dense(output_dim = 1, init = 'uniform', activation = 'sigmoid'))\n",
        "classifier.compile(optimizer = 'adam', loss = 'binary_crossentropy', metrics = ['accuracy'])\n",
        "classifier.fit(x_train, y_train, epochs=1000, verbose=0)\n",
        "prediction = classifier.predict(x_val).tolist()\n",
        "se = pd.Series(prediction)\n",
        "data_check=pd.Series()\n",
        "data_check['check'] = se\n",
        "data_check['check'] = data_check['check'].str.get(0)\n",
        "series = []\n",
        "for val in data_check.check:\n",
        "    if val >= 0.5:\n",
        "        series.append(1)\n",
        "    else:\n",
        "        series.append(0)\n",
        "roc_auc_score(y_val,series)      "
      ],
      "execution_count": 0,
      "outputs": [
        {
          "output_type": "stream",
          "text": [
            "Using TensorFlow backend.\n"
          ],
          "name": "stderr"
        },
        {
          "output_type": "display_data",
          "data": {
            "text/html": [
              "<p style=\"color: red;\">\n",
              "The default version of TensorFlow in Colab will soon switch to TensorFlow 2.x.<br>\n",
              "We recommend you <a href=\"https://www.tensorflow.org/guide/migrate\" target=\"_blank\">upgrade</a> now \n",
              "or ensure your notebook will continue to use TensorFlow 1.x via the <code>%tensorflow_version 1.x</code> magic:\n",
              "<a href=\"https://colab.research.google.com/notebooks/tensorflow_version.ipynb\" target=\"_blank\">more info</a>.</p>\n"
            ],
            "text/plain": [
              "<IPython.core.display.HTML object>"
            ]
          },
          "metadata": {
            "tags": []
          }
        },
        {
          "output_type": "stream",
          "text": [
            "WARNING:tensorflow:From /usr/local/lib/python3.6/dist-packages/keras/backend/tensorflow_backend.py:66: The name tf.get_default_graph is deprecated. Please use tf.compat.v1.get_default_graph instead.\n",
            "\n",
            "WARNING:tensorflow:From /usr/local/lib/python3.6/dist-packages/keras/backend/tensorflow_backend.py:541: The name tf.placeholder is deprecated. Please use tf.compat.v1.placeholder instead.\n",
            "\n",
            "WARNING:tensorflow:From /usr/local/lib/python3.6/dist-packages/keras/backend/tensorflow_backend.py:4432: The name tf.random_uniform is deprecated. Please use tf.random.uniform instead.\n",
            "\n",
            "WARNING:tensorflow:From /usr/local/lib/python3.6/dist-packages/keras/optimizers.py:793: The name tf.train.Optimizer is deprecated. Please use tf.compat.v1.train.Optimizer instead.\n",
            "\n",
            "WARNING:tensorflow:From /usr/local/lib/python3.6/dist-packages/keras/backend/tensorflow_backend.py:3657: The name tf.log is deprecated. Please use tf.math.log instead.\n",
            "\n",
            "WARNING:tensorflow:From /usr/local/lib/python3.6/dist-packages/tensorflow_core/python/ops/nn_impl.py:183: where (from tensorflow.python.ops.array_ops) is deprecated and will be removed in a future version.\n",
            "Instructions for updating:\n",
            "Use tf.where in 2.0, which has the same broadcast rule as np.where\n"
          ],
          "name": "stdout"
        },
        {
          "output_type": "stream",
          "text": [
            "/usr/local/lib/python3.6/dist-packages/ipykernel_launcher.py:5: UserWarning: Update your `Dense` call to the Keras 2 API: `Dense(activation=\"relu\", input_dim=6, units=3, kernel_initializer=\"uniform\")`\n",
            "  \"\"\"\n",
            "/usr/local/lib/python3.6/dist-packages/ipykernel_launcher.py:6: UserWarning: Update your `Dense` call to the Keras 2 API: `Dense(activation=\"relu\", units=2, kernel_initializer=\"uniform\")`\n",
            "  \n",
            "/usr/local/lib/python3.6/dist-packages/ipykernel_launcher.py:7: UserWarning: Update your `Dense` call to the Keras 2 API: `Dense(activation=\"sigmoid\", units=1, kernel_initializer=\"uniform\")`\n",
            "  import sys\n"
          ],
          "name": "stderr"
        },
        {
          "output_type": "stream",
          "text": [
            "WARNING:tensorflow:From /usr/local/lib/python3.6/dist-packages/keras/backend/tensorflow_backend.py:1033: The name tf.assign_add is deprecated. Please use tf.compat.v1.assign_add instead.\n",
            "\n",
            "WARNING:tensorflow:From /usr/local/lib/python3.6/dist-packages/keras/backend/tensorflow_backend.py:1020: The name tf.assign is deprecated. Please use tf.compat.v1.assign instead.\n",
            "\n",
            "WARNING:tensorflow:From /usr/local/lib/python3.6/dist-packages/keras/backend/tensorflow_backend.py:3005: The name tf.Session is deprecated. Please use tf.compat.v1.Session instead.\n",
            "\n",
            "WARNING:tensorflow:From /usr/local/lib/python3.6/dist-packages/keras/backend/tensorflow_backend.py:190: The name tf.get_default_session is deprecated. Please use tf.compat.v1.get_default_session instead.\n",
            "\n",
            "WARNING:tensorflow:From /usr/local/lib/python3.6/dist-packages/keras/backend/tensorflow_backend.py:197: The name tf.ConfigProto is deprecated. Please use tf.compat.v1.ConfigProto instead.\n",
            "\n",
            "WARNING:tensorflow:From /usr/local/lib/python3.6/dist-packages/keras/backend/tensorflow_backend.py:207: The name tf.global_variables is deprecated. Please use tf.compat.v1.global_variables instead.\n",
            "\n",
            "WARNING:tensorflow:From /usr/local/lib/python3.6/dist-packages/keras/backend/tensorflow_backend.py:216: The name tf.is_variable_initialized is deprecated. Please use tf.compat.v1.is_variable_initialized instead.\n",
            "\n",
            "WARNING:tensorflow:From /usr/local/lib/python3.6/dist-packages/keras/backend/tensorflow_backend.py:223: The name tf.variables_initializer is deprecated. Please use tf.compat.v1.variables_initializer instead.\n",
            "\n"
          ],
          "name": "stdout"
        },
        {
          "output_type": "execute_result",
          "data": {
            "text/plain": [
              "0.7487974683544305"
            ]
          },
          "metadata": {
            "tags": []
          },
          "execution_count": 7
        }
      ]
    },
    {
      "cell_type": "code",
      "metadata": {
        "id": "n0Lreqvq7jIk",
        "colab_type": "code",
        "outputId": "33117469-2ac1-4cf7-ed1b-821f075599e4",
        "colab": {
          "base_uri": "https://localhost:8080/",
          "height": 34
        }
      },
      "source": [
        "dt=DecisionTreeClassifier()\n",
        "dt.fit(x_train,y_train)\n",
        "d_pred=dt.predict(x_val)\n",
        "d_prob=dt.predict_proba(x_val)\n",
        "accuracy_score(y_val,d_pred)\n",
        "df_dt=pd.DataFrame()\n",
        "df_dt['Survived_k']=d_pred\n",
        "survivedt=pd.get_dummies(df_dt.Survived_k,prefix='Survivedk')\n",
        "df['Survivedt_0']=survivedt['Survivedk_0']\n",
        "df['Survivedt_1']=survivedt['Survivedk_1']\n",
        "print(\"Accuracy score of DT\",roc_auc_score(y_val,d_pred))"
      ],
      "execution_count": 0,
      "outputs": [
        {
          "output_type": "stream",
          "text": [
            "Accuracy score of DT 0.7181645569620253\n"
          ],
          "name": "stdout"
        }
      ]
    },
    {
      "cell_type": "code",
      "metadata": {
        "id": "ZvnlBKcU-6SO",
        "colab_type": "code",
        "outputId": "1ba349ca-9425-41ff-c269-ac92b19e9313",
        "colab": {
          "base_uri": "https://localhost:8080/",
          "height": 34
        }
      },
      "source": [
        "from sklearn.naive_bayes import GaussianNB\n",
        "gb=GaussianNB()\n",
        "gb.fit(x_train,y_train)\n",
        "g_pred=gb.predict(x_val)\n",
        "g_prob=gb.predict_proba(x_val)\n",
        "accuracy_score(y_val,g_pred)\n",
        "df_gb=pd.DataFrame()\n",
        "df_gb['Survived_k']=g_pred\n",
        "survivedg=pd.get_dummies(df_gb.Survived_k,prefix='Survivedg')\n",
        "df['Survivedg_0']=survivedg['Survivedg_0']\n",
        "df['Survivedg_1']=survivedg['Survivedg_1']\n",
        "print(\"Accuracy score of DT\",roc_auc_score(y_val,g_pred))"
      ],
      "execution_count": 0,
      "outputs": [
        {
          "output_type": "stream",
          "text": [
            "Accuracy score of DT 0.7604430379746836\n"
          ],
          "name": "stdout"
        }
      ]
    },
    {
      "cell_type": "code",
      "metadata": {
        "id": "pw4aoMczDrYu",
        "colab_type": "code",
        "outputId": "b59872e1-3dd0-4223-d333-29c9401d47c2",
        "colab": {
          "base_uri": "https://localhost:8080/",
          "height": 34
        }
      },
      "source": [
        "import xgboost as xgb\n",
        "xgb=xgb.XGBClassifier()\n",
        "xgb.fit(x_train,y_train)\n",
        "x_pred=xgb.predict(x_val)\n",
        "x_prob=xgb.predict_proba(x_val)\n",
        "roc_auc_score(y_val,x_pred)"
      ],
      "execution_count": 0,
      "outputs": [
        {
          "output_type": "execute_result",
          "data": {
            "text/plain": [
              "0.7534810126582278"
            ]
          },
          "metadata": {
            "tags": []
          },
          "execution_count": 10
        }
      ]
    },
    {
      "cell_type": "code",
      "metadata": {
        "id": "7OO28HwkE8aQ",
        "colab_type": "code",
        "colab": {}
      },
      "source": [
        ""
      ],
      "execution_count": 0,
      "outputs": []
    },
    {
      "cell_type": "code",
      "metadata": {
        "id": "nRB1np3xabS5",
        "colab_type": "code",
        "colab": {}
      },
      "source": [
        "di=np.sum(df,axis=0)\n",
        "di=np.array(di)\n",
        "df2=pd.DataFrame(df)\n",
        "mi=np.array(df2)\n",
        "dfi=mi/di\n",
        "dfnew=pd.DataFrame(dfi)\n"
      ],
      "execution_count": 0,
      "outputs": []
    },
    {
      "cell_type": "markdown",
      "metadata": {
        "id": "bz2UmAK_YMfw",
        "colab_type": "text"
      },
      "source": [
        "**Implementing Random Forest for comparing the ensemble model with the Random Forest model**"
      ]
    },
    {
      "cell_type": "code",
      "metadata": {
        "id": "Q5KNAxvKLskV",
        "colab_type": "code",
        "outputId": "37d653ec-7f27-4426-8036-6db1728d39bd",
        "colab": {
          "base_uri": "https://localhost:8080/",
          "height": 34
        }
      },
      "source": [
        "from sklearn.ensemble import RandomForestClassifier\n",
        "forest = RandomForestClassifier()\n",
        "forest.fit(x_train, y_train)\n",
        "Y_pred = forest.predict(x_val)\n",
        "print(\"Accuracy score of Random Forest\",roc_auc_score(y_val,Y_pred))"
      ],
      "execution_count": 0,
      "outputs": [
        {
          "output_type": "stream",
          "text": [
            "Accuracy score of Random Forest 0.7334810126582278\n"
          ],
          "name": "stdout"
        }
      ]
    },
    {
      "cell_type": "code",
      "metadata": {
        "id": "Qr7DkMWaUYeD",
        "colab_type": "code",
        "outputId": "0d856b07-52ce-4d31-c6ea-75d0141c0220",
        "colab": {
          "base_uri": "https://localhost:8080/",
          "height": 34
        }
      },
      "source": [
        "from sklearn.neighbors import KNeighborsClassifier\n",
        "knn = KNeighborsClassifier()\n",
        "knn.fit(x_train, y_train)\n",
        "Y_pred2 = knn.predict(x_val)\n",
        "print(\"Accuracy score of Kneighbors\",roc_auc_score(y_val,Y_pred2))"
      ],
      "execution_count": 0,
      "outputs": [
        {
          "output_type": "stream",
          "text": [
            "Accuracy score of Kneighbors 0.7334810126582278\n"
          ],
          "name": "stdout"
        }
      ]
    },
    {
      "cell_type": "code",
      "metadata": {
        "id": "-0hiQxpjL8r8",
        "colab_type": "code",
        "outputId": "7a6a20b5-6350-4d8f-eca4-f0ff48ad3287",
        "colab": {
          "base_uri": "https://localhost:8080/",
          "height": 34
        }
      },
      "source": [
        "from sklearn.ensemble import AdaBoostClassifier\n",
        "adb=AdaBoostClassifier(DecisionTreeClassifier(max_depth=1), n_estimators=100)\n",
        "adb.fit(x_train,y_train)\n",
        "a_pred=adb.predict(x_val)\n",
        "print(\"Auc score\", roc_auc_score(y_val,a_pred))"
      ],
      "execution_count": 0,
      "outputs": [
        {
          "output_type": "stream",
          "text": [
            "Auc score 0.7604430379746836\n"
          ],
          "name": "stdout"
        }
      ]
    },
    {
      "cell_type": "markdown",
      "metadata": {
        "id": "q14_hD5TYfgk",
        "colab_type": "text"
      },
      "source": [
        "**Same, comparing with the Kneareast neighbours algorithm**"
      ]
    },
    {
      "cell_type": "code",
      "metadata": {
        "id": "gnbnS6SPv2P_",
        "colab_type": "code",
        "outputId": "e28a54fd-cf70-44a3-8ccd-78dae9bc7f3d",
        "colab": {
          "base_uri": "https://localhost:8080/",
          "height": 419
        }
      },
      "source": [
        "df"
      ],
      "execution_count": 0,
      "outputs": [
        {
          "output_type": "execute_result",
          "data": {
            "text/html": [
              "<div>\n",
              "<style scoped>\n",
              "    .dataframe tbody tr th:only-of-type {\n",
              "        vertical-align: middle;\n",
              "    }\n",
              "\n",
              "    .dataframe tbody tr th {\n",
              "        vertical-align: top;\n",
              "    }\n",
              "\n",
              "    .dataframe thead th {\n",
              "        text-align: right;\n",
              "    }\n",
              "</style>\n",
              "<table border=\"1\" class=\"dataframe\">\n",
              "  <thead>\n",
              "    <tr style=\"text-align: right;\">\n",
              "      <th></th>\n",
              "      <th>Survived_0</th>\n",
              "      <th>Survived_1</th>\n",
              "      <th>Surviveds_0</th>\n",
              "      <th>Surviveds_1</th>\n",
              "      <th>Survivedt_0</th>\n",
              "      <th>Survivedt_1</th>\n",
              "      <th>Survivedg_0</th>\n",
              "      <th>Survivedg_1</th>\n",
              "    </tr>\n",
              "  </thead>\n",
              "  <tbody>\n",
              "    <tr>\n",
              "      <th>0</th>\n",
              "      <td>1</td>\n",
              "      <td>0</td>\n",
              "      <td>0</td>\n",
              "      <td>1</td>\n",
              "      <td>1</td>\n",
              "      <td>0</td>\n",
              "      <td>0</td>\n",
              "      <td>1</td>\n",
              "    </tr>\n",
              "    <tr>\n",
              "      <th>1</th>\n",
              "      <td>1</td>\n",
              "      <td>0</td>\n",
              "      <td>1</td>\n",
              "      <td>0</td>\n",
              "      <td>1</td>\n",
              "      <td>0</td>\n",
              "      <td>1</td>\n",
              "      <td>0</td>\n",
              "    </tr>\n",
              "    <tr>\n",
              "      <th>2</th>\n",
              "      <td>1</td>\n",
              "      <td>0</td>\n",
              "      <td>1</td>\n",
              "      <td>0</td>\n",
              "      <td>1</td>\n",
              "      <td>0</td>\n",
              "      <td>1</td>\n",
              "      <td>0</td>\n",
              "    </tr>\n",
              "    <tr>\n",
              "      <th>3</th>\n",
              "      <td>1</td>\n",
              "      <td>0</td>\n",
              "      <td>1</td>\n",
              "      <td>0</td>\n",
              "      <td>1</td>\n",
              "      <td>0</td>\n",
              "      <td>1</td>\n",
              "      <td>0</td>\n",
              "    </tr>\n",
              "    <tr>\n",
              "      <th>4</th>\n",
              "      <td>1</td>\n",
              "      <td>0</td>\n",
              "      <td>0</td>\n",
              "      <td>1</td>\n",
              "      <td>1</td>\n",
              "      <td>0</td>\n",
              "      <td>0</td>\n",
              "      <td>1</td>\n",
              "    </tr>\n",
              "    <tr>\n",
              "      <th>...</th>\n",
              "      <td>...</td>\n",
              "      <td>...</td>\n",
              "      <td>...</td>\n",
              "      <td>...</td>\n",
              "      <td>...</td>\n",
              "      <td>...</td>\n",
              "      <td>...</td>\n",
              "      <td>...</td>\n",
              "    </tr>\n",
              "    <tr>\n",
              "      <th>174</th>\n",
              "      <td>0</td>\n",
              "      <td>1</td>\n",
              "      <td>0</td>\n",
              "      <td>1</td>\n",
              "      <td>1</td>\n",
              "      <td>0</td>\n",
              "      <td>0</td>\n",
              "      <td>1</td>\n",
              "    </tr>\n",
              "    <tr>\n",
              "      <th>175</th>\n",
              "      <td>0</td>\n",
              "      <td>1</td>\n",
              "      <td>0</td>\n",
              "      <td>1</td>\n",
              "      <td>0</td>\n",
              "      <td>1</td>\n",
              "      <td>0</td>\n",
              "      <td>1</td>\n",
              "    </tr>\n",
              "    <tr>\n",
              "      <th>176</th>\n",
              "      <td>1</td>\n",
              "      <td>0</td>\n",
              "      <td>1</td>\n",
              "      <td>0</td>\n",
              "      <td>1</td>\n",
              "      <td>0</td>\n",
              "      <td>1</td>\n",
              "      <td>0</td>\n",
              "    </tr>\n",
              "    <tr>\n",
              "      <th>177</th>\n",
              "      <td>0</td>\n",
              "      <td>1</td>\n",
              "      <td>0</td>\n",
              "      <td>1</td>\n",
              "      <td>0</td>\n",
              "      <td>1</td>\n",
              "      <td>0</td>\n",
              "      <td>1</td>\n",
              "    </tr>\n",
              "    <tr>\n",
              "      <th>178</th>\n",
              "      <td>0</td>\n",
              "      <td>1</td>\n",
              "      <td>0</td>\n",
              "      <td>1</td>\n",
              "      <td>0</td>\n",
              "      <td>1</td>\n",
              "      <td>0</td>\n",
              "      <td>1</td>\n",
              "    </tr>\n",
              "  </tbody>\n",
              "</table>\n",
              "<p>179 rows × 8 columns</p>\n",
              "</div>"
            ],
            "text/plain": [
              "     Survived_0  Survived_1  Surviveds_0  ...  Survivedt_1  Survivedg_0  Survivedg_1\n",
              "0             1           0            0  ...            0            0            1\n",
              "1             1           0            1  ...            0            1            0\n",
              "2             1           0            1  ...            0            1            0\n",
              "3             1           0            1  ...            0            1            0\n",
              "4             1           0            0  ...            0            0            1\n",
              "..          ...         ...          ...  ...          ...          ...          ...\n",
              "174           0           1            0  ...            0            0            1\n",
              "175           0           1            0  ...            1            0            1\n",
              "176           1           0            1  ...            0            1            0\n",
              "177           0           1            0  ...            1            0            1\n",
              "178           0           1            0  ...            1            0            1\n",
              "\n",
              "[179 rows x 8 columns]"
            ]
          },
          "metadata": {
            "tags": []
          },
          "execution_count": 19
        }
      ]
    },
    {
      "cell_type": "markdown",
      "metadata": {
        "id": "MXCw8kQObWVU",
        "colab_type": "text"
      },
      "source": [
        "**Generating normalized matrices Km and Kc using the method mentioned in paper 2.**"
      ]
    },
    {
      "cell_type": "code",
      "metadata": {
        "id": "CepLLTmuv3FV",
        "colab_type": "code",
        "colab": {}
      },
      "source": [
        "m=np.array(df)\n",
        "s=np.zeros(shape=(m.shape[0],m.shape[0]))\n",
        "for i in range(m.shape[0]):\n",
        "  for j in range(m.shape[0]):\n",
        "    if i!=j:\n",
        "      sum1=0\n",
        "      for k in range(2,m.shape[1]):\n",
        "        sum1=sum1+(m[i][k]*m[j][k])\n",
        "      s[i][j]=sum1\n",
        "w=s\n",
        "d=np.zeros(shape=w.shape[0])\n",
        "for i in range(d.shape[0]):\n",
        "  d[i]=np.sum(w[i],axis=0)\n",
        "wnew=w/d.reshape(d.shape[0],1)\n",
        "Km=wnew     "
      ],
      "execution_count": 0,
      "outputs": []
    },
    {
      "cell_type": "code",
      "metadata": {
        "id": "fAXa0hD-GtFS",
        "colab_type": "code",
        "colab": {}
      },
      "source": [
        "m=np.array(dfnew)\n",
        "s=np.zeros(shape=(m.shape[0],m.shape[0]))\n",
        "for i in range(m.shape[0]):\n",
        "  for j in range(m.shape[0]):\n",
        "    if i!=j:\n",
        "      sum1=0\n",
        "      for k in range(2,m.shape[1]):\n",
        "        sum1=sum1+(m[i][k]*m[j][k])\n",
        "      s[i][j]=sum1\n",
        "w1=s\n",
        "d=np.zeros(shape=w.shape[0])\n",
        "for i in range(d.shape[0]):\n",
        "  d[i]=np.sum(w[i],axis=0)\n",
        "wnew1=w1/d.reshape(d.shape[0],1)\n",
        "Km1=wnew1 "
      ],
      "execution_count": 0,
      "outputs": []
    },
    {
      "cell_type": "markdown",
      "metadata": {
        "id": "ir_FOeVcboVq",
        "colab_type": "text"
      },
      "source": [
        "**Checking whether the matrices have been normalized or not i.e making them bistochastic **"
      ]
    },
    {
      "cell_type": "markdown",
      "metadata": {
        "id": "p0ZiuK9nb9Cw",
        "colab_type": "text"
      },
      "source": [
        "Similarly for Kc we generate a bistochastic matrix where m=the co-occurence matrix."
      ]
    },
    {
      "cell_type": "code",
      "metadata": {
        "id": "MHn5XuG72Ijh",
        "colab_type": "code",
        "outputId": "14716c7a-6f9f-4b8a-f3c2-6574f78a700d",
        "colab": {
          "base_uri": "https://localhost:8080/",
          "height": 238
        }
      },
      "source": [
        "m=np.array(df)\n",
        "s=np.zeros(shape=(m.shape[0],m.shape[0]))\n",
        "for i in range(m.shape[0]):\n",
        "  for j in range(m.shape[0]):\n",
        "    if i!=j:\n",
        "      sum1=0\n",
        "      for k in range(2,m.shape[1]):\n",
        "        sum1=sum1+(m[i][k]*m[j][k])\n",
        "      s[i][j]=sum1\n",
        "m=s   \n",
        "s=np.zeros(shape=(m.shape[0],m.shape[0]))\n",
        "for i in range(m.shape[0]):\n",
        "  for j in range(m.shape[0]):\n",
        "    if i!=j:\n",
        "      sum1=0\n",
        "      for k in range(2,m.shape[1]):\n",
        "        sum1=sum1+(m[i][k]*m[j][k])\n",
        "      s[i][j]=sum1   \n",
        "d=np.zeros(shape=w.shape[0])\n",
        "w=s\n",
        "for i in range(d.shape[0]):\n",
        "  d[i]=np.sum(w[i],axis=0)\n",
        "wnew=w/d.reshape(d.shape[0],1)  \n",
        "Kc=wnew\n",
        "Kc"
      ],
      "execution_count": 0,
      "outputs": [
        {
          "output_type": "execute_result",
          "data": {
            "text/plain": [
              "array([[0.        , 0.00552127, 0.00547891, ..., 0.00547891, 0.00553539,\n",
              "        0.00553539],\n",
              "       [0.00324409, 0.        , 0.0082969 , ..., 0.0082969 , 0.00036506,\n",
              "        0.00036506],\n",
              "       [0.00324741, 0.0083696 , 0.        , ..., 0.00829428, 0.00036826,\n",
              "        0.00036826],\n",
              "       ...,\n",
              "       [0.00324741, 0.0083696 , 0.00829428, ..., 0.        , 0.00036826,\n",
              "        0.00036826],\n",
              "       [0.01125984, 0.00126386, 0.00126386, ..., 0.00126386, 0.        ,\n",
              "        0.01373011],\n",
              "       [0.01125984, 0.00126386, 0.00126386, ..., 0.00126386, 0.01373011,\n",
              "        0.        ]])"
            ]
          },
          "metadata": {
            "tags": []
          },
          "execution_count": 32
        }
      ]
    },
    {
      "cell_type": "markdown",
      "metadata": {
        "id": "SAFnKTDscdnX",
        "colab_type": "text"
      },
      "source": [
        "**Same, checking for bi-stochastic behaviour**"
      ]
    },
    {
      "cell_type": "markdown",
      "metadata": {
        "id": "qmJ1FML0ckLi",
        "colab_type": "text"
      },
      "source": [
        "**Generating Fg and Fo i'e the Group class matrix and Object Class matrix**"
      ]
    },
    {
      "cell_type": "code",
      "metadata": {
        "id": "DTO5d9Ay2Xc5",
        "colab_type": "code",
        "outputId": "4f37c8d2-1de4-45d1-abcd-a3e8fb27367e",
        "colab": {
          "base_uri": "https://localhost:8080/",
          "height": 1000
        }
      },
      "source": [
        "objclass_mat1=pd.DataFrame(y_prob,columns=['Survived','NotSurvived'])\n",
        "objclass_mat2=pd.DataFrame(y_prob3,columns=['Survived','NotSurvived'])\n",
        "objclass_mat3=pd.DataFrame(d_prob,columns=['Survived','NotSurvived'])\n",
        "objclass_mat4=pd.DataFrame(g_prob,columns=['Survived','NotSurvived'])\n",
        "df_t=pd.DataFrame(objclass_mat1)\n",
        "df_t['Survived2']=objclass_mat2['Survived']\n",
        "df_t['NotSurvived2']=objclass_mat2['NotSurvived']\n",
        "df_t['Survived3']=objclass_mat3['Survived']\n",
        "df_t['NotSurvived3']=objclass_mat3['NotSurvived']\n",
        "df_t['Survived4']=objclass_mat4['Survived']\n",
        "df_t['NotSurvived4']=objclass_mat4['NotSurvived']\n",
        "G=8\n",
        "C=2\n",
        "m=G/2\n",
        "n=df_t.shape[0]\n",
        "dft=np.array(df_t)\n",
        "Fo=np.zeros(shape=(n,C))\n",
        "for i in range(n):\n",
        "  sum1=0\n",
        "  for j in range(0,G,2):\n",
        "    sum1=sum1+dft[i][j]\n",
        "  Fo[i][0]=sum1/m \n",
        "  sum2=0\n",
        "  for j in range(1,G,2):\n",
        "    sum2=sum2+dft[i][j]\n",
        "  Fo[i][1]=sum2/m\n",
        "gpclass_mat=pd.DataFrame(columns=['Survived','NotSurvived'],index=['class1surv','class1notsurv','class2surv','class2notsurv'])\n",
        "prob1s=np.sum(objclass_mat1.Survived)/len(objclass_mat1)\n",
        "prob1ns=np.sum(objclass_mat1.NotSurvived)/len(objclass_mat1)\n",
        "prob2s=np.sum(objclass_mat2.Survived)/len(objclass_mat2)\n",
        "prob2ns=np.sum(objclass_mat2.NotSurvived)/len(objclass_mat2)\n",
        "list1=[]\n",
        "list1.append(prob1s)\n",
        "list1.append(prob1ns)\n",
        "list1.append(prob2s)\n",
        "list1.append(prob2ns)\n",
        "\n",
        "list2=[]\n",
        "list2.append(prob1ns)\n",
        "list2.append(prob1s)\n",
        "list2.append(prob2ns)\n",
        "list2.append(prob2s)\n",
        "gpclass_mat['Survived']=list1\n",
        "gpclass_mat['NotSurvived']=list2\n",
        "gpclass_mat\n",
        "Fg=np.array(gpclass_mat)\n",
        "Fo"
      ],
      "execution_count": 0,
      "outputs": [
        {
          "output_type": "execute_result",
          "data": {
            "text/plain": [
              "array([[0.39009945, 0.60990055],\n",
              "       [0.92292137, 0.07707863],\n",
              "       [0.95532573, 0.04467427],\n",
              "       [0.80202944, 0.19797056],\n",
              "       [0.36058207, 0.63941793],\n",
              "       [0.9020176 , 0.0979824 ],\n",
              "       [0.73389616, 0.26610384],\n",
              "       [0.9020176 , 0.0979824 ],\n",
              "       [0.14045721, 0.85954279],\n",
              "       [0.80046066, 0.19953934],\n",
              "       [0.89541879, 0.10458121],\n",
              "       [0.73389616, 0.26610384],\n",
              "       [0.9020176 , 0.0979824 ],\n",
              "       [0.9020176 , 0.0979824 ],\n",
              "       [0.04244318, 0.95755682],\n",
              "       [0.91353353, 0.08646647],\n",
              "       [0.89541879, 0.10458121],\n",
              "       [0.2149595 , 0.7850405 ],\n",
              "       [0.20134536, 0.79865464],\n",
              "       [0.87748437, 0.12251563],\n",
              "       [0.91353353, 0.08646647],\n",
              "       [0.8711822 , 0.1288178 ],\n",
              "       [0.27331979, 0.72668021],\n",
              "       [0.9020176 , 0.0979824 ],\n",
              "       [0.87748437, 0.12251563],\n",
              "       [0.39009945, 0.60990055],\n",
              "       [0.9020176 , 0.0979824 ],\n",
              "       [0.9020176 , 0.0979824 ],\n",
              "       [0.9020176 , 0.0979824 ],\n",
              "       [0.08500155, 0.91499845],\n",
              "       [0.9232183 , 0.0767817 ],\n",
              "       [0.9020176 , 0.0979824 ],\n",
              "       [0.3998443 , 0.6001557 ],\n",
              "       [0.20467062, 0.79532938],\n",
              "       [0.28662134, 0.71337866],\n",
              "       [0.95532573, 0.04467427],\n",
              "       [0.06868802, 0.93131198],\n",
              "       [0.9020176 , 0.0979824 ],\n",
              "       [0.89839499, 0.10160501],\n",
              "       [0.27331979, 0.72668021],\n",
              "       [0.37388541, 0.62611459],\n",
              "       [0.95532573, 0.04467427],\n",
              "       [0.06318456, 0.93681544],\n",
              "       [0.81643093, 0.18356907],\n",
              "       [0.73389616, 0.26610384],\n",
              "       [0.87505561, 0.12494439],\n",
              "       [0.92292137, 0.07707863],\n",
              "       [0.89541879, 0.10458121],\n",
              "       [0.89541879, 0.10458121],\n",
              "       [0.92292137, 0.07707863],\n",
              "       [0.59535877, 0.40464123],\n",
              "       [0.89438418, 0.10561582],\n",
              "       [0.9020176 , 0.0979824 ],\n",
              "       [0.07764888, 0.92235112],\n",
              "       [0.79528836, 0.20471164],\n",
              "       [0.89541879, 0.10458121],\n",
              "       [0.27331979, 0.72668021],\n",
              "       [0.16375212, 0.83624788],\n",
              "       [0.86747103, 0.13252897],\n",
              "       [0.41128504, 0.58871496],\n",
              "       [0.24125898, 0.75874102],\n",
              "       [0.34332979, 0.65667021],\n",
              "       [0.1740538 , 0.8259462 ],\n",
              "       [0.87505561, 0.12494439],\n",
              "       [0.09504286, 0.90495714],\n",
              "       [0.06643984, 0.93356016],\n",
              "       [0.0589212 , 0.9410788 ],\n",
              "       [0.9020176 , 0.0979824 ],\n",
              "       [0.76331604, 0.23668396],\n",
              "       [0.8711822 , 0.1288178 ],\n",
              "       [0.8711822 , 0.1288178 ],\n",
              "       [0.9529561 , 0.0470439 ],\n",
              "       [0.9733014 , 0.0266986 ],\n",
              "       [0.34332979, 0.65667021],\n",
              "       [0.84010693, 0.15989307],\n",
              "       [0.8711822 , 0.1288178 ],\n",
              "       [0.73389616, 0.26610384],\n",
              "       [0.831844  , 0.168156  ],\n",
              "       [0.04244318, 0.95755682],\n",
              "       [0.27331979, 0.72668021],\n",
              "       [0.9020176 , 0.0979824 ],\n",
              "       [0.9020176 , 0.0979824 ],\n",
              "       [0.9120778 , 0.0879222 ],\n",
              "       [0.8711822 , 0.1288178 ],\n",
              "       [0.87748437, 0.12251563],\n",
              "       [0.91622106, 0.08377894],\n",
              "       [0.9020176 , 0.0979824 ],\n",
              "       [0.07468486, 0.92531514],\n",
              "       [0.16375212, 0.83624788],\n",
              "       [0.9020176 , 0.0979824 ],\n",
              "       [0.9020176 , 0.0979824 ],\n",
              "       [0.11549543, 0.88450457],\n",
              "       [0.27331979, 0.72668021],\n",
              "       [0.89872623, 0.10127377],\n",
              "       [0.16375212, 0.83624788],\n",
              "       [0.73389616, 0.26610384],\n",
              "       [0.97740159, 0.02259841],\n",
              "       [0.9020176 , 0.0979824 ],\n",
              "       [0.13477482, 0.86522518],\n",
              "       [0.9020176 , 0.0979824 ],\n",
              "       [0.92292137, 0.07707863],\n",
              "       [0.9020176 , 0.0979824 ],\n",
              "       [0.69137492, 0.30862508],\n",
              "       [0.10295804, 0.89704196],\n",
              "       [0.9232183 , 0.0767817 ],\n",
              "       [0.9020176 , 0.0979824 ],\n",
              "       [0.08829826, 0.91170174],\n",
              "       [0.06318456, 0.93681544],\n",
              "       [0.9020176 , 0.0979824 ],\n",
              "       [0.14045721, 0.85954279],\n",
              "       [0.84167753, 0.15832247],\n",
              "       [0.38383823, 0.61616177],\n",
              "       [0.87748437, 0.12251563],\n",
              "       [0.27331979, 0.72668021],\n",
              "       [0.07350302, 0.92649698],\n",
              "       [0.69137492, 0.30862508],\n",
              "       [0.16375212, 0.83624788],\n",
              "       [0.83150325, 0.16849675],\n",
              "       [0.9020176 , 0.0979824 ],\n",
              "       [0.06038953, 0.93961047],\n",
              "       [0.9020176 , 0.0979824 ],\n",
              "       [0.79399299, 0.20600701],\n",
              "       [0.16375212, 0.83624788],\n",
              "       [0.92581416, 0.07418584],\n",
              "       [0.17324523, 0.82675477],\n",
              "       [0.83150325, 0.16849675],\n",
              "       [0.9020176 , 0.0979824 ],\n",
              "       [0.79528836, 0.20471164],\n",
              "       [0.41252516, 0.58747484],\n",
              "       [0.92292137, 0.07707863],\n",
              "       [0.89541879, 0.10458121],\n",
              "       [0.16375212, 0.83624788],\n",
              "       [0.39009945, 0.60990055],\n",
              "       [0.83880909, 0.16119091],\n",
              "       [0.80224436, 0.19775564],\n",
              "       [0.03759646, 0.96240354],\n",
              "       [0.17324523, 0.82675477],\n",
              "       [0.9020176 , 0.0979824 ],\n",
              "       [0.30637299, 0.69362701],\n",
              "       [0.36058207, 0.63941793],\n",
              "       [0.89541879, 0.10458121],\n",
              "       [0.66502781, 0.33497219],\n",
              "       [0.41252516, 0.58747484],\n",
              "       [0.95532573, 0.04467427],\n",
              "       [0.91622106, 0.08377894],\n",
              "       [0.83880909, 0.16119091],\n",
              "       [0.92292137, 0.07707863],\n",
              "       [0.92292137, 0.07707863],\n",
              "       [0.22464518, 0.77535482],\n",
              "       [0.73389616, 0.26610384],\n",
              "       [0.9020176 , 0.0979824 ],\n",
              "       [0.9020176 , 0.0979824 ],\n",
              "       [0.95542107, 0.04457893],\n",
              "       [0.69742138, 0.30257862],\n",
              "       [0.07027458, 0.92972542],\n",
              "       [0.9020176 , 0.0979824 ],\n",
              "       [0.89541879, 0.10458121],\n",
              "       [0.20134536, 0.79865464],\n",
              "       [0.10925489, 0.89074511],\n",
              "       [0.8711822 , 0.1288178 ],\n",
              "       [0.69276555, 0.30723445],\n",
              "       [0.87748437, 0.12251563],\n",
              "       [0.20134536, 0.79865464],\n",
              "       [0.87748437, 0.12251563],\n",
              "       [0.94256575, 0.05743425],\n",
              "       [0.92292137, 0.07707863],\n",
              "       [0.06318456, 0.93681544],\n",
              "       [0.04878919, 0.95121081],\n",
              "       [0.94594333, 0.05405667],\n",
              "       [0.9020176 , 0.0979824 ],\n",
              "       [0.65710092, 0.34289908],\n",
              "       [0.92292137, 0.07707863],\n",
              "       [0.1206747 , 0.8793253 ],\n",
              "       [0.04245328, 0.95754672],\n",
              "       [0.27331979, 0.72668021],\n",
              "       [0.05353218, 0.94646782],\n",
              "       [0.9020176 , 0.0979824 ],\n",
              "       [0.07350302, 0.92649698],\n",
              "       [0.2149595 , 0.7850405 ]])"
            ]
          },
          "metadata": {
            "tags": []
          },
          "execution_count": 34
        }
      ]
    },
    {
      "cell_type": "code",
      "metadata": {
        "id": "Rt3Mzhjc7ti5",
        "colab_type": "code",
        "outputId": "1c895caf-247e-48a1-884c-ab323fbc7179",
        "colab": {
          "base_uri": "https://localhost:8080/",
          "height": 1000
        }
      },
      "source": [
        "Fo"
      ],
      "execution_count": 0,
      "outputs": [
        {
          "output_type": "execute_result",
          "data": {
            "text/plain": [
              "array([[0.39009945, 0.60990055],\n",
              "       [0.92292137, 0.07707863],\n",
              "       [0.95532573, 0.04467427],\n",
              "       [0.80202944, 0.19797056],\n",
              "       [0.36058207, 0.63941793],\n",
              "       [0.9020176 , 0.0979824 ],\n",
              "       [0.73389616, 0.26610384],\n",
              "       [0.9020176 , 0.0979824 ],\n",
              "       [0.14045721, 0.85954279],\n",
              "       [0.80046066, 0.19953934],\n",
              "       [0.89541879, 0.10458121],\n",
              "       [0.73389616, 0.26610384],\n",
              "       [0.9020176 , 0.0979824 ],\n",
              "       [0.9020176 , 0.0979824 ],\n",
              "       [0.04244318, 0.95755682],\n",
              "       [0.91353353, 0.08646647],\n",
              "       [0.89541879, 0.10458121],\n",
              "       [0.2149595 , 0.7850405 ],\n",
              "       [0.20134536, 0.79865464],\n",
              "       [0.87748437, 0.12251563],\n",
              "       [0.91353353, 0.08646647],\n",
              "       [0.8711822 , 0.1288178 ],\n",
              "       [0.27331979, 0.72668021],\n",
              "       [0.9020176 , 0.0979824 ],\n",
              "       [0.87748437, 0.12251563],\n",
              "       [0.39009945, 0.60990055],\n",
              "       [0.9020176 , 0.0979824 ],\n",
              "       [0.9020176 , 0.0979824 ],\n",
              "       [0.9020176 , 0.0979824 ],\n",
              "       [0.08500155, 0.91499845],\n",
              "       [0.9232183 , 0.0767817 ],\n",
              "       [0.9020176 , 0.0979824 ],\n",
              "       [0.3998443 , 0.6001557 ],\n",
              "       [0.20467062, 0.79532938],\n",
              "       [0.28662134, 0.71337866],\n",
              "       [0.95532573, 0.04467427],\n",
              "       [0.06868802, 0.93131198],\n",
              "       [0.9020176 , 0.0979824 ],\n",
              "       [0.89839499, 0.10160501],\n",
              "       [0.27331979, 0.72668021],\n",
              "       [0.37388541, 0.62611459],\n",
              "       [0.95532573, 0.04467427],\n",
              "       [0.06318456, 0.93681544],\n",
              "       [0.81643093, 0.18356907],\n",
              "       [0.73389616, 0.26610384],\n",
              "       [0.87505561, 0.12494439],\n",
              "       [0.92292137, 0.07707863],\n",
              "       [0.89541879, 0.10458121],\n",
              "       [0.89541879, 0.10458121],\n",
              "       [0.92292137, 0.07707863],\n",
              "       [0.59535877, 0.40464123],\n",
              "       [0.89438418, 0.10561582],\n",
              "       [0.9020176 , 0.0979824 ],\n",
              "       [0.07764888, 0.92235112],\n",
              "       [0.79528836, 0.20471164],\n",
              "       [0.89541879, 0.10458121],\n",
              "       [0.27331979, 0.72668021],\n",
              "       [0.16375212, 0.83624788],\n",
              "       [0.86747103, 0.13252897],\n",
              "       [0.41128504, 0.58871496],\n",
              "       [0.24125898, 0.75874102],\n",
              "       [0.34332979, 0.65667021],\n",
              "       [0.1740538 , 0.8259462 ],\n",
              "       [0.87505561, 0.12494439],\n",
              "       [0.09504286, 0.90495714],\n",
              "       [0.06643984, 0.93356016],\n",
              "       [0.0589212 , 0.9410788 ],\n",
              "       [0.9020176 , 0.0979824 ],\n",
              "       [0.76331604, 0.23668396],\n",
              "       [0.8711822 , 0.1288178 ],\n",
              "       [0.8711822 , 0.1288178 ],\n",
              "       [0.9529561 , 0.0470439 ],\n",
              "       [0.9733014 , 0.0266986 ],\n",
              "       [0.34332979, 0.65667021],\n",
              "       [0.84010693, 0.15989307],\n",
              "       [0.8711822 , 0.1288178 ],\n",
              "       [0.73389616, 0.26610384],\n",
              "       [0.831844  , 0.168156  ],\n",
              "       [0.04244318, 0.95755682],\n",
              "       [0.27331979, 0.72668021],\n",
              "       [0.9020176 , 0.0979824 ],\n",
              "       [0.9020176 , 0.0979824 ],\n",
              "       [0.9120778 , 0.0879222 ],\n",
              "       [0.8711822 , 0.1288178 ],\n",
              "       [0.87748437, 0.12251563],\n",
              "       [0.91622106, 0.08377894],\n",
              "       [0.9020176 , 0.0979824 ],\n",
              "       [0.07468486, 0.92531514],\n",
              "       [0.16375212, 0.83624788],\n",
              "       [0.9020176 , 0.0979824 ],\n",
              "       [0.9020176 , 0.0979824 ],\n",
              "       [0.11549543, 0.88450457],\n",
              "       [0.27331979, 0.72668021],\n",
              "       [0.89872623, 0.10127377],\n",
              "       [0.16375212, 0.83624788],\n",
              "       [0.73389616, 0.26610384],\n",
              "       [0.97740159, 0.02259841],\n",
              "       [0.9020176 , 0.0979824 ],\n",
              "       [0.13477482, 0.86522518],\n",
              "       [0.9020176 , 0.0979824 ],\n",
              "       [0.92292137, 0.07707863],\n",
              "       [0.9020176 , 0.0979824 ],\n",
              "       [0.69137492, 0.30862508],\n",
              "       [0.10295804, 0.89704196],\n",
              "       [0.9232183 , 0.0767817 ],\n",
              "       [0.9020176 , 0.0979824 ],\n",
              "       [0.08829826, 0.91170174],\n",
              "       [0.06318456, 0.93681544],\n",
              "       [0.9020176 , 0.0979824 ],\n",
              "       [0.14045721, 0.85954279],\n",
              "       [0.84167753, 0.15832247],\n",
              "       [0.38383823, 0.61616177],\n",
              "       [0.87748437, 0.12251563],\n",
              "       [0.27331979, 0.72668021],\n",
              "       [0.07350302, 0.92649698],\n",
              "       [0.69137492, 0.30862508],\n",
              "       [0.16375212, 0.83624788],\n",
              "       [0.83150325, 0.16849675],\n",
              "       [0.9020176 , 0.0979824 ],\n",
              "       [0.06038953, 0.93961047],\n",
              "       [0.9020176 , 0.0979824 ],\n",
              "       [0.79399299, 0.20600701],\n",
              "       [0.16375212, 0.83624788],\n",
              "       [0.92581416, 0.07418584],\n",
              "       [0.17324523, 0.82675477],\n",
              "       [0.83150325, 0.16849675],\n",
              "       [0.9020176 , 0.0979824 ],\n",
              "       [0.79528836, 0.20471164],\n",
              "       [0.41252516, 0.58747484],\n",
              "       [0.92292137, 0.07707863],\n",
              "       [0.89541879, 0.10458121],\n",
              "       [0.16375212, 0.83624788],\n",
              "       [0.39009945, 0.60990055],\n",
              "       [0.83880909, 0.16119091],\n",
              "       [0.80224436, 0.19775564],\n",
              "       [0.03759646, 0.96240354],\n",
              "       [0.17324523, 0.82675477],\n",
              "       [0.9020176 , 0.0979824 ],\n",
              "       [0.30637299, 0.69362701],\n",
              "       [0.36058207, 0.63941793],\n",
              "       [0.89541879, 0.10458121],\n",
              "       [0.66502781, 0.33497219],\n",
              "       [0.41252516, 0.58747484],\n",
              "       [0.95532573, 0.04467427],\n",
              "       [0.91622106, 0.08377894],\n",
              "       [0.83880909, 0.16119091],\n",
              "       [0.92292137, 0.07707863],\n",
              "       [0.92292137, 0.07707863],\n",
              "       [0.22464518, 0.77535482],\n",
              "       [0.73389616, 0.26610384],\n",
              "       [0.9020176 , 0.0979824 ],\n",
              "       [0.9020176 , 0.0979824 ],\n",
              "       [0.95542107, 0.04457893],\n",
              "       [0.69742138, 0.30257862],\n",
              "       [0.07027458, 0.92972542],\n",
              "       [0.9020176 , 0.0979824 ],\n",
              "       [0.89541879, 0.10458121],\n",
              "       [0.20134536, 0.79865464],\n",
              "       [0.10925489, 0.89074511],\n",
              "       [0.8711822 , 0.1288178 ],\n",
              "       [0.69276555, 0.30723445],\n",
              "       [0.87748437, 0.12251563],\n",
              "       [0.20134536, 0.79865464],\n",
              "       [0.87748437, 0.12251563],\n",
              "       [0.94256575, 0.05743425],\n",
              "       [0.92292137, 0.07707863],\n",
              "       [0.06318456, 0.93681544],\n",
              "       [0.04878919, 0.95121081],\n",
              "       [0.94594333, 0.05405667],\n",
              "       [0.9020176 , 0.0979824 ],\n",
              "       [0.65710092, 0.34289908],\n",
              "       [0.92292137, 0.07707863],\n",
              "       [0.1206747 , 0.8793253 ],\n",
              "       [0.04245328, 0.95754672],\n",
              "       [0.27331979, 0.72668021],\n",
              "       [0.05353218, 0.94646782],\n",
              "       [0.9020176 , 0.0979824 ],\n",
              "       [0.07350302, 0.92649698],\n",
              "       [0.2149595 , 0.7850405 ]])"
            ]
          },
          "metadata": {
            "tags": []
          },
          "execution_count": 35
        }
      ]
    },
    {
      "cell_type": "markdown",
      "metadata": {
        "id": "JRxO_k8tct-4",
        "colab_type": "text"
      },
      "source": [
        "**Similarly, generating  Yo and Yg**"
      ]
    },
    {
      "cell_type": "code",
      "metadata": {
        "id": "ovw7WJ7S2pQc",
        "colab_type": "code",
        "colab": {}
      },
      "source": [
        "n=4\n",
        "C=survived.shape[1]\n",
        "G=survived.shape[1]*n\n",
        "\n",
        "Yo=np.zeros(shape=(df.shape[0],C))\n",
        "cal_y=np.array(df)\n",
        "for i in range(Yo.shape[0]):\n",
        "  Yo[i][0]=(cal_y[i][0]+cal_y[i][2])/C\n",
        "for i in range(Yo.shape[0]):\n",
        "  Yo[i][1]=(cal_y[i][1]+cal_y[i][3])/C"
      ],
      "execution_count": 0,
      "outputs": []
    },
    {
      "cell_type": "code",
      "metadata": {
        "id": "5SR3KDg3q87U",
        "colab_type": "code",
        "outputId": "d25311c2-c127-4fd0-c4da-b17ef36cded9",
        "colab": {
          "base_uri": "https://localhost:8080/",
          "height": 34
        }
      },
      "source": [
        "G"
      ],
      "execution_count": 0,
      "outputs": [
        {
          "output_type": "execute_result",
          "data": {
            "text/plain": [
              "8"
            ]
          },
          "metadata": {
            "tags": []
          },
          "execution_count": 37
        }
      ]
    },
    {
      "cell_type": "code",
      "metadata": {
        "id": "hYZkiSfs2w2I",
        "colab_type": "code",
        "outputId": "fea1f8f3-021e-4587-9d50-0bc73c84b851",
        "colab": {
          "base_uri": "https://localhost:8080/",
          "height": 153
        }
      },
      "source": [
        "m=np.array(df)\n",
        "Yg=np.zeros(shape=(m.shape[1],2))\n",
        "c=np.sum(m,axis=0)\n",
        "for i in range(Yg.shape[0]):\n",
        "  if i%2==0:\n",
        "    Yg[i][0]=c[i]/m.shape[0]\n",
        "    Yg[i][1]=1-Yg[i][0]\n",
        "  else:\n",
        "    Yg[i][1]=c[i]/m.shape[0]\n",
        "    Yg[i][0]=1-Yg[i][1]  \n",
        "Yg"
      ],
      "execution_count": 0,
      "outputs": [
        {
          "output_type": "execute_result",
          "data": {
            "text/plain": [
              "array([[0.67039106, 0.32960894],\n",
              "       [0.67039106, 0.32960894],\n",
              "       [0.62569832, 0.37430168],\n",
              "       [0.62569832, 0.37430168],\n",
              "       [0.73743017, 0.26256983],\n",
              "       [0.73743017, 0.26256983],\n",
              "       [0.62011173, 0.37988827],\n",
              "       [0.62011173, 0.37988827]])"
            ]
          },
          "metadata": {
            "tags": []
          },
          "execution_count": 38
        }
      ]
    },
    {
      "cell_type": "markdown",
      "metadata": {
        "id": "rTa6_2DsdIlO",
        "colab_type": "text"
      },
      "source": [
        "Genearting "
      ]
    },
    {
      "cell_type": "markdown",
      "metadata": {
        "id": "0hcY4DpgduI4",
        "colab_type": "text"
      },
      "source": [
        "Checking for the conditions specified in eq 6"
      ]
    },
    {
      "cell_type": "code",
      "metadata": {
        "id": "QHAljZHU21jH",
        "colab_type": "code",
        "outputId": "bcc30ee3-a984-4154-a8e8-018f392835b1",
        "colab": {
          "base_uri": "https://localhost:8080/",
          "height": 51
        }
      },
      "source": [
        "Fo_cond=True\n",
        "Fg_cond=True\n",
        "for i in range(Fo.shape[0]):\n",
        "  if np.linalg.norm((Fo[i]), ord=1)!=1:\n",
        "    Fo_cond=True\n",
        "for i in range(Fg.shape[0]):\n",
        "  if np.linalg.norm((Fg[i]), ord=1)!=1:\n",
        "    Fg_cond=False    \n",
        "print(Fo_cond)\n",
        "print(Fg_cond)"
      ],
      "execution_count": 0,
      "outputs": [
        {
          "output_type": "stream",
          "text": [
            "True\n",
            "True\n"
          ],
          "name": "stdout"
        }
      ]
    },
    {
      "cell_type": "markdown",
      "metadata": {
        "id": "T7YlgtdbeCFc",
        "colab_type": "text"
      },
      "source": [
        "**Generating diagonal matrices Dm and Dc**"
      ]
    },
    {
      "cell_type": "code",
      "metadata": {
        "id": "a8cG1naJ3Cbk",
        "colab_type": "code",
        "outputId": "38f81616-a664-450f-f54a-db2be074a591",
        "colab": {
          "base_uri": "https://localhost:8080/",
          "height": 51
        }
      },
      "source": [
        "test_dm=np.zeros(shape=(Km.shape))\n",
        "test_Km=Km\n",
        "for i in range(test_Km.shape[0]):\n",
        "  test_dm[i]=np.sum(test_Km[i],axis=0)\n",
        "Dm=np.diag(np.diag(test_dm))\n",
        "print(\"Shape of DM\",Dm.shape)\n",
        "test_dc=np.zeros(shape=(Kc.shape))\n",
        "test_Kc=Kc\n",
        "for i in range(test_Kc.shape[0]):\n",
        "  test_dc[i]=np.sum(test_Kc[i],axis=0)\n",
        "Dc=np.diag(np.diag(test_dc))\n",
        "print(\"shape of Dc\",Dc.shape)"
      ],
      "execution_count": 0,
      "outputs": [
        {
          "output_type": "stream",
          "text": [
            "Shape of DM (179, 179)\n",
            "shape of Dc (179, 179)\n"
          ],
          "name": "stdout"
        }
      ]
    },
    {
      "cell_type": "code",
      "metadata": {
        "id": "Bv1sYezy3Hwa",
        "colab_type": "code",
        "outputId": "cdebf0fb-bd8c-42bc-cebb-3316054f61f9",
        "colab": {
          "base_uri": "https://localhost:8080/",
          "height": 153
        }
      },
      "source": [
        "print(\"KHM\",Km.shape)\n",
        "print(\"KHC\",Kc.shape)\n",
        "print(\"Fo\",Fo.shape)\n",
        "print(\"Fg\",Fg.shape)\n",
        "print(\"Yo\",Yo.shape)\n",
        "print(\"Yg\",Yg.shape)\n",
        "print(\"Dm\",Dm.shape)\n",
        "print(\"Dc\",Dc.shape)"
      ],
      "execution_count": 0,
      "outputs": [
        {
          "output_type": "stream",
          "text": [
            "KHM (179, 179)\n",
            "KHC (179, 179)\n",
            "Fo (179, 2)\n",
            "Fg (4, 2)\n",
            "Yo (179, 2)\n",
            "Yg (8, 2)\n",
            "Dm (179, 179)\n",
            "Dc (179, 179)\n"
          ],
          "name": "stdout"
        }
      ]
    },
    {
      "cell_type": "code",
      "metadata": {
        "id": "dCBI0yrwqzOB",
        "colab_type": "code",
        "colab": {}
      },
      "source": [
        ""
      ],
      "execution_count": 0,
      "outputs": []
    },
    {
      "cell_type": "code",
      "metadata": {
        "id": "I5InaYBP3Lfq",
        "colab_type": "code",
        "outputId": "fcb47156-aabf-49b4-9f3c-e44872bdad0a",
        "colab": {
          "base_uri": "https://localhost:8080/",
          "height": 34
        }
      },
      "source": [
        "Yg=np.pad(Yg,pad_width=[(0, Km.shape[0]-G), (0, 0)])\n",
        "Yg.shape"
      ],
      "execution_count": 0,
      "outputs": [
        {
          "output_type": "execute_result",
          "data": {
            "text/plain": [
              "(179, 2)"
            ]
          },
          "metadata": {
            "tags": []
          },
          "execution_count": 44
        }
      ]
    },
    {
      "cell_type": "code",
      "metadata": {
        "id": "Ro1G66qS5Pzv",
        "colab_type": "code",
        "outputId": "f17e6fa8-9414-456a-fdd9-1e8ca2eb72b7",
        "colab": {
          "base_uri": "https://localhost:8080/",
          "height": 153
        }
      },
      "source": [
        "print(\"KHM\",Km.shape)\n",
        "print(\"KHC\",Kc.shape)\n",
        "print(\"Fo\",Fo.shape)\n",
        "print(\"Fg\",Fg.shape)\n",
        "print(\"Yo\",Yo.shape)\n",
        "print(\"Yg\",Yg.shape)\n",
        "print(\"Dm\",Dm.shape)\n",
        "print(\"Dc\",Dc.shape)"
      ],
      "execution_count": 0,
      "outputs": [
        {
          "output_type": "stream",
          "text": [
            "KHM (179, 179)\n",
            "KHC (179, 179)\n",
            "Fo (179, 2)\n",
            "Fg (4, 2)\n",
            "Yo (179, 2)\n",
            "Yg (179, 2)\n",
            "Dm (179, 179)\n",
            "Dc (179, 179)\n"
          ],
          "name": "stdout"
        }
      ]
    },
    {
      "cell_type": "code",
      "metadata": {
        "id": "4OVQOQf35Tb7",
        "colab_type": "code",
        "colab": {}
      },
      "source": [
        "import sys\n",
        "threshold=sys.float_info.epsilon"
      ],
      "execution_count": 0,
      "outputs": []
    },
    {
      "cell_type": "markdown",
      "metadata": {
        "id": "oTILUgDfeX91",
        "colab_type": "text"
      },
      "source": [
        "**Implementing algorithm 2**"
      ]
    },
    {
      "cell_type": "code",
      "metadata": {
        "id": "NaOULbFt5XBQ",
        "colab_type": "code",
        "colab": {}
      },
      "source": [
        "alpha=0.40\n",
        "beta=0.35\n",
        "gamma=0.45\n",
        "delta=0.5\n",
        "Fo_t=np.zeros(shape=Fo.shape)\n",
        "Fg_t=np.zeros(shape=Fg.shape)\n",
        "Fot_old=np.zeros(shape=Fo.shape)\n",
        "Fo_t=Fo\n",
        "Fg_t=Fg\n",
        "while LA.norm((Fo_t-Fot_old),'fro')>threshold:\n",
        "  Fot_old=Fo_t\n",
        "  Fg_t=np.matmul((np.linalg.inv(2*delta*np.ones(shape=Dm.shape)+(alpha*Dm))),((alpha*np.matmul(Km,Fo_t))+(2*delta*Yg)))\n",
        "  Fo_t=np.matmul((np.linalg.inv((alpha*Dm)+(2*beta*Dc)-(beta*np.matmul(np.identity(Kc.shape[0]),Kc))-(beta*np.matmul(np.ones(shape=Kc.shape),Kc))+(2*gamma*np.identity(Kc.shape[0])))),((alpha*np.matmul(Km,Fg_t))+(2*gamma*Yo)))"
      ],
      "execution_count": 0,
      "outputs": []
    },
    {
      "cell_type": "code",
      "metadata": {
        "id": "ZhH4nVo_5e6_",
        "colab_type": "code",
        "outputId": "91b17a3a-2d82-4caf-c432-1f5dd0c79087",
        "colab": {
          "base_uri": "https://localhost:8080/",
          "height": 119
        }
      },
      "source": [
        "from sklearn.metrics import accuracy_score\n",
        "result=np.zeros(shape=Fo_t.shape[0])\n",
        "for i in range(Fo_t.shape[0]):\n",
        "  if Fo_t[i][0]<Fo_t[i][1]:\n",
        "    result[i]=1\n",
        "print(\"Accuracy value for Ensemble model\",accuracy_score(y_val,result))\n",
        "print(\"AUC for for Ensemble model\",roc_auc_score(y_val,result))\n",
        "print(\"Accuracy value for LR\",accuracy_score(y_val,ypred))\n",
        "print(\"AUC for for LR\",roc_auc_score(y_val,ypred))\n",
        "print(\"Accuracy value for bagging Random Forest\",accuracy_score(y_val,ypred))\n",
        "print(\"AUC for for bagging Random Forest\",roc_auc_score(y_val,ypred))\n"
      ],
      "execution_count": 0,
      "outputs": [
        {
          "output_type": "stream",
          "text": [
            "Accuracy value for Ensemble model 0.776536312849162\n",
            "AUC for for Ensemble model 0.7667721518987343\n",
            "Accuracy value for LR 0.7653631284916201\n",
            "AUC for for LR 0.7487974683544305\n",
            "Accuracy value for bagging Random Forest 0.7653631284916201\n",
            "AUC for for bagging Random Forest 0.7487974683544305\n"
          ],
          "name": "stdout"
        }
      ]
    },
    {
      "cell_type": "markdown",
      "metadata": {
        "id": "cUskNBtfe5C7",
        "colab_type": "text"
      },
      "source": [
        "**We see that the ensemble model performs better than the Random forest, Kneigbours and Svm models and is at par with the Logistic regression model that gives us the best accuracy. **"
      ]
    },
    {
      "cell_type": "code",
      "metadata": {
        "id": "4PPCRZWO5qq9",
        "colab_type": "code",
        "colab": {}
      },
      "source": [
        "\n",
        "     "
      ],
      "execution_count": 0,
      "outputs": []
    }
  ]
}