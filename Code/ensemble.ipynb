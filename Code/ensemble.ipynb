{
  "nbformat": 4,
  "nbformat_minor": 0,
  "metadata": {
    "colab": {
      "name": "Untitled137.ipynb",
      "provenance": [],
      "collapsed_sections": [],
      "include_colab_link": true
    },
    "kernelspec": {
      "name": "python3",
      "display_name": "Python 3"
    }
  },
  "cells": [
    {
      "cell_type": "markdown",
      "metadata": {
        "id": "view-in-github",
        "colab_type": "text"
      },
      "source": [
        "<a href=\"https://colab.research.google.com/github/manjotmb20/EC3/blob/master/ensemble.ipynb\" target=\"_parent\"><img src=\"https://colab.research.google.com/assets/colab-badge.svg\" alt=\"Open In Colab\"/></a>"
      ]
    },
    {
      "cell_type": "markdown",
      "metadata": {
        "id": "hrlRB_SFm1TR",
        "colab_type": "text"
      },
      "source": [
        "**Defining the dataset and some preprocessing for model building**"
      ]
    },
    {
      "cell_type": "code",
      "metadata": {
        "id": "hsSd5krll05F",
        "colab_type": "code",
        "colab": {
          "base_uri": "https://localhost:8080/",
          "height": 105
        },
        "outputId": "7df293cb-22b5-4780-9d19-b77a55573750"
      },
      "source": [
        "import numpy as np\n",
        "import matplotlib.pyplot as plt\n",
        "import pandas as pd\n",
        "import seaborn as sns\n",
        "from sklearn.preprocessing import LabelEncoder\n",
        "from sklearn.preprocessing import StandardScaler\n",
        "from sklearn.preprocessing import OneHotEncoder\n",
        "from numpy import linalg as LA\n",
        "\n",
        "dataset=pd.read_csv('train.csv')\n",
        "\n",
        "dataset2=pd.read_csv('test.csv')\n",
        "dataset=dataset.fillna(dataset.mean())\n",
        "dataset2=dataset2.fillna(dataset2.mean())\n",
        "embarked=pd.get_dummies(dataset.Embarked,prefix='Embarked')\n",
        "embarked2=pd.get_dummies(dataset2.Embarked,prefix='Embarked')\n",
        "dataset=pd.concat([dataset,embarked],axis=1)\n",
        "dataset2=pd.concat([dataset2,embarked2],axis=1)\n",
        "dataset.drop(['Cabin', 'Ticket','Embarked','Name','PassengerId'],axis=1, inplace=True)\n",
        "dataset2.drop(['Cabin', 'Ticket','Embarked','Name','PassengerId'],axis=1, inplace=True)\n",
        "lc=LabelEncoder()\n",
        "dataset[['Sex']]=lc.fit_transform(dataset[['Sex']])\n",
        "dataset2[['Sex']]=lc.transform(dataset2[['Sex']])\n",
        "sc=StandardScaler()\n",
        "dataset[['Fare']]=sc.fit_transform(dataset[['Fare']])\n",
        "dataset2[['Fare']]=sc.transform(dataset2[['Fare']])\n",
        "sc1=StandardScaler()\n",
        "dataset[['Age']]=sc1.fit_transform(dataset[['Age']])\n",
        "dataset2[['Age']]=sc1.transform(dataset2[['Age']])\n",
        "df_test=dataset['Survived']\n",
        "df_train=dataset.drop('Survived',axis=1)\n",
        "test=dataset2"
      ],
      "execution_count": 144,
      "outputs": [
        {
          "output_type": "stream",
          "text": [
            "/usr/local/lib/python3.6/dist-packages/sklearn/preprocessing/label.py:235: DataConversionWarning: A column-vector y was passed when a 1d array was expected. Please change the shape of y to (n_samples, ), for example using ravel().\n",
            "  y = column_or_1d(y, warn=True)\n",
            "/usr/local/lib/python3.6/dist-packages/sklearn/preprocessing/label.py:252: DataConversionWarning: A column-vector y was passed when a 1d array was expected. Please change the shape of y to (n_samples, ), for example using ravel().\n",
            "  y = column_or_1d(y, warn=True)\n"
          ],
          "name": "stderr"
        }
      ]
    },
    {
      "cell_type": "code",
      "metadata": {
        "id": "xrUNlOtEm-3P",
        "colab_type": "code",
        "colab": {
          "base_uri": "https://localhost:8080/",
          "height": 204
        },
        "outputId": "5352cb86-c34d-4438-83a1-d814913feae3"
      },
      "source": [
        "dataset2.head()"
      ],
      "execution_count": 145,
      "outputs": [
        {
          "output_type": "execute_result",
          "data": {
            "text/html": [
              "<div>\n",
              "<style scoped>\n",
              "    .dataframe tbody tr th:only-of-type {\n",
              "        vertical-align: middle;\n",
              "    }\n",
              "\n",
              "    .dataframe tbody tr th {\n",
              "        vertical-align: top;\n",
              "    }\n",
              "\n",
              "    .dataframe thead th {\n",
              "        text-align: right;\n",
              "    }\n",
              "</style>\n",
              "<table border=\"1\" class=\"dataframe\">\n",
              "  <thead>\n",
              "    <tr style=\"text-align: right;\">\n",
              "      <th></th>\n",
              "      <th>Pclass</th>\n",
              "      <th>Sex</th>\n",
              "      <th>Age</th>\n",
              "      <th>SibSp</th>\n",
              "      <th>Parch</th>\n",
              "      <th>Fare</th>\n",
              "      <th>Embarked_C</th>\n",
              "      <th>Embarked_Q</th>\n",
              "      <th>Embarked_S</th>\n",
              "    </tr>\n",
              "  </thead>\n",
              "  <tbody>\n",
              "    <tr>\n",
              "      <th>0</th>\n",
              "      <td>3</td>\n",
              "      <td>1</td>\n",
              "      <td>0.369449</td>\n",
              "      <td>0</td>\n",
              "      <td>0</td>\n",
              "      <td>-0.490783</td>\n",
              "      <td>0</td>\n",
              "      <td>1</td>\n",
              "      <td>0</td>\n",
              "    </tr>\n",
              "    <tr>\n",
              "      <th>1</th>\n",
              "      <td>3</td>\n",
              "      <td>0</td>\n",
              "      <td>1.331378</td>\n",
              "      <td>1</td>\n",
              "      <td>0</td>\n",
              "      <td>-0.507479</td>\n",
              "      <td>0</td>\n",
              "      <td>0</td>\n",
              "      <td>1</td>\n",
              "    </tr>\n",
              "    <tr>\n",
              "      <th>2</th>\n",
              "      <td>2</td>\n",
              "      <td>1</td>\n",
              "      <td>2.485693</td>\n",
              "      <td>0</td>\n",
              "      <td>0</td>\n",
              "      <td>-0.453367</td>\n",
              "      <td>0</td>\n",
              "      <td>1</td>\n",
              "      <td>0</td>\n",
              "    </tr>\n",
              "    <tr>\n",
              "      <th>3</th>\n",
              "      <td>3</td>\n",
              "      <td>1</td>\n",
              "      <td>-0.207709</td>\n",
              "      <td>0</td>\n",
              "      <td>0</td>\n",
              "      <td>-0.474005</td>\n",
              "      <td>0</td>\n",
              "      <td>0</td>\n",
              "      <td>1</td>\n",
              "    </tr>\n",
              "    <tr>\n",
              "      <th>4</th>\n",
              "      <td>3</td>\n",
              "      <td>0</td>\n",
              "      <td>-0.592481</td>\n",
              "      <td>1</td>\n",
              "      <td>1</td>\n",
              "      <td>-0.401017</td>\n",
              "      <td>0</td>\n",
              "      <td>0</td>\n",
              "      <td>1</td>\n",
              "    </tr>\n",
              "  </tbody>\n",
              "</table>\n",
              "</div>"
            ],
            "text/plain": [
              "   Pclass  Sex       Age  SibSp  ...      Fare  Embarked_C  Embarked_Q  Embarked_S\n",
              "0       3    1  0.369449      0  ... -0.490783           0           1           0\n",
              "1       3    0  1.331378      1  ... -0.507479           0           0           1\n",
              "2       2    1  2.485693      0  ... -0.453367           0           1           0\n",
              "3       3    1 -0.207709      0  ... -0.474005           0           0           1\n",
              "4       3    0 -0.592481      1  ... -0.401017           0           0           1\n",
              "\n",
              "[5 rows x 9 columns]"
            ]
          },
          "metadata": {
            "tags": []
          },
          "execution_count": 145
        }
      ]
    },
    {
      "cell_type": "markdown",
      "metadata": {
        "id": "dCF9ItDtnMsz",
        "colab_type": "text"
      },
      "source": [
        "**We create only 2 models , 1 classifier model with Logistic regression and 1 clustering based model with Kmeans**"
      ]
    },
    {
      "cell_type": "code",
      "metadata": {
        "id": "ijqzO4xgnF3z",
        "colab_type": "code",
        "colab": {
          "base_uri": "https://localhost:8080/",
          "height": 105
        },
        "outputId": "e6590376-fde2-46f5-c2e1-8897ba9a8669"
      },
      "source": [
        "from sklearn.linear_model import LogisticRegression\n",
        "from sklearn.model_selection import train_test_split\n",
        "from sklearn.tree import DecisionTreeClassifier\n",
        "from sklearn.metrics import roc_auc_score,accuracy_score\n",
        "x_train,x_val,y_train,y_val=train_test_split(df_train,df_test,test_size=0.2,random_state=9)\n",
        "from sklearn.cluster import KMeans\n",
        "kmeans = KMeans(n_clusters=2,init='k-means++')\n",
        "kmeans.fit(x_train,y_train)\n",
        "k_pred=kmeans.predict(x_val)\n",
        "accuracy_score(y_val,k_pred)\n",
        "df_kmeans=pd.DataFrame()\n",
        "df_kmeans['Survived_k']=k_pred\n",
        "survivedk=pd.get_dummies(df_kmeans.Survived_k,prefix='Survivedk')\n",
        "classifier=LogisticRegression(random_state=0)\n",
        "classifier.fit(x_train,y_train)\n",
        "ypred=classifier.predict(x_val)\n",
        "y_prob=classifier.predict_proba(x_val)\n",
        "df=pd.DataFrame()\n",
        "df['pred']=ypred\n",
        "classifier1=DecisionTreeClassifier()\n",
        "classifier1.fit(x_train,y_train)\n",
        "ypred1=classifier1.predict(x_val)\n",
        "df['pred2']=ypred1\n",
        "y_prob2=classifier1.predict_proba(x_val)\n",
        "print(roc_auc_score(y_val,ypred1))\n",
        "print(accuracy_score(y_val,ypred1))\n",
        "\n",
        "survived=pd.get_dummies(df.pred,prefix='Survived')\n",
        "survived_classifier2=pd.get_dummies(df.pred2,prefix='Survsecond')\n",
        "df=pd.concat([df,survived],axis=1)\n",
        "df=pd.concat([df,survived_classifier2],axis=1)\n",
        "df.drop(['pred','pred2','Survsecond_0','Survsecond_1'],axis=1,inplace=True)\n",
        "df['Survivedk_0']=survivedk['Survivedk_0']\n",
        "df['Survivedk_1']=survivedk['Survivedk_1']"
      ],
      "execution_count": 146,
      "outputs": [
        {
          "output_type": "stream",
          "text": [
            "0.7481012658227849\n",
            "0.7541899441340782\n"
          ],
          "name": "stdout"
        },
        {
          "output_type": "stream",
          "text": [
            "/usr/local/lib/python3.6/dist-packages/sklearn/linear_model/logistic.py:432: FutureWarning: Default solver will be changed to 'lbfgs' in 0.22. Specify a solver to silence this warning.\n",
            "  FutureWarning)\n"
          ],
          "name": "stderr"
        }
      ]
    },
    {
      "cell_type": "markdown",
      "metadata": {
        "id": "bLlfqcrVtd75",
        "colab_type": "text"
      },
      "source": [
        "**Creating Membership matrix(mem_mat) and cooccurence matrix(cor_mat)**"
      ]
    },
    {
      "cell_type": "code",
      "metadata": {
        "id": "LxHF4I6YtJVm",
        "colab_type": "code",
        "colab": {
          "base_uri": "https://localhost:8080/",
          "height": 527
        },
        "outputId": "b98df2f6-8b51-43b2-b09c-0a05fec7d16f"
      },
      "source": [
        "mem_mat=df\n",
        "cor_mat=mem_mat.dot(mem_mat.T)\n",
        "print(\"Memberhip matrix\")\n",
        "print(mem_mat)\n",
        "print(\"Cooccurence matrix\")\n",
        "print(cor_mat)"
      ],
      "execution_count": 147,
      "outputs": [
        {
          "output_type": "stream",
          "text": [
            "Memberhip matrix\n",
            "     Survived_0  Survived_1  Survivedk_0  Survivedk_1\n",
            "0             1           0            1            0\n",
            "1             1           0            1            0\n",
            "2             1           0            1            0\n",
            "3             1           0            0            1\n",
            "4             0           1            1            0\n",
            "..          ...         ...          ...          ...\n",
            "174           0           1            1            0\n",
            "175           0           1            1            0\n",
            "176           1           0            1            0\n",
            "177           0           1            0            1\n",
            "178           0           1            1            0\n",
            "\n",
            "[179 rows x 4 columns]\n",
            "Cooccurence matrix\n",
            "     0    1    2    3    4    5    6    ...  172  173  174  175  176  177  178\n",
            "0      2    2    2    1    1    2    1  ...    1    0    1    1    2    0    1\n",
            "1      2    2    2    1    1    2    1  ...    1    0    1    1    2    0    1\n",
            "2      2    2    2    1    1    2    1  ...    1    0    1    1    2    0    1\n",
            "3      1    1    1    2    0    1    2  ...    0    1    0    0    1    1    0\n",
            "4      1    1    1    0    2    1    0  ...    2    1    2    2    1    1    2\n",
            "..   ...  ...  ...  ...  ...  ...  ...  ...  ...  ...  ...  ...  ...  ...  ...\n",
            "174    1    1    1    0    2    1    0  ...    2    1    2    2    1    1    2\n",
            "175    1    1    1    0    2    1    0  ...    2    1    2    2    1    1    2\n",
            "176    2    2    2    1    1    2    1  ...    1    0    1    1    2    0    1\n",
            "177    0    0    0    1    1    0    1  ...    1    2    1    1    0    2    1\n",
            "178    1    1    1    0    2    1    0  ...    2    1    2    2    1    1    2\n",
            "\n",
            "[179 rows x 179 columns]\n"
          ],
          "name": "stdout"
        }
      ]
    },
    {
      "cell_type": "code",
      "metadata": {
        "id": "rx8tOhCyt_Lo",
        "colab_type": "code",
        "colab": {
          "base_uri": "https://localhost:8080/",
          "height": 85
        },
        "outputId": "78823359-9ac3-4d2a-c213-b9aaba0df9c0"
      },
      "source": [
        "objclass_mat1=pd.DataFrame(y_prob,columns=['Survived','NotSurvived'])\n",
        "objclass_mat2=pd.DataFrame(y_prob2,columns=['Survived','NotSurvived'])\n",
        "df_t=pd.DataFrame(objclass_mat1)\n",
        "Fo=np.array(df_t)\n",
        "gpclass_mat=pd.DataFrame(columns=['Survived','NotSurvived'],index=['class1surv','class1notsurv','class2surv','class2notsurv'])\n",
        "prob1s=np.sum(objclass_mat1.Survived)/len(objclass_mat1)\n",
        "prob1ns=np.sum(objclass_mat1.NotSurvived)/len(objclass_mat1)\n",
        "prob2s=np.sum(objclass_mat2.Survived)/len(objclass_mat2)\n",
        "prob2ns=np.sum(objclass_mat2.NotSurvived)/len(objclass_mat2)\n",
        "list1=[]\n",
        "list1.append(prob1s)\n",
        "list1.append(prob1ns)\n",
        "list1.append(prob2s)\n",
        "list1.append(prob2ns)\n",
        "\n",
        "list2=[]\n",
        "list2.append(prob1ns)\n",
        "list2.append(prob1s)\n",
        "list2.append(prob2ns)\n",
        "list2.append(prob2s)\n",
        "gpclass_mat['Survived']=list1\n",
        "gpclass_mat['NotSurvived']=list2\n",
        "gpclass_mat\n",
        "Fg=np.array(gpclass_mat)\n",
        "Fg"
      ],
      "execution_count": 148,
      "outputs": [
        {
          "output_type": "execute_result",
          "data": {
            "text/plain": [
              "array([[0.62706492, 0.37293508],\n",
              "       [0.37293508, 0.62706492],\n",
              "       [0.57616387, 0.42383613],\n",
              "       [0.42383613, 0.57616387]])"
            ]
          },
          "metadata": {
            "tags": []
          },
          "execution_count": 148
        }
      ]
    },
    {
      "cell_type": "code",
      "metadata": {
        "id": "0G_fR1GIwFXT",
        "colab_type": "code",
        "colab": {
          "base_uri": "https://localhost:8080/",
          "height": 51
        },
        "outputId": "9dd1a548-f5aa-4a31-8c66-f80f594172e1"
      },
      "source": [
        "kmshape=mem_mat.shape\n",
        "kcshape=cor_mat.shape\n",
        "print(\"Shape of Km\",kmshape)\n",
        "print(\"Shape of Kc\",kcshape)"
      ],
      "execution_count": 149,
      "outputs": [
        {
          "output_type": "stream",
          "text": [
            "Shape of Km (179, 4)\n",
            "Shape of Kc (179, 179)\n"
          ],
          "name": "stdout"
        }
      ]
    },
    {
      "cell_type": "code",
      "metadata": {
        "id": "pTIFOTAcwyVf",
        "colab_type": "code",
        "colab": {}
      },
      "source": [
        "Yg=np.zeros(shape=gpclass_mat.shape)\n",
        "thres=0.5\n",
        "for i in range(Fg.shape[0]):\n",
        "  for j in range(Fg.shape[1]):\n",
        "    if Fg[i][j]>thres:\n",
        "      Yg[i][j]=1\n",
        "Yo=np.zeros(shape=(179,2))\n",
        "cal_y=np.array(mem_mat)\n",
        "for i in range(Yo.shape[0]):\n",
        "  Yo[i][0]=cal_y[i][0]+cal_y[i][2]\n",
        "for i in range(Yo.shape[0]):\n",
        "  Yo[i][1]=cal_y[i][1]+cal_y[i][3]\n"
      ],
      "execution_count": 0,
      "outputs": []
    },
    {
      "cell_type": "code",
      "metadata": {
        "id": "GmAWnpdHxJGd",
        "colab_type": "code",
        "colab": {}
      },
      "source": [
        "import sys\n",
        "threshold=sys.float_info.epsilon"
      ],
      "execution_count": 0,
      "outputs": []
    },
    {
      "cell_type": "markdown",
      "metadata": {
        "id": "wzO_NtV8x37m",
        "colab_type": "text"
      },
      "source": [
        "**The current loop as per algorithm1 actually is producing an infinite condition given that every operation is being performed on Khm and Khm is not getting updated so I use a normal normalization method to normalize my matrix.**"
      ]
    },
    {
      "cell_type": "code",
      "metadata": {
        "id": "dTm3diIBxapY",
        "colab_type": "code",
        "colab": {
          "base_uri": "https://localhost:8080/",
          "height": 54
        },
        "outputId": "f284e5da-58db-49bc-a46e-235e44232e45"
      },
      "source": [
        "'''Km=np.zeros(shape=kmshape)\n",
        "Kc=np.zeros(shape=kcshape)\n",
        "Khm=np.array(mem_mat)\n",
        "Khc=np.array(cor_mat)\n",
        "while LA.norm((Km-Khm),'fro')>threshold:\n",
        "  Km=Khm.copy()\n",
        "  d=np.zeros(shape=(khmshape[0]))\n",
        "  for i in range(khmshape[0]):\n",
        "    d[i]=np.sum(Khm[i],axis=0)\n",
        "  Km=Khm/d.reshape((d.shape[0],1))'''"
      ],
      "execution_count": 152,
      "outputs": [
        {
          "output_type": "execute_result",
          "data": {
            "text/plain": [
              "\"Km=np.zeros(shape=kmshape)\\nKc=np.zeros(shape=kcshape)\\nKhm=np.array(mem_mat)\\nKhc=np.array(cor_mat)\\nwhile LA.norm((Km-Khm),'fro')>threshold:\\n  Km=Khm.copy()\\n  d=np.zeros(shape=(khmshape[0]))\\n  for i in range(khmshape[0]):\\n    d[i]=np.sum(Khm[i],axis=0)\\n  Km=Khm/d.reshape((d.shape[0],1))\""
            ]
          },
          "metadata": {
            "tags": []
          },
          "execution_count": 152
        }
      ]
    },
    {
      "cell_type": "code",
      "metadata": {
        "id": "AS_GaGfHxzIx",
        "colab_type": "code",
        "colab": {}
      },
      "source": [
        "Km=np.zeros(shape=kmshape)\n",
        "Kc=np.zeros(shape=kcshape)\n",
        "Khm=np.array(mem_mat)\n",
        "Khc=np.array(cor_mat)\n",
        "Km=Khm\n",
        "d=np.zeros(shape=(kmshape[0]))\n",
        "for i in range(kmshape[0]):\n",
        "  d[i]=np.sum(Km[i],axis=0)\n",
        "\n",
        "Km=Km/d.reshape((d.shape[0],1))"
      ],
      "execution_count": 0,
      "outputs": []
    },
    {
      "cell_type": "code",
      "metadata": {
        "id": "i9mCCsnfy4Ks",
        "colab_type": "code",
        "colab": {
          "base_uri": "https://localhost:8080/",
          "height": 238
        },
        "outputId": "6441e97c-b479-4d3f-e489-b4d3a1a890c8"
      },
      "source": [
        "Kc=np.zeros(shape=kcshape)\n",
        "Khc=np.array(cor_mat)\n",
        "Kc=Khc.copy()\n",
        "d=np.zeros(shape=(kcshape[0]))\n",
        "for i in range(kcshape[0]):\n",
        "  d[i]=np.sum(Kc[i],axis=0)\n",
        "\n",
        "Kc=Kc/d.reshape((d.shape[0],1))\n",
        "Kc"
      ],
      "execution_count": 154,
      "outputs": [
        {
          "output_type": "execute_result",
          "data": {
            "text/plain": [
              "array([[0.00806452, 0.00806452, 0.00806452, ..., 0.00806452, 0.        ,\n",
              "        0.00403226],\n",
              "       [0.00806452, 0.00806452, 0.00806452, ..., 0.00806452, 0.        ,\n",
              "        0.00403226],\n",
              "       [0.00806452, 0.00806452, 0.00806452, ..., 0.00806452, 0.        ,\n",
              "        0.00403226],\n",
              "       ...,\n",
              "       [0.00806452, 0.00806452, 0.00806452, ..., 0.00806452, 0.        ,\n",
              "        0.00403226],\n",
              "       [0.        , 0.        , 0.        , ..., 0.        , 0.01818182,\n",
              "        0.00909091],\n",
              "       [0.00512821, 0.00512821, 0.00512821, ..., 0.00512821, 0.00512821,\n",
              "        0.01025641]])"
            ]
          },
          "metadata": {
            "tags": []
          },
          "execution_count": 154
        }
      ]
    },
    {
      "cell_type": "markdown",
      "metadata": {
        "id": "iCHN9UEMzHjw",
        "colab_type": "text"
      },
      "source": [
        "**Condition Check for Fo and Fg i.e |Fo|=1 for all elements of Fo and similar for Fg**"
      ]
    },
    {
      "cell_type": "code",
      "metadata": {
        "id": "EObu7FXky8vu",
        "colab_type": "code",
        "colab": {
          "base_uri": "https://localhost:8080/",
          "height": 51
        },
        "outputId": "69924926-91fe-4cb3-8518-3c82ce7cc738"
      },
      "source": [
        "Fo_cond=True\n",
        "Fg_cond=True\n",
        "for i in range(Fo.shape[0]):\n",
        "  if np.linalg.norm((Fo[i]), ord=1)!=1:\n",
        "    Fo_cond=False\n",
        "for i in range(Fg.shape[0]):\n",
        "  if np.linalg.norm((Fg[i]), ord=1)!=1:\n",
        "    Fo_cond=False    \n",
        "print(Fo_cond)\n",
        "print(Fg_cond)"
      ],
      "execution_count": 155,
      "outputs": [
        {
          "output_type": "stream",
          "text": [
            "True\n",
            "True\n"
          ],
          "name": "stdout"
        }
      ]
    },
    {
      "cell_type": "markdown",
      "metadata": {
        "id": "Sy7vysjLzY0c",
        "colab_type": "text"
      },
      "source": [
        "Similarly for Yo and Yg we can see the norm to be 1 for every index"
      ]
    },
    {
      "cell_type": "code",
      "metadata": {
        "id": "4SsqJL2wzNF4",
        "colab_type": "code",
        "colab": {
          "base_uri": "https://localhost:8080/",
          "height": 34
        },
        "outputId": "0daf8d52-6def-480a-92b0-07475914beb3"
      },
      "source": [
        "np.linalg.norm((Yg[1]), ord=1)"
      ],
      "execution_count": 156,
      "outputs": [
        {
          "output_type": "execute_result",
          "data": {
            "text/plain": [
              "1.0"
            ]
          },
          "metadata": {
            "tags": []
          },
          "execution_count": 156
        }
      ]
    },
    {
      "cell_type": "code",
      "metadata": {
        "id": "Q-1xbMrvzhfC",
        "colab_type": "code",
        "colab": {
          "base_uri": "https://localhost:8080/",
          "height": 85
        },
        "outputId": "139df2f0-b7da-4c4a-83dd-316e0be77106"
      },
      "source": [
        "J1=0\n",
        "for i in range(Khm.shape[0]):\n",
        "  for j in range(Khm.shape[1]):\n",
        "    J1=J1+Khm[i][j]*(np.linalg.norm((Fo[i]-Fg[j]), ord=2)**2)\n",
        "J2=0\n",
        "for i in range(Khc.shape[0]):\n",
        "  for j in range(Khc.shape[1]):\n",
        "    J2=J2+Khc[i][j]*(np.linalg.norm((Fo[i]-Fo[j]), ord=2)**2)    \n",
        "J3=0\n",
        "for i in range(Khc.shape[0]):\n",
        "  J3=J3+(np.linalg.norm((Fo[i]-Yo[i]), ord=2)**2) \n",
        "\n",
        "J4=0\n",
        "for i in range(Khm.shape[1]):\n",
        "  J4=J4+(np.linalg.norm((Fg[i]-Yg[i]), ord=2)**2) \n",
        "print(J1)\n",
        "print(J2)\n",
        "print(J3)\n",
        "print(J4)"
      ],
      "execution_count": 157,
      "outputs": [
        {
          "output_type": "stream",
          "text": [
            "46.015169221771814\n",
            "6794.730305842706\n",
            "202.238970517923\n",
            "1.2748705592944716\n"
          ],
          "name": "stdout"
        }
      ]
    },
    {
      "cell_type": "markdown",
      "metadata": {
        "id": "1XGajbiYzyif",
        "colab_type": "text"
      },
      "source": [
        "Our goal is to minimize these values"
      ]
    },
    {
      "cell_type": "markdown",
      "metadata": {
        "id": "HkXZ0Nry0BIV",
        "colab_type": "text"
      },
      "source": [
        "Calculating diagonal matrix Dm and Dc"
      ]
    },
    {
      "cell_type": "code",
      "metadata": {
        "id": "AuOtdzH6zu0l",
        "colab_type": "code",
        "colab": {
          "base_uri": "https://localhost:8080/",
          "height": 51
        },
        "outputId": "79a995f2-b33b-4690-ef10-c558253b87fc"
      },
      "source": [
        "alpha=0.20\n",
        "beta=0.35\n",
        "gamma=0.45\n",
        "delta=0\n",
        "test_dm=np.zeros(shape=(Km.shape))\n",
        "test_Km=Km.T\n",
        "for i in range(test_Km.shape[0]):\n",
        "  test_dm[i]=np.sum(test_Km[i],axis=0)\n",
        "Dm=np.diag(np.diag(Km.T))\n",
        "print(\"Shape of DM\",Dm.shape)\n",
        "test_dc=np.zeros(shape=(Kc.shape))\n",
        "test_Kc=Kc.T\n",
        "for i in range(test_Kc.shape[0]):\n",
        "  test_dc[i]=np.sum(test_Kc[i],axis=0)\n",
        "Dc=np.diag(np.diag(test_dc.T))\n",
        "print(\"shape of Dc\",Dc.shape)"
      ],
      "execution_count": 158,
      "outputs": [
        {
          "output_type": "stream",
          "text": [
            "Shape of DM (4, 4)\n",
            "shape of Dc (179, 179)\n"
          ],
          "name": "stdout"
        }
      ]
    },
    {
      "cell_type": "markdown",
      "metadata": {
        "id": "8eklpRoJ0dzT",
        "colab_type": "text"
      },
      "source": [
        "Now we implement algorithm 2, where we take Fo(t) as Fo_t and we do not take any timestamp to "
      ]
    },
    {
      "cell_type": "code",
      "metadata": {
        "id": "OoOa1Fxp0QPR",
        "colab_type": "code",
        "colab": {}
      },
      "source": [
        "Fo_t=np.zeros(shape=Fo.shape)\n",
        "Fg_t=np.zeros(shape=Fg.shape)\n",
        "Fot_old=np.zeros(shape=Fo.shape)\n",
        "Fo_t=Fo\n",
        "Fg_t=Fg\n",
        "while LA.norm((Fo_t-Fot_old),'fro')>threshold:\n",
        "  Fot_old=Fo_t\n",
        "  Fg_t=np.matmul(np.linalg.inv(2*np.ones(shape=Dm.shape)+(alpha*Dm)),(alpha*np.matmul(Km.T,Fo))+(2*delta*Yg))\n",
        "  Fo_t=np.matmul((np.linalg.inv((2*beta*Dc)-(beta*np.matmul(np.identity(Kc.shape[0]),Kc))-(beta*np.matmul(np.ones(shape=Kc.shape),Kc))+(2*gamma*np.identity(Kc.shape[0])))),((alpha*np.matmul(Km,Fg_t))+(2*gamma*Yo)))"
      ],
      "execution_count": 0,
      "outputs": []
    },
    {
      "cell_type": "code",
      "metadata": {
        "id": "VkUjtHfZ1Jed",
        "colab_type": "code",
        "colab": {
          "base_uri": "https://localhost:8080/",
          "height": 1000
        },
        "outputId": "c3dc11e5-c402-4fd0-c950-8396c9fde438"
      },
      "source": [
        "Fo_t"
      ],
      "execution_count": 169,
      "outputs": [
        {
          "output_type": "execute_result",
          "data": {
            "text/plain": [
              "array([[  6.51951848,  -1.81135417],\n",
              "       [  6.51951848,  -1.81135417],\n",
              "       [  6.51951848,  -1.81135417],\n",
              "       [  1.73357462,  -2.63844032],\n",
              "       [ -9.90374469,   4.10888366],\n",
              "       [  6.51951848,  -1.81135417],\n",
              "       [  1.73357462,  -2.63844032],\n",
              "       [  6.51951848,  -1.81135417],\n",
              "       [  6.51951848,  -1.81135417],\n",
              "       [  6.51951848,  -1.81135417],\n",
              "       [  6.51951848,  -1.81135417],\n",
              "       [-18.12221964,   4.26892881],\n",
              "       [  6.51951848,  -1.81135417],\n",
              "       [  6.51951848,  -1.81135417],\n",
              "       [-18.12221964,   4.26892881],\n",
              "       [  1.73357462,  -2.63844032],\n",
              "       [  6.51951848,  -1.81135417],\n",
              "       [ -9.90374469,   4.10888366],\n",
              "       [ -9.90374469,   4.10888366],\n",
              "       [  6.51951848,  -1.81135417],\n",
              "       [  6.51951848,  -1.81135417],\n",
              "       [  6.51951848,  -1.81135417],\n",
              "       [ -9.90374469,   4.10888366],\n",
              "       [  6.51951848,  -1.81135417],\n",
              "       [  6.51951848,  -1.81135417],\n",
              "       [  6.51951848,  -1.81135417],\n",
              "       [  6.51951848,  -1.81135417],\n",
              "       [  6.51951848,  -1.81135417],\n",
              "       [  6.51951848,  -1.81135417],\n",
              "       [-18.12221964,   4.26892881],\n",
              "       [  6.51951848,  -1.81135417],\n",
              "       [  6.51951848,  -1.81135417],\n",
              "       [ -9.90374469,   4.10888366],\n",
              "       [ -9.90374469,   4.10888366],\n",
              "       [  6.51951848,  -1.81135417],\n",
              "       [  6.51951848,  -1.81135417],\n",
              "       [-18.12221964,   4.26892881],\n",
              "       [  6.51951848,  -1.81135417],\n",
              "       [  6.51951848,  -1.81135417],\n",
              "       [ -9.90374469,   4.10888366],\n",
              "       [ -9.90374469,   4.10888366],\n",
              "       [  6.51951848,  -1.81135417],\n",
              "       [ -9.90374469,   4.10888366],\n",
              "       [  1.73357462,  -2.63844032],\n",
              "       [  1.73357462,  -2.63844032],\n",
              "       [  6.51951848,  -1.81135417],\n",
              "       [  6.51951848,  -1.81135417],\n",
              "       [  6.51951848,  -1.81135417],\n",
              "       [  6.51951848,  -1.81135417],\n",
              "       [  6.51951848,  -1.81135417],\n",
              "       [ -9.90374469,   4.10888366],\n",
              "       [  6.51951848,  -1.81135417],\n",
              "       [  6.51951848,  -1.81135417],\n",
              "       [-18.12221964,   4.26892881],\n",
              "       [-18.12221964,   4.26892881],\n",
              "       [  6.51951848,  -1.81135417],\n",
              "       [ -9.90374469,   4.10888366],\n",
              "       [ -9.90374469,   4.10888366],\n",
              "       [  1.73357462,  -2.63844032],\n",
              "       [ -9.90374469,   4.10888366],\n",
              "       [-18.12221964,   4.26892881],\n",
              "       [ -9.90374469,   4.10888366],\n",
              "       [-18.12221964,   4.26892881],\n",
              "       [  6.51951848,  -1.81135417],\n",
              "       [-18.12221964,   4.26892881],\n",
              "       [-18.12221964,   4.26892881],\n",
              "       [-18.12221964,   4.26892881],\n",
              "       [  6.51951848,  -1.81135417],\n",
              "       [  1.73357462,  -2.63844032],\n",
              "       [  6.51951848,  -1.81135417],\n",
              "       [  6.51951848,  -1.81135417],\n",
              "       [  6.51951848,  -1.81135417],\n",
              "       [  6.51951848,  -1.81135417],\n",
              "       [ -9.90374469,   4.10888366],\n",
              "       [  1.73357462,  -2.63844032],\n",
              "       [  6.51951848,  -1.81135417],\n",
              "       [  1.73357462,  -2.63844032],\n",
              "       [  6.51951848,  -1.81135417],\n",
              "       [-18.12221964,   4.26892881],\n",
              "       [ -9.90374469,   4.10888366],\n",
              "       [  6.51951848,  -1.81135417],\n",
              "       [  6.51951848,  -1.81135417],\n",
              "       [  6.51951848,  -1.81135417],\n",
              "       [  6.51951848,  -1.81135417],\n",
              "       [  6.51951848,  -1.81135417],\n",
              "       [  1.73357462,  -2.63844032],\n",
              "       [  6.51951848,  -1.81135417],\n",
              "       [ -9.90374469,   4.10888366],\n",
              "       [ -9.90374469,   4.10888366],\n",
              "       [  6.51951848,  -1.81135417],\n",
              "       [  6.51951848,  -1.81135417],\n",
              "       [ -9.90374469,   4.10888366],\n",
              "       [ -9.90374469,   4.10888366],\n",
              "       [  6.51951848,  -1.81135417],\n",
              "       [ -9.90374469,   4.10888366],\n",
              "       [  1.73357462,  -2.63844032],\n",
              "       [  6.51951848,  -1.81135417],\n",
              "       [  6.51951848,  -1.81135417],\n",
              "       [ -9.90374469,   4.10888366],\n",
              "       [  6.51951848,  -1.81135417],\n",
              "       [  6.51951848,  -1.81135417],\n",
              "       [  6.51951848,  -1.81135417],\n",
              "       [  1.73357462,  -2.63844032],\n",
              "       [ -9.90374469,   4.10888366],\n",
              "       [  6.51951848,  -1.81135417],\n",
              "       [  6.51951848,  -1.81135417],\n",
              "       [-18.12221964,   4.26892881],\n",
              "       [ -9.90374469,   4.10888366],\n",
              "       [  6.51951848,  -1.81135417],\n",
              "       [  6.51951848,  -1.81135417],\n",
              "       [  6.51951848,  -1.81135417],\n",
              "       [  6.51951848,  -1.81135417],\n",
              "       [  1.73357462,  -2.63844032],\n",
              "       [ -9.90374469,   4.10888366],\n",
              "       [-18.12221964,   4.26892881],\n",
              "       [  1.73357462,  -2.63844032],\n",
              "       [ -9.90374469,   4.10888366],\n",
              "       [  1.73357462,  -2.63844032],\n",
              "       [  6.51951848,  -1.81135417],\n",
              "       [ -9.90374469,   4.10888366],\n",
              "       [  6.51951848,  -1.81135417],\n",
              "       [  6.51951848,  -1.81135417],\n",
              "       [ -9.90374469,   4.10888366],\n",
              "       [  6.51951848,  -1.81135417],\n",
              "       [-18.12221964,   4.26892881],\n",
              "       [  1.73357462,  -2.63844032],\n",
              "       [  6.51951848,  -1.81135417],\n",
              "       [  1.73357462,  -2.63844032],\n",
              "       [  6.51951848,  -1.81135417],\n",
              "       [  6.51951848,  -1.81135417],\n",
              "       [  6.51951848,  -1.81135417],\n",
              "       [ -9.90374469,   4.10888366],\n",
              "       [  6.51951848,  -1.81135417],\n",
              "       [  6.51951848,  -1.81135417],\n",
              "       [  1.73357462,  -2.63844032],\n",
              "       [-18.12221964,   4.26892881],\n",
              "       [ -9.90374469,   4.10888366],\n",
              "       [  6.51951848,  -1.81135417],\n",
              "       [ -9.90374469,   4.10888366],\n",
              "       [ -9.90374469,   4.10888366],\n",
              "       [  6.51951848,  -1.81135417],\n",
              "       [-18.12221964,   4.26892881],\n",
              "       [  6.51951848,  -1.81135417],\n",
              "       [  6.51951848,  -1.81135417],\n",
              "       [  1.73357462,  -2.63844032],\n",
              "       [  6.51951848,  -1.81135417],\n",
              "       [  6.51951848,  -1.81135417],\n",
              "       [  6.51951848,  -1.81135417],\n",
              "       [ -9.90374469,   4.10888366],\n",
              "       [  1.73357462,  -2.63844032],\n",
              "       [  6.51951848,  -1.81135417],\n",
              "       [  6.51951848,  -1.81135417],\n",
              "       [  6.51951848,  -1.81135417],\n",
              "       [  1.73357462,  -2.63844032],\n",
              "       [-18.12221964,   4.26892881],\n",
              "       [  6.51951848,  -1.81135417],\n",
              "       [  6.51951848,  -1.81135417],\n",
              "       [-18.12221964,   4.26892881],\n",
              "       [ -9.90374469,   4.10888366],\n",
              "       [  6.51951848,  -1.81135417],\n",
              "       [-18.12221964,   4.26892881],\n",
              "       [  1.73357462,  -2.63844032],\n",
              "       [ -9.90374469,   4.10888366],\n",
              "       [  1.73357462,  -2.63844032],\n",
              "       [  6.51951848,  -1.81135417],\n",
              "       [  6.51951848,  -1.81135417],\n",
              "       [ -9.90374469,   4.10888366],\n",
              "       [-18.12221964,   4.26892881],\n",
              "       [  6.51951848,  -1.81135417],\n",
              "       [  6.51951848,  -1.81135417],\n",
              "       [  1.73357462,  -2.63844032],\n",
              "       [  6.51951848,  -1.81135417],\n",
              "       [ -9.90374469,   4.10888366],\n",
              "       [-18.12221964,   4.26892881],\n",
              "       [ -9.90374469,   4.10888366],\n",
              "       [ -9.90374469,   4.10888366],\n",
              "       [  6.51951848,  -1.81135417],\n",
              "       [-18.12221964,   4.26892881],\n",
              "       [ -9.90374469,   4.10888366]])"
            ]
          },
          "metadata": {
            "tags": []
          },
          "execution_count": 169
        }
      ]
    },
    {
      "cell_type": "markdown",
      "metadata": {
        "id": "mAW5uAfQ42y4",
        "colab_type": "text"
      },
      "source": [
        "Result of the given model"
      ]
    },
    {
      "cell_type": "code",
      "metadata": {
        "id": "p5Sqplh61gsO",
        "colab_type": "code",
        "colab": {
          "base_uri": "https://localhost:8080/",
          "height": 51
        },
        "outputId": "c0aa8917-0842-46ce-b7d3-5cd91f1856bd"
      },
      "source": [
        "result=np.zeros(shape=Fo_t.shape[0])\n",
        "for i in range(Fo_t.shape[0]):\n",
        "  if Fo_t[i][0]<Fo_t[i][1]:\n",
        "    result[i]=1\n",
        "print(\"AUC value\",roc_auc_score(y_val,result))\n",
        "print(\"AUC for model1\",roc_auc_score(y_val,ypred1))"
      ],
      "execution_count": 171,
      "outputs": [
        {
          "output_type": "stream",
          "text": [
            "AUC value 0.7627848101265823\n",
            "AUC for model1 0.7481012658227849\n"
          ],
          "name": "stdout"
        }
      ]
    },
    {
      "cell_type": "code",
      "metadata": {
        "id": "a18ISRSb4zNH",
        "colab_type": "code",
        "colab": {}
      },
      "source": [
        ""
      ],
      "execution_count": 0,
      "outputs": []
    }
  ]
}