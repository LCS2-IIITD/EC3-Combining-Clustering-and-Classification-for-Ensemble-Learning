{
  "nbformat": 4,
  "nbformat_minor": 0,
  "metadata": {
    "colab": {
      "name": "Untitled",
      "provenance": [],
      "authorship_tag": "ABX9TyOokMWzjB4nDvF5vnD/9IRi",
      "include_colab_link": true
    },
    "kernelspec": {
      "name": "python3",
      "display_name": "Python 3"
    }
  },
  "cells": [
    {
      "cell_type": "markdown",
      "metadata": {
        "id": "view-in-github",
        "colab_type": "text"
      },
      "source": [
        "<a href=\"https://colab.research.google.com/github/manjotmb20/EC3/blob/master/Letter.ipynb\" target=\"_parent\"><img src=\"https://colab.research.google.com/assets/colab-badge.svg\" alt=\"Open In Colab\"/></a>"
      ]
    },
    {
      "cell_type": "code",
      "metadata": {
        "id": "I_PCqLBnl_fk",
        "colab_type": "code",
        "colab": {}
      },
      "source": [
        "import os\n",
        "import pandas as pd\n",
        "import numpy as np\n",
        "from sklearn import metrics\n",
        "import matplotlib.pyplot as plt\n",
        "from sklearn import model_selection\n",
        "from sklearn.metrics import classification_report\n",
        "from sklearn.metrics import confusion_matrix\n",
        "from sklearn.metrics import accuracy_score\n",
        "from sklearn.linear_model import LogisticRegression\n",
        "from sklearn.tree import DecisionTreeClassifier\n",
        "from sklearn.ensemble import RandomForestClassifier\n",
        "from sklearn.neighbors import KNeighborsClassifier\n",
        "from sklearn.discriminant_analysis import LinearDiscriminantAnalysis\n",
        "from sklearn.naive_bayes import GaussianNB\n",
        "from sklearn.metrics import roc_curve,roc_auc_score\n",
        "from sklearn import preprocessing\n",
        "from sklearn import svm\n",
        "from sklearn.model_selection import train_test_split\n",
        "from sklearn import tree\n",
        "\n",
        "\n",
        "from sklearn.preprocessing import LabelEncoder\n"
      ],
      "execution_count": 0,
      "outputs": []
    },
    {
      "cell_type": "code",
      "metadata": {
        "id": "oztajwtgmIsF",
        "colab_type": "code",
        "colab": {}
      },
      "source": [
        "df=pd.read_csv(\"letter.csv\")"
      ],
      "execution_count": 0,
      "outputs": []
    },
    {
      "cell_type": "code",
      "metadata": {
        "id": "Y07y7dahmd1k",
        "colab_type": "code",
        "colab": {
          "base_uri": "https://localhost:8080/",
          "height": 204
        },
        "outputId": "94f88f65-a541-4256-fb82-960d47289700"
      },
      "source": [
        "df.head()"
      ],
      "execution_count": 5,
      "outputs": [
        {
          "output_type": "execute_result",
          "data": {
            "text/html": [
              "<div>\n",
              "<style scoped>\n",
              "    .dataframe tbody tr th:only-of-type {\n",
              "        vertical-align: middle;\n",
              "    }\n",
              "\n",
              "    .dataframe tbody tr th {\n",
              "        vertical-align: top;\n",
              "    }\n",
              "\n",
              "    .dataframe thead th {\n",
              "        text-align: right;\n",
              "    }\n",
              "</style>\n",
              "<table border=\"1\" class=\"dataframe\">\n",
              "  <thead>\n",
              "    <tr style=\"text-align: right;\">\n",
              "      <th></th>\n",
              "      <th>x-box</th>\n",
              "      <th>y-box</th>\n",
              "      <th>width</th>\n",
              "      <th>high</th>\n",
              "      <th>onpix</th>\n",
              "      <th>x-bar</th>\n",
              "      <th>y-bar</th>\n",
              "      <th>x2bar</th>\n",
              "      <th>y2bar</th>\n",
              "      <th>xybar</th>\n",
              "      <th>x2ybr</th>\n",
              "      <th>xy2br</th>\n",
              "      <th>x-ege</th>\n",
              "      <th>xegvy</th>\n",
              "      <th>y-ege</th>\n",
              "      <th>yegvx</th>\n",
              "      <th>class</th>\n",
              "    </tr>\n",
              "  </thead>\n",
              "  <tbody>\n",
              "    <tr>\n",
              "      <th>0</th>\n",
              "      <td>2</td>\n",
              "      <td>4</td>\n",
              "      <td>4</td>\n",
              "      <td>3</td>\n",
              "      <td>2</td>\n",
              "      <td>7</td>\n",
              "      <td>8</td>\n",
              "      <td>2</td>\n",
              "      <td>9</td>\n",
              "      <td>11</td>\n",
              "      <td>7</td>\n",
              "      <td>7</td>\n",
              "      <td>1</td>\n",
              "      <td>8</td>\n",
              "      <td>5</td>\n",
              "      <td>6</td>\n",
              "      <td>25</td>\n",
              "    </tr>\n",
              "    <tr>\n",
              "      <th>1</th>\n",
              "      <td>4</td>\n",
              "      <td>7</td>\n",
              "      <td>5</td>\n",
              "      <td>5</td>\n",
              "      <td>5</td>\n",
              "      <td>5</td>\n",
              "      <td>9</td>\n",
              "      <td>6</td>\n",
              "      <td>4</td>\n",
              "      <td>8</td>\n",
              "      <td>7</td>\n",
              "      <td>9</td>\n",
              "      <td>2</td>\n",
              "      <td>9</td>\n",
              "      <td>7</td>\n",
              "      <td>10</td>\n",
              "      <td>15</td>\n",
              "    </tr>\n",
              "    <tr>\n",
              "      <th>2</th>\n",
              "      <td>7</td>\n",
              "      <td>10</td>\n",
              "      <td>8</td>\n",
              "      <td>7</td>\n",
              "      <td>4</td>\n",
              "      <td>8</td>\n",
              "      <td>8</td>\n",
              "      <td>5</td>\n",
              "      <td>10</td>\n",
              "      <td>11</td>\n",
              "      <td>2</td>\n",
              "      <td>8</td>\n",
              "      <td>2</td>\n",
              "      <td>5</td>\n",
              "      <td>5</td>\n",
              "      <td>10</td>\n",
              "      <td>18</td>\n",
              "    </tr>\n",
              "    <tr>\n",
              "      <th>3</th>\n",
              "      <td>4</td>\n",
              "      <td>9</td>\n",
              "      <td>5</td>\n",
              "      <td>7</td>\n",
              "      <td>4</td>\n",
              "      <td>7</td>\n",
              "      <td>7</td>\n",
              "      <td>13</td>\n",
              "      <td>1</td>\n",
              "      <td>7</td>\n",
              "      <td>6</td>\n",
              "      <td>8</td>\n",
              "      <td>3</td>\n",
              "      <td>8</td>\n",
              "      <td>0</td>\n",
              "      <td>8</td>\n",
              "      <td>7</td>\n",
              "    </tr>\n",
              "    <tr>\n",
              "      <th>4</th>\n",
              "      <td>6</td>\n",
              "      <td>7</td>\n",
              "      <td>8</td>\n",
              "      <td>5</td>\n",
              "      <td>4</td>\n",
              "      <td>7</td>\n",
              "      <td>6</td>\n",
              "      <td>3</td>\n",
              "      <td>7</td>\n",
              "      <td>10</td>\n",
              "      <td>7</td>\n",
              "      <td>9</td>\n",
              "      <td>3</td>\n",
              "      <td>8</td>\n",
              "      <td>3</td>\n",
              "      <td>7</td>\n",
              "      <td>7</td>\n",
              "    </tr>\n",
              "  </tbody>\n",
              "</table>\n",
              "</div>"
            ],
            "text/plain": [
              "   x-box  y-box  width  high  onpix  ...  x-ege  xegvy  y-ege  yegvx  class\n",
              "0      2      4      4     3      2  ...      1      8      5      6     25\n",
              "1      4      7      5     5      5  ...      2      9      7     10     15\n",
              "2      7     10      8     7      4  ...      2      5      5     10     18\n",
              "3      4      9      5     7      4  ...      3      8      0      8      7\n",
              "4      6      7      8     5      4  ...      3      8      3      7      7\n",
              "\n",
              "[5 rows x 17 columns]"
            ]
          },
          "metadata": {
            "tags": []
          },
          "execution_count": 5
        }
      ]
    },
    {
      "cell_type": "code",
      "metadata": {
        "id": "16YS40XDmfQN",
        "colab_type": "code",
        "colab": {}
      },
      "source": [
        "lc=LabelEncoder()\n",
        "df['class']=lc.fit_transform(df['class'])"
      ],
      "execution_count": 0,
      "outputs": []
    },
    {
      "cell_type": "code",
      "metadata": {
        "id": "0L7hvqa5mxiP",
        "colab_type": "code",
        "colab": {}
      },
      "source": [
        "y=df.iloc[:,-1]\n",
        "X=df.iloc[:,:-1]"
      ],
      "execution_count": 0,
      "outputs": []
    },
    {
      "cell_type": "code",
      "metadata": {
        "id": "XL2ZA-DRm7x6",
        "colab_type": "code",
        "colab": {}
      },
      "source": [
        "x_train, x_val, y_train, y_val = train_test_split(X, y,test_size=0.2,random_state=9)"
      ],
      "execution_count": 0,
      "outputs": []
    },
    {
      "cell_type": "code",
      "metadata": {
        "id": "sRZOdRPsnAQY",
        "colab_type": "code",
        "colab": {
          "base_uri": "https://localhost:8080/",
          "height": 214
        },
        "outputId": "641d9ee4-23d3-40d9-cb95-f4b6341c5f36"
      },
      "source": [
        "def roc_auc_score_multiclass(actual_class, pred_class, average = \"macro\"):\n",
        "\n",
        "  #creating a set of all the unique classes using the actual class list\n",
        "  unique_class = set(actual_class)\n",
        "  roc_auc_dict = {}\n",
        "  for per_class in unique_class:\n",
        "    #creating a list of all the classes except the current class \n",
        "    other_class = [x for x in unique_class if x != per_class]\n",
        "\n",
        "    #marking the current class as 1 and all other classes as 0\n",
        "    new_actual_class = [0 if x in other_class else 1 for x in actual_class]\n",
        "    new_pred_class = [0 if x in other_class else 1 for x in pred_class]\n",
        "\n",
        "    #using the sklearn metrics method to calculate the roc_auc_score\n",
        "    roc_auc = roc_auc_score(new_actual_class, new_pred_class, average = average)\n",
        "    roc_auc_dict[per_class] = roc_auc\n",
        "\n",
        "  return roc_auc_dict\n",
        "\n",
        "# assuming your already have a list of actual_class and predicted_class from the logistic regression classifier\n",
        "lr_roc_auc_multiclass = roc_auc_score_multiclass(y_val, ypred3)\n",
        "print(lr_roc_auc_multiclass)"
      ],
      "execution_count": 10,
      "outputs": [
        {
          "output_type": "error",
          "ename": "NameError",
          "evalue": "ignored",
          "traceback": [
            "\u001b[0;31m---------------------------------------------------------------------------\u001b[0m",
            "\u001b[0;31mNameError\u001b[0m                                 Traceback (most recent call last)",
            "\u001b[0;32m<ipython-input-10-b92f4db9c38a>\u001b[0m in \u001b[0;36m<module>\u001b[0;34m()\u001b[0m\n\u001b[1;32m     19\u001b[0m \u001b[0;34m\u001b[0m\u001b[0m\n\u001b[1;32m     20\u001b[0m \u001b[0;31m# assuming your already have a list of actual_class and predicted_class from the logistic regression classifier\u001b[0m\u001b[0;34m\u001b[0m\u001b[0;34m\u001b[0m\u001b[0;34m\u001b[0m\u001b[0m\n\u001b[0;32m---> 21\u001b[0;31m \u001b[0mlr_roc_auc_multiclass\u001b[0m \u001b[0;34m=\u001b[0m \u001b[0mroc_auc_score_multiclass\u001b[0m\u001b[0;34m(\u001b[0m\u001b[0my_val\u001b[0m\u001b[0;34m,\u001b[0m \u001b[0mypred3\u001b[0m\u001b[0;34m)\u001b[0m\u001b[0;34m\u001b[0m\u001b[0;34m\u001b[0m\u001b[0m\n\u001b[0m\u001b[1;32m     22\u001b[0m \u001b[0mprint\u001b[0m\u001b[0;34m(\u001b[0m\u001b[0mlr_roc_auc_multiclass\u001b[0m\u001b[0;34m)\u001b[0m\u001b[0;34m\u001b[0m\u001b[0;34m\u001b[0m\u001b[0m\n",
            "\u001b[0;31mNameError\u001b[0m: name 'ypred3' is not defined"
          ]
        }
      ]
    },
    {
      "cell_type": "code",
      "metadata": {
        "id": "_plMT7fib3fp",
        "colab_type": "code",
        "outputId": "0438030a-74e7-4384-d184-a5f98d0098c1",
        "colab": {
          "base_uri": "https://localhost:8080/",
          "height": 207
        }
      },
      "source": [
        "classifier=LogisticRegression(random_state=0)\n",
        "classifier.fit(x_train,y_train)\n",
        "ypred=classifier.predict(x_val)\n",
        "print(\"Accuracy score of LR\",roc_auc_score_multiclass(y_val,ypred))\n",
        "y_prob=classifier.predict_proba(x_val)\n",
        "from sklearn.svm import SVC\n",
        "classifier3=SVC(probability=True)\n",
        "df=pd.DataFrame()\n",
        "df['pred']=ypred\n",
        "survived=pd.get_dummies(df.pred,prefix='Survived')\n",
        "df=pd.concat([df,survived],axis=1)\n",
        "df.drop('pred',inplace=True,axis=1)\n",
        "df2=pd.DataFrame()\n",
        "classifier3.fit(x_train,y_train)\n",
        "ypred3=classifier3.predict(x_val)\n",
        "print(\"Accuracy score of SVM\",roc_auc_score_multiclass(y_val,ypred3))\n",
        "df2['pred']=ypred3\n",
        "y_prob3=classifier3.predict_proba(x_val)\n",
        "survived2=pd.get_dummies(df2.pred,prefix='Surviveds')\n",
        "df=pd.concat([df,survived2],axis=1)"
      ],
      "execution_count": 11,
      "outputs": [
        {
          "output_type": "stream",
          "text": [
            "/usr/local/lib/python3.6/dist-packages/sklearn/linear_model/_logistic.py:940: ConvergenceWarning: lbfgs failed to converge (status=1):\n",
            "STOP: TOTAL NO. of ITERATIONS REACHED LIMIT.\n",
            "\n",
            "Increase the number of iterations (max_iter) or scale the data as shown in:\n",
            "    https://scikit-learn.org/stable/modules/preprocessing.html\n",
            "Please also refer to the documentation for alternative solver options:\n",
            "    https://scikit-learn.org/stable/modules/linear_model.html#logistic-regression\n",
            "  extra_warning_msg=_LOGISTIC_SOLVER_CONVERGENCE_MSG)\n"
          ],
          "name": "stderr"
        },
        {
          "output_type": "stream",
          "text": [
            "Accuracy score of LR {0: 0.942906101375925, 1: 0.8429146894872671, 2: 0.8578870834333895, 3: 0.8799479166666666, 4: 0.8338055472711006, 5: 0.888465168676166, 6: 0.7665294342925922, 7: 0.7257561139309535, 8: 0.9256825144983039, 9: 0.9296369469147636, 10: 0.8733900814211695, 11: 0.9179311621021465, 12: 0.9437511391765003, 13: 0.943387845549274, 14: 0.8594974642692484, 15: 0.9057701361800029, 16: 0.8388230418088982, 17: 0.8430968924389977, 18: 0.8238330710030213, 19: 0.8860235252023794, 20: 0.9217243009069731, 21: 0.921372886051077, 22: 0.9535985884670095, 23: 0.859297028768961, 24: 0.9082134069320015, 25: 0.8855331841909022}\n",
            "Accuracy score of SVM {0: 0.984495409344083, 1: 0.9703469811804801, 2: 0.9480675845139944, 3: 0.96484375, 4: 0.9321751665175465, 5: 0.9711591158202412, 6: 0.9603074734653683, 7: 0.891207684886111, 8: 0.9601365028996608, 9: 0.9721402705904578, 10: 0.9585122131754255, 11: 0.9784418948926723, 12: 0.9794213277359345, 13: 0.9608726926780596, 14: 0.9417214153988013, 15: 0.9311560496311959, 16: 0.9607527098359995, 17: 0.9535985884670095, 18: 0.9732876569966611, 19: 0.9652578380070664, 20: 0.9645849899934225, 21: 0.9564340268995646, 22: 0.9846331655542183, 23: 0.9530755590944485, 24: 0.9851378879810747, 25: 0.9714478288303792}\n"
          ],
          "name": "stdout"
        }
      ]
    },
    {
      "cell_type": "code",
      "metadata": {
        "id": "a_yEoTGFb-AG",
        "colab_type": "code",
        "outputId": "a890aba0-6177-46b0-efcc-a7e4b4e1de16",
        "colab": {
          "base_uri": "https://localhost:8080/",
          "height": 54
        }
      },
      "source": [
        "dt=DecisionTreeClassifier()\n",
        "dt.fit(x_train,y_train)\n",
        "d_pred=dt.predict(x_val)\n",
        "d_prob=dt.predict_proba(x_val)\n",
        "accuracy_score(y_val,d_pred)\n",
        "df_dt=pd.DataFrame()\n",
        "df_dt['Survived_k']=d_pred\n",
        "survivedt=pd.get_dummies(df_dt.Survived_k,prefix='Survivedk')\n",
        "df['Survivedt_0']=survivedt['Survivedk_0']\n",
        "df['Survivedt_1']=survivedt['Survivedk_1']\n",
        "print(\"Accuracy score of DT\",roc_auc_score_multiclass(y_val,d_pred))\n"
      ],
      "execution_count": 12,
      "outputs": [
        {
          "output_type": "stream",
          "text": [
            "Accuracy score of DT {0: 0.9802735318802615, 1: 0.9108735947372625, 2: 0.9149757197363858, 3: 0.9226562500000001, 4: 0.9289380157073268, 5: 0.9316237364511022, 6: 0.8900590874275085, 7: 0.9151935903351651, 8: 0.9681857971331655, 9: 0.9640398593904211, 10: 0.9179311621021465, 11: 0.9730569948186528, 12: 0.9505465107391272, 13: 0.9597017324907061, 14: 0.920628745965883, 15: 0.9449908506841358, 16: 0.9012269815046138, 17: 0.9376709705657073, 18: 0.9309413091825687, 19: 0.9395634867391207, 20: 0.947362036152706, 21: 0.9617575047445022, 22: 0.9664555750082067, 23: 0.9501383845700005, 24: 0.960101198168795, 25: 0.9348300841589432}\n"
          ],
          "name": "stdout"
        }
      ]
    },
    {
      "cell_type": "code",
      "metadata": {
        "id": "6-qCj6ureD76",
        "colab_type": "code",
        "outputId": "e891bdf2-7ea6-429d-d7e6-13e8cb2150d9",
        "colab": {
          "base_uri": "https://localhost:8080/",
          "height": 54
        }
      },
      "source": [
        "from sklearn.naive_bayes import GaussianNB\n",
        "gb=GaussianNB()\n",
        "gb.fit(x_train,y_train)\n",
        "g_pred=gb.predict(x_val)\n",
        "g_prob=gb.predict_proba(x_val)\n",
        "accuracy_score(y_val,g_pred)\n",
        "df_gb=pd.DataFrame()\n",
        "df_gb['Survived_k']=g_pred\n",
        "survivedg=pd.get_dummies(df_gb.Survived_k,prefix='Survivedg')\n",
        "df['Survivedg_0']=survivedg['Survivedg_0']\n",
        "df['Survivedg_1']=survivedg['Survivedg_1']\n",
        "print(\"Accuracy score of DT\",roc_auc_score_multiclass(y_val,g_pred))"
      ],
      "execution_count": 16,
      "outputs": [
        {
          "output_type": "stream",
          "text": [
            "Accuracy score of DT {0: 0.9360264757496375, 1: 0.8390342359974923, 2: 0.8642973398436459, 3: 0.8263020833333333, 4: 0.6567998807038472, 5: 0.8613064791133845, 6: 0.7615507714191925, 7: 0.6645958303620118, 8: 0.8992299485720537, 9: 0.8846406457729731, 10: 0.7192450037009622, 11: 0.8784418948926721, 12: 0.9263665708288501, 13: 0.8506408375887337, 14: 0.8274118257261411, 15: 0.8641152668186429, 16: 0.739133312993973, 17: 0.8261708064339643, 18: 0.6234130275815286, 19: 0.8492061362314951, 20: 0.8555350328386844, 21: 0.9011792862685586, 22: 0.9190556953714848, 23: 0.7547523227981984, 24: 0.6737235230981534, 25: 0.8060390392605158}\n"
          ],
          "name": "stdout"
        }
      ]
    },
    {
      "cell_type": "code",
      "metadata": {
        "id": "GkSgJoYHd1mO",
        "colab_type": "code",
        "outputId": "87ae67d4-87ee-4d74-dfd8-4615b21be870",
        "colab": {
          "base_uri": "https://localhost:8080/",
          "height": 459
        }
      },
      "source": [
        "import xgboost as xgb\n",
        "xgb=xgb.XGBClassifier()\n",
        "xgb.fit(x_train,y_train)\n",
        "x_pred=xgb.predict(x_val)\n",
        "x_prob=xgb.predict_proba(x_val)\n",
        "roc_auc_score_multiclass(y_val,x_pred)"
      ],
      "execution_count": 17,
      "outputs": [
        {
          "output_type": "execute_result",
          "data": {
            "text/plain": [
              "{0: 0.9810555965309392,\n",
              " 1: 0.9176881739612057,\n",
              " 2: 0.9339463432855732,\n",
              " 3: 0.9424479166666666,\n",
              " 4: 0.9066694005368326,\n",
              " 5: 0.9532943612227499,\n",
              " 6: 0.9210936645147171,\n",
              " 7: 0.8593397374050925,\n",
              " 8: 0.9502680818470292,\n",
              " 9: 0.9552632368805296,\n",
              " 10: 0.9079940784603997,\n",
              " 11: 0.9774056254626203,\n",
              " 12: 0.9668771570858248,\n",
              " 13: 0.9348745589217554,\n",
              " 14: 0.8816562932226834,\n",
              " 15: 0.9363252917507309,\n",
              " 16: 0.9169247462856682,\n",
              " 17: 0.9199242258452786,\n",
              " 18: 0.9395349100865218,\n",
              " 19: 0.9715058813005948,\n",
              " 20: 0.9579260929749198,\n",
              " 21: 0.9587060542086273,\n",
              " 22: 0.9781841558157348,\n",
              " 23: 0.9519027678512898,\n",
              " 24: 0.9599715973393497,\n",
              " 25: 0.9598011980562315}"
            ]
          },
          "metadata": {
            "tags": []
          },
          "execution_count": 17
        }
      ]
    },
    {
      "cell_type": "code",
      "metadata": {
        "id": "wBXk2hwAe33J",
        "colab_type": "code",
        "outputId": "a070d781-d684-4034-9060-741f9e68d4a1",
        "colab": {
          "base_uri": "https://localhost:8080/",
          "height": 54
        }
      },
      "source": [
        "from sklearn.ensemble import RandomForestClassifier\n",
        "forest = RandomForestClassifier()\n",
        "forest.fit(x_train, y_train)\n",
        "Y_pred = forest.predict(x_val)\n",
        "print(\"Accuracy score of Random Forest\",roc_auc_score_multiclass(y_val,Y_pred))"
      ],
      "execution_count": 18,
      "outputs": [
        {
          "output_type": "stream",
          "text": [
            "Accuracy score of Random Forest {0: 0.9998696558915536, 1: 0.965110747530968, 2: 0.9838442861335681, 3: 0.9884114583333333, 4: 0.9719094840441397, 5: 0.9767765801972964, 6: 0.9730345223766276, 7: 0.9504425521204749, 8: 0.9731644600065653, 9: 0.9785536846454127, 10: 0.9666913397483345, 11: 0.9891561806069579, 12: 0.9964060818795971, 13: 0.9866106130593967, 14: 0.9745274319963116, 15: 0.9748947950019334, 16: 0.9746199321893403, 17: 0.9789637815953606, 18: 0.9777138905317339, 19: 0.9929737465897401, 20: 0.9754113075027593, 21: 0.9797427387177198, 22: 0.9896118284276179, 23: 0.9838807158583441, 24: 0.9926985448199827, 25: 0.996031746031746}\n"
          ],
          "name": "stdout"
        }
      ]
    },
    {
      "cell_type": "code",
      "metadata": {
        "id": "Kp-aTInsfD1G",
        "colab_type": "code",
        "outputId": "5b488b8b-a787-4e0e-d4e0-15ecdfb3858b",
        "colab": {
          "base_uri": "https://localhost:8080/",
          "height": 54
        }
      },
      "source": [
        "from sklearn.neighbors import KNeighborsClassifier\n",
        "knn = KNeighborsClassifier()\n",
        "knn.fit(x_train, y_train)\n",
        "Y_pred2 = knn.predict(x_val)\n",
        "print(\"Accuracy score of Kneighbors\",roc_auc_score_multiclass(y_val,Y_pred2))"
      ],
      "execution_count": 19,
      "outputs": [
        {
          "output_type": "stream",
          "text": [
            "Accuracy score of Kneighbors {0: 0.9996089676746611, 1: 0.9653706903435493, 2: 0.9862689772939512, 3: 0.9912760416666666, 4: 0.9739723133512278, 5: 0.9724531116794543, 6: 0.9665855126381442, 7: 0.9488820839800327, 8: 0.979873345004924, 9: 0.9819550451896304, 10: 0.9517579570688379, 11: 0.9959104367135455, 12: 0.9856934130609893, 13: 0.9838162197460517, 14: 0.9639810972798525, 15: 0.9525044533142205, 16: 0.9750128080405712, 17: 0.9594868147499727, 18: 0.9667649854222446, 19: 0.9823695156312895, 20: 0.9675210474719893, 21: 0.9626668318424498, 22: 0.9929013021118285, 23: 0.9721320177605522, 24: 0.9886590147416381, 25: 0.9877080413993167}\n"
          ],
          "name": "stdout"
        }
      ]
    },
    {
      "cell_type": "code",
      "metadata": {
        "id": "FmnkZaMwfpLk",
        "colab_type": "code",
        "outputId": "a48bb958-dd64-4e48-b89e-1b77e15ce96a",
        "colab": {
          "base_uri": "https://localhost:8080/",
          "height": 54
        }
      },
      "source": [
        "from sklearn.ensemble import AdaBoostClassifier\n",
        "adb=AdaBoostClassifier(DecisionTreeClassifier(max_depth=1), n_estimators=100)\n",
        "adb.fit(x_train,y_train)\n",
        "a_pred=adb.predict(x_val)\n",
        "print(\"Auc score\", roc_auc_score_multiclass(y_val,a_pred))"
      ],
      "execution_count": 20,
      "outputs": [
        {
          "output_type": "stream",
          "text": [
            "Auc score {0: 0.5799708792186983, 1: 0.7341804410872745, 2: 0.845009872195096, 3: 0.8614583333333333, 4: 0.6387625509493986, 5: 0.5553069053708439, 6: 0.6056392931392931, 7: 0.730475271613742, 8: 0.7987129335813546, 9: 0.5319373012636148, 10: 0.5991857883049594, 11: 0.5969652109548482, 12: 0.5566339759758699, 13: 0.5849406067115162, 14: 0.7660068003688335, 15: 0.741654383986513, 16: 0.6028154663565873, 17: 0.6848944085786192, 18: 0.5873833921293349, 19: 0.5418131401225458, 20: 0.8505520797833473, 21: 0.5616785300731763, 22: 0.9005224860488018, 23: 0.7029256624631655, 24: 0.6432655028147111, 25: 0.8198470060886167}\n"
          ],
          "name": "stdout"
        }
      ]
    },
    {
      "cell_type": "code",
      "metadata": {
        "id": "wH8SO53QU4GK",
        "colab_type": "code",
        "colab": {
          "base_uri": "https://localhost:8080/",
          "height": 231
        },
        "outputId": "816cb5c7-fcec-4e24-994b-efa70fdc852b"
      },
      "source": [
        "m=np.array(df)\n",
        "s=np.zeros(shape=(m.shape[0],m.shape[0]))\n",
        "for i in range(m.shape[0]):\n",
        "  for j in range(m.shape[0]):\n",
        "    if i!=j:\n",
        "      sum1=0\n",
        "      for k in range(2,m.shape[1]):\n",
        "        sum1=sum1+(m[i][k]*m[j][k])\n",
        "      s[i][j]=sum1\n",
        "w=s\n",
        "d=np.zeros(shape=w.shape[0])"
      ],
      "execution_count": 21,
      "outputs": [
        {
          "output_type": "error",
          "ename": "KeyboardInterrupt",
          "evalue": "ignored",
          "traceback": [
            "\u001b[0;31m---------------------------------------------------------------------------\u001b[0m",
            "\u001b[0;31mKeyboardInterrupt\u001b[0m                         Traceback (most recent call last)",
            "\u001b[0;32m<ipython-input-21-9c633e3136cc>\u001b[0m in \u001b[0;36m<module>\u001b[0;34m()\u001b[0m\n\u001b[1;32m      6\u001b[0m       \u001b[0msum1\u001b[0m\u001b[0;34m=\u001b[0m\u001b[0;36m0\u001b[0m\u001b[0;34m\u001b[0m\u001b[0;34m\u001b[0m\u001b[0m\n\u001b[1;32m      7\u001b[0m       \u001b[0;32mfor\u001b[0m \u001b[0mk\u001b[0m \u001b[0;32min\u001b[0m \u001b[0mrange\u001b[0m\u001b[0;34m(\u001b[0m\u001b[0;36m2\u001b[0m\u001b[0;34m,\u001b[0m\u001b[0mm\u001b[0m\u001b[0;34m.\u001b[0m\u001b[0mshape\u001b[0m\u001b[0;34m[\u001b[0m\u001b[0;36m1\u001b[0m\u001b[0;34m]\u001b[0m\u001b[0;34m)\u001b[0m\u001b[0;34m:\u001b[0m\u001b[0;34m\u001b[0m\u001b[0;34m\u001b[0m\u001b[0m\n\u001b[0;32m----> 8\u001b[0;31m         \u001b[0msum1\u001b[0m\u001b[0;34m=\u001b[0m\u001b[0msum1\u001b[0m\u001b[0;34m+\u001b[0m\u001b[0;34m(\u001b[0m\u001b[0mm\u001b[0m\u001b[0;34m[\u001b[0m\u001b[0mi\u001b[0m\u001b[0;34m]\u001b[0m\u001b[0;34m[\u001b[0m\u001b[0mk\u001b[0m\u001b[0;34m]\u001b[0m\u001b[0;34m*\u001b[0m\u001b[0mm\u001b[0m\u001b[0;34m[\u001b[0m\u001b[0mj\u001b[0m\u001b[0;34m]\u001b[0m\u001b[0;34m[\u001b[0m\u001b[0mk\u001b[0m\u001b[0;34m]\u001b[0m\u001b[0;34m)\u001b[0m\u001b[0;34m\u001b[0m\u001b[0;34m\u001b[0m\u001b[0m\n\u001b[0m\u001b[1;32m      9\u001b[0m       \u001b[0ms\u001b[0m\u001b[0;34m[\u001b[0m\u001b[0mi\u001b[0m\u001b[0;34m]\u001b[0m\u001b[0;34m[\u001b[0m\u001b[0mj\u001b[0m\u001b[0;34m]\u001b[0m\u001b[0;34m=\u001b[0m\u001b[0msum1\u001b[0m\u001b[0;34m\u001b[0m\u001b[0;34m\u001b[0m\u001b[0m\n\u001b[1;32m     10\u001b[0m \u001b[0mw\u001b[0m\u001b[0;34m=\u001b[0m\u001b[0ms\u001b[0m\u001b[0;34m\u001b[0m\u001b[0;34m\u001b[0m\u001b[0m\n",
            "\u001b[0;31mKeyboardInterrupt\u001b[0m: "
          ]
        }
      ]
    },
    {
      "cell_type": "code",
      "metadata": {
        "id": "rG-izjB6bIYS",
        "colab_type": "code",
        "outputId": "5ea3922d-1e72-4d2d-e55e-5468423c84a2",
        "colab": {
          "base_uri": "https://localhost:8080/",
          "height": 238
        }
      },
      "source": [
        "for i in range(d.shape[0]):\n",
        "  d[i]=np.sum(w[i],axis=0)\n",
        "wnew=w/d.reshape(d.shape[0],1)\n",
        "Km=wnew\n",
        "Km\n"
      ],
      "execution_count": 0,
      "outputs": [
        {
          "output_type": "execute_result",
          "data": {
            "text/plain": [
              "array([[0.        , 0.        , 0.00272975, ..., 0.00272975, 0.        ,\n",
              "        0.        ],\n",
              "       [0.        , 0.        , 0.        , ..., 0.        , 0.        ,\n",
              "        0.        ],\n",
              "       [0.00272975, 0.        , 0.        , ..., 0.00272975, 0.        ,\n",
              "        0.        ],\n",
              "       ...,\n",
              "       [0.00272975, 0.        , 0.00272975, ..., 0.        , 0.        ,\n",
              "        0.        ],\n",
              "       [0.        , 0.        , 0.        , ..., 0.        , 0.        ,\n",
              "        0.00306748],\n",
              "       [0.        , 0.        , 0.        , ..., 0.        , 0.00306748,\n",
              "        0.        ]])"
            ]
          },
          "metadata": {
            "tags": []
          },
          "execution_count": 81
        }
      ]
    },
    {
      "cell_type": "code",
      "metadata": {
        "id": "-y5Os1YObN9k",
        "colab_type": "code",
        "outputId": "a8bf1d42-f834-4ad2-aa10-6b19e18aa43a",
        "colab": {
          "base_uri": "https://localhost:8080/",
          "height": 1000
        }
      },
      "source": [
        "print(np.sum(Km,axis=1))\n",
        "print(np.sum(Km,axis=0))"
      ],
      "execution_count": 0,
      "outputs": [
        {
          "output_type": "stream",
          "text": [
            "[1. 1. 1. 1. 1. 1. 1. 1. 1. 1. 1. 1. 1. 1. 1. 1. 1. 1. 1. 1. 1. 1. 1. 1.\n",
            " 1. 1. 1. 1. 1. 1. 1. 1. 1. 1. 1. 1. 1. 1. 1. 1. 1. 1. 1. 1. 1. 1. 1. 1.\n",
            " 1. 1. 1. 1. 1. 1. 1. 1. 1. 1. 1. 1. 1. 1. 1. 1. 1. 1. 1. 1. 1. 1. 1. 1.\n",
            " 1. 1. 1. 1. 1. 1. 1. 1. 1. 1. 1. 1. 1. 1. 1. 1. 1. 1. 1. 1. 1. 1. 1. 1.\n",
            " 1. 1. 1. 1. 1. 1. 1. 1. 1. 1. 1. 1. 1. 1. 1. 1. 1. 1. 1. 1. 1. 1. 1. 1.\n",
            " 1. 1. 1. 1. 1. 1. 1. 1. 1. 1. 1. 1. 1. 1. 1. 1. 1. 1. 1. 1. 1. 1. 1. 1.\n",
            " 1. 1. 1. 1. 1. 1. 1. 1. 1. 1. 1. 1. 1. 1. 1. 1. 1. 1. 1. 1. 1. 1. 1. 1.\n",
            " 1. 1. 1. 1. 1. 1. 1. 1. 1. 1. 1. 1. 1. 1. 1. 1. 1. 1. 1. 1. 1. 1. 1. 1.\n",
            " 1. 1. 1. 1. 1. 1. 1. 1. 1. 1. 1. 1. 1. 1. 1. 1. 1. 1. 1. 1. 1. 1. 1. 1.\n",
            " 1. 1. 1. 1. 1. 1. 1. 1. 1. 1. 1. 1. 1. 1. 1. 1. 1. 1. 1. 1. 1. 1. 1. 1.\n",
            " 1. 1. 1. 1. 1. 1. 1. 1. 1. 1. 1. 1. 1. 1. 1. 1. 1. 1. 1. 1. 1. 1. 1. 1.\n",
            " 1. 1. 1. 1. 1. 1. 1. 1. 1. 1. 1. 1. 1. 1. 1. 1. 1. 1. 1. 1. 1. 1. 1. 1.\n",
            " 1. 1. 1. 1. 1. 1. 1. 1. 1. 1. 1. 1. 1. 1. 1. 1. 1. 1. 1. 1. 1. 1. 1. 1.\n",
            " 1. 1. 1. 1. 1. 1. 1. 1. 1. 1. 1. 1. 1. 1. 1. 1. 1. 1. 1. 1. 1. 1. 1. 1.\n",
            " 1. 1. 1. 1. 1. 1. 1. 1. 1. 1. 1. 1. 1. 1. 1. 1. 1. 1. 1. 1. 1. 1. 1. 1.\n",
            " 1. 1. 1. 1. 1. 1. 1. 1. 1. 1. 1. 1. 1. 1. 1. 1. 1. 1. 1. 1. 1. 1. 1. 1.\n",
            " 1. 1. 1. 1. 1. 1. 1. 1. 1. 1. 1. 1. 1. 1. 1. 1. 1. 1. 1. 1. 1. 1. 1. 1.\n",
            " 1. 1. 1. 1. 1. 1. 1. 1. 1. 1. 1. 1. 1. 1. 1. 1. 1. 1. 1. 1. 1. 1. 1. 1.\n",
            " 1. 1. 1. 1. 1. 1. 1. 1. 1. 1. 1. 1. 1. 1. 1. 1. 1. 1. 1. 1. 1. 1. 1. 1.\n",
            " 1. 1. 1. 1. 1. 1. 1. 1. 1. 1. 1. 1. 1. 1. 1. 1. 1. 1. 1. 1. 1. 1. 1. 1.\n",
            " 1. 1. 1. 1. 1. 1. 1. 1. 1. 1. 1. 1. 1. 1. 1. 1. 1. 1. 1. 1. 1. 1. 1. 1.\n",
            " 1. 1. 1. 1. 1. 1. 1. 1. 1. 1. 1. 1. 1. 1. 1. 1. 1. 1. 1. 1. 1. 1. 1. 1.\n",
            " 1. 1. 1. 1. 1. 1. 1. 1. 1. 1. 1. 1. 1. 1. 1. 1. 1. 1. 1. 1. 1. 1. 1. 1.\n",
            " 1. 1. 1. 1. 1. 1. 1. 1. 1. 1. 1. 1. 1. 1. 1. 1. 1. 1. 1. 1. 1. 1. 1. 1.\n",
            " 1. 1. 1. 1. 1. 1. 1. 1. 1. 1. 1. 1. 1. 1. 1. 1. 1. 1. 1. 1. 1. 1. 1. 1.\n",
            " 1. 1. 1. 1. 1. 1. 1. 1. 1. 1. 1. 1. 1. 1. 1. 1. 1. 1. 1. 1. 1. 1. 1. 1.\n",
            " 1. 1. 1. 1. 1. 1. 1. 1. 1. 1. 1. 1. 1. 1. 1. 1. 1. 1. 1. 1. 1. 1. 1. 1.\n",
            " 1. 1. 1. 1. 1. 1. 1. 1. 1. 1. 1. 1. 1. 1. 1. 1. 1. 1. 1. 1. 1. 1. 1. 1.\n",
            " 1. 1. 1. 1. 1. 1. 1. 1. 1. 1. 1. 1. 1. 1. 1. 1. 1. 1. 1. 1. 1. 1. 1. 1.\n",
            " 1. 1. 1. 1. 1. 1. 1. 1. 1. 1. 1. 1. 1. 1. 1. 1. 1. 1. 1. 1. 1. 1. 1. 1.\n",
            " 1. 1. 1. 1. 1. 1. 1. 1. 1. 1. 1. 1. 1. 1. 1. 1. 1. 1. 1. 1. 1. 1. 1. 1.\n",
            " 1. 1. 1. 1. 1. 1. 1. 1. 1. 1. 1. 1. 1. 1. 1. 1. 1. 1. 1. 1. 1. 1. 1. 1.\n",
            " 1. 1. 1. 1. 1. 1. 1. 1. 1. 1. 1. 1. 1. 1. 1. 1. 1. 1. 1. 1. 1. 1. 1. 1.\n",
            " 1. 1. 1. 1. 1. 1. 1. 1. 1. 1. 1. 1. 1. 1. 1. 1. 1. 1. 1. 1. 1. 1. 1. 1.\n",
            " 1. 1. 1. 1. 1. 1. 1. 1. 1. 1. 1. 1. 1. 1. 1. 1. 1. 1. 1. 1. 1. 1. 1. 1.\n",
            " 1. 1. 1. 1. 1. 1. 1. 1. 1. 1. 1. 1. 1. 1. 1. 1. 1. 1. 1. 1. 1. 1. 1. 1.\n",
            " 1. 1. 1. 1. 1. 1. 1. 1. 1. 1. 1. 1. 1. 1. 1. 1. 1. 1. 1. 1. 1. 1. 1. 1.\n",
            " 1. 1. 1. 1. 1. 1. 1. 1. 1. 1. 1. 1. 1. 1. 1. 1. 1. 1. 1. 1. 1. 1. 1. 1.\n",
            " 1. 1. 1. 1. 1. 1. 1. 1. 1. 1. 1. 1. 1. 1. 1. 1. 1. 1. 1. 1. 1. 1. 1. 1.\n",
            " 1. 1. 1. 1. 1. 1. 1. 1. 1. 1. 1. 1. 1. 1. 1. 1. 1. 1. 1. 1. 1. 1. 1. 1.\n",
            " 1. 1. 1. 1. 1. 1. 1. 1. 1. 1. 1. 1. 1. 1. 1. 1. 1. 1. 1. 1. 1. 1. 1. 1.\n",
            " 1. 1. 1. 1. 1. 1. 1. 1. 1. 1. 1. 1. 1. 1. 1. 1.]\n",
            "[1.03681726 0.63457318 1.03681726 1.03681726 0.90911809 1.21229922\n",
            " 0.90911809 1.12311588 1.03681726 0.82180001 0.72521986 0.90911809\n",
            " 1.03593588 1.03681726 1.03593588 1.03681726 1.03593588 1.03593588\n",
            " 0.90911809 1.21229922 1.03681726 1.21229922 1.21229922 1.22085668\n",
            " 1.31005394 1.21229922 1.03681726 1.03593588 1.03681726 1.1259961\n",
            " 1.21229922 1.03593588 1.03593588 0.94670085 0.90911809 0.82180001\n",
            " 0.90911809 1.21229922 0.90911809 1.03593588 0.90911809 1.03593588\n",
            " 1.21229922 0.90911809 1.22085668 1.03681726 0.90911809 1.03681726\n",
            " 0.90911809 1.1259961  1.22085668 0.94670085 1.1259961  0.77310714\n",
            " 1.03681726 0.90911809 0.82180001 1.31005394 0.42076959 1.12311588\n",
            " 1.03681726 1.22085668 0.63457318 1.21229922 0.90911809 1.03681726\n",
            " 0.90911809 1.03593588 0.90911809 1.03593588 1.03593588 1.03681726\n",
            " 0.82180001 1.03681726 0.90911809 0.82180001 0.90911809 1.03593588\n",
            " 1.03681726 1.03593588 1.1259961  1.31005394 1.03593588 1.03681726\n",
            " 1.03681726 0.90911809 1.22085668 1.03593588 0.90911809 0.90911809\n",
            " 1.03681726 1.03593588 0.90911809 1.03681726 1.03681726 1.03593588\n",
            " 1.31005394 1.21229922 1.12311588 1.31005394 0.90911809 0.90911809\n",
            " 1.31005394 1.1259961  0.78233311 1.03681726 0.82180001 0.82180001\n",
            " 0.90911809 0.90911809 1.03681726 0.72521986 0.90911809 1.12311588\n",
            " 0.90911809 0.90911809 1.03681726 0.90911809 1.03593588 1.31005394\n",
            " 1.03681726 0.90911809 1.03681726 1.03593588 1.22085668 1.03681726\n",
            " 1.1259961  1.03681726 1.03681726 1.03681726 0.90911809 1.03593588\n",
            " 1.03593588 1.03681726 1.03681726 1.03593588 0.72521986 1.03681726\n",
            " 1.31005394 1.03681726 1.03681726 1.21229922 1.03593588 0.90911809\n",
            " 0.90911809 0.90911809 0.72521986 1.03681726 1.31005394 1.03681726\n",
            " 1.03593588 1.31005394 1.03681726 1.03681726 0.72521986 1.03681726\n",
            " 1.03681726 0.90911809 1.03681726 1.03681726 0.42076959 1.03593588\n",
            " 0.90911809 0.42076959 1.03681726 0.90911809 0.64631988 1.03681726\n",
            " 1.03593588 1.1259961  0.73255556 0.82180001 1.03681726 0.90911809\n",
            " 1.21229922 1.1259961  1.03593588 1.03593588 1.03681726 1.03593588\n",
            " 1.21229922 1.03681726 1.03681726 1.1259961  1.03681726 0.90911809\n",
            " 1.21229922 0.90911809 1.03681726 0.90911809 1.03681726 1.03681726\n",
            " 0.82180001 1.03593588 1.12311588 1.03593588 1.03681726 1.31005394\n",
            " 0.90911809 1.03681726 0.94670085 1.31005394 1.03593588 1.03681726\n",
            " 0.90911809 1.12311588 0.90911809 0.64631988 1.22085668 1.03593588\n",
            " 1.03593588 1.03681726 0.42076959 1.31005394 1.31005394 1.03681726\n",
            " 1.03681726 0.90911809 1.03681726 1.03681726 0.90911809 0.86234705\n",
            " 1.22085668 1.03593588 1.31005394 1.03593588 0.90911809 1.12311588\n",
            " 0.90911809 0.90911809 1.03681726 1.03681726 1.03681726 1.03681726\n",
            " 0.90911809 1.03681726 1.03593588 0.72521986 1.12311588 0.90911809\n",
            " 0.42076959 1.03681726 0.72521986 0.90911809 1.03681726 0.72521986\n",
            " 1.1259961  0.82180001 0.90911809 0.82180001 1.03681726 0.90911809\n",
            " 1.03681726 1.48450519 1.03681726 1.03681726 1.22085668 1.03593588\n",
            " 1.03681726 1.31005394 1.31005394 0.72521986 0.90911809 0.90911809\n",
            " 1.31005394 0.46137494 0.90911809 1.03681726 1.03593588 1.03681726\n",
            " 1.03681726 1.03593588 0.90911809 0.90911809 1.03681726 0.90911809\n",
            " 1.03593588 0.90911809 1.03681726 0.82180001 0.42076959 1.03681726\n",
            " 0.90911809 0.90911809 1.03681726 1.03593588 0.90911809 0.90911809\n",
            " 1.1259961  0.90911809 1.03681726 1.03681726 0.90911809 0.94670085\n",
            " 0.90911809 1.03681726 1.03681726 1.1259961  1.03593588 1.09403981\n",
            " 1.03593588 0.90911809 1.31005394 1.03593588 1.61134373 1.03593588\n",
            " 0.90911809 0.90911809 1.03593588 1.22085668 1.03681726 1.03593588\n",
            " 0.72521986 1.03681726 1.03681726 1.03681726 1.03593588 1.03593588\n",
            " 1.03681726 0.82180001 0.42076959 0.90911809 0.90911809 0.90911809\n",
            " 0.82180001 1.03681726 0.90911809 1.03681726 1.21229922 1.31005394\n",
            " 1.03681726 1.03593588 1.21229922 1.03593588 1.31005394 1.03681726\n",
            " 1.03593588 0.42076959 1.03681726 0.90911809 1.03593588 0.90911809\n",
            " 0.63457318 0.90911809 1.03681726 0.90911809 1.03681726 0.82180001\n",
            " 1.03593588 1.03593588 1.21229922 0.90911809 0.86856524 1.61134373\n",
            " 1.03681726 0.90911809 1.03593588 0.90911809 1.21229922 1.1259961\n",
            " 1.03681726 1.03681726 0.72521986 0.82180001 1.03593588 0.90911809\n",
            " 1.03681726 1.03681726 0.90911809 1.1259961  1.1259961  0.90911809\n",
            " 1.22085668 1.03681726 1.31005394 0.90911809 0.90911809 1.03681726\n",
            " 0.90911809 1.1259961  1.21229922 1.22085668 1.03593588 0.82180001\n",
            " 1.03593588 1.03681726 0.90911809 0.90911809 0.90911809 0.90911809\n",
            " 1.03681726 1.21229922 1.03681726 1.21229922 0.90911809 0.90911809\n",
            " 1.03593588 1.31005394 0.72521986 1.03593588 0.90911809 0.90911809\n",
            " 1.03681726 1.31005394 0.90911809 1.03681726 1.03681726 1.03681726\n",
            " 0.90911809 1.03593588 0.90911809 1.31005394 1.1259961  0.90911809\n",
            " 1.31005394 0.90911809 1.03681726 1.31005394 1.03681726 0.46137494\n",
            " 0.78233311 1.03681726 1.1259961  0.90911809 1.03681726 1.03681726\n",
            " 0.90911809 1.1259961  1.03593588 0.90911809 0.72521986 0.90911809\n",
            " 0.42076959 1.31005394 1.03681726 0.90911809 0.82180001 0.90911809\n",
            " 0.90911809 1.03681726 1.03593588 1.1259961  1.29967211 0.90911809\n",
            " 1.21229922 0.90911809 0.90911809 0.94670085 1.31005394 1.03681726\n",
            " 0.42076959 0.90911809 1.03681726 1.12311588 0.90911809 1.03681726\n",
            " 1.03681726 1.03593588 1.03593588 1.03593588 0.90911809 1.21229922\n",
            " 1.21229922 1.03593588 1.03681726 0.94670085 0.90911809 0.90911809\n",
            " 1.03681726 1.03593588 1.22085668 1.31005394 0.42076959 1.03681726\n",
            " 1.03681726 0.90911809 0.90911809 1.1259961  1.03681726 1.1259961\n",
            " 0.90911809 0.90911809 1.03681726 0.90911809 1.03593588 1.12311588\n",
            " 0.90911809 1.03593588 1.03593588 0.90911809 0.90911809 1.03681726\n",
            " 0.63457318 1.03681726 1.03593588 1.03681726 1.03681726 1.31005394\n",
            " 1.03593588 0.90911809 1.03593588 0.94670085 0.72521986 1.03681726\n",
            " 0.42076959 1.1259961  0.90911809 1.03593588 0.42076959 1.03593588\n",
            " 1.03593588 1.1259961  0.90911809 1.03681726 1.12311588 0.90911809\n",
            " 1.03593588 1.03593588 0.90911809 0.72521986 1.21229922 0.72521986\n",
            " 1.1259961  1.03681726 0.90911809 1.03593588 1.03681726 1.03681726\n",
            " 0.90911809 0.90911809 1.03681726 0.90911809 0.90911809 1.03681726\n",
            " 1.03593588 0.90911809 1.03681726 0.72521986 0.82180001 1.03681726\n",
            " 1.03681726 1.03681726 1.03593588 1.03681726 1.03681726 1.21229922\n",
            " 1.03593588 1.03681726 1.03681726 1.12311588 1.03593588 1.03681726\n",
            " 0.90911809 0.82180001 1.1259961  1.03681726 1.03593588 1.21229922\n",
            " 1.1259961  1.03593588 1.03681726 0.90911809 1.31005394 0.90911809\n",
            " 1.03681726 1.21229922 1.21229922 1.03681726 0.46137494 1.03681726\n",
            " 1.12311588 0.90911809 1.26952128 0.90911809 0.90911809 0.82180001\n",
            " 1.1259961  1.03593588 0.90911809 0.90911809 0.90911809 1.03681726\n",
            " 0.90911809 0.86234705 0.82180001 0.90911809 1.03681726 1.03593588\n",
            " 1.03593588 1.03681726 1.03593588 1.03593588 1.03681726 1.03593588\n",
            " 1.12311588 0.72521986 1.03681726 0.90911809 1.03681726 0.90911809\n",
            " 0.82180001 1.12311588 1.03681726 1.03593588 0.90911809 1.31005394\n",
            " 0.90911809 1.03681726 0.90911809 0.94670085 0.90911809 1.03681726\n",
            " 0.90911809 1.12311588 1.03593588 0.90911809 1.03593588 1.21229922\n",
            " 0.33467661 1.03593588 1.03681726 0.90911809 1.22085668 1.03593588\n",
            " 0.94968111 1.03593588 1.03593588 0.90911809 1.03681726 1.03681726\n",
            " 0.72521986 0.72521986 0.63457318 0.90911809 1.31005394 1.03593588\n",
            " 1.03681726 1.29967211 1.31005394 0.90911809 1.03593588 0.90911809\n",
            " 1.03593588 1.03593588 0.82180001 1.03593588 1.03681726 1.1259961\n",
            " 1.03593588 1.61134373 1.03593588 1.1259961  1.03681726 0.90911809\n",
            " 1.21229922 0.90911809 1.22085668 1.03593588 0.42076959 1.22085668\n",
            " 0.46137494 1.03681726 1.03681726 1.31005394 0.82180001 1.03681726\n",
            " 0.72521986 0.90911809 0.90911809 0.90911809 1.03593588 1.03681726\n",
            " 1.21229922 0.82180001 1.12311588 1.03681726 1.31005394 1.03593588\n",
            " 1.03681726 0.90911809 1.61134373 1.03593588 1.31005394 1.03681726\n",
            " 1.03681726 1.03593588 1.03681726 1.03681726 1.03681726 1.03681726\n",
            " 1.03681726 1.03593588 1.03681726 0.86234705 1.03681726 0.90911809\n",
            " 1.03681726 0.90911809 1.03593588 1.31005394 1.21229922 1.21229922\n",
            " 1.03681726 0.86234705 1.31005394 0.64631988 1.03593588 1.03681726\n",
            " 1.1259961  0.90911809 1.03593588 1.03593588 1.03681726 1.03681726\n",
            " 1.21229922 1.03593588 1.03681726 0.90911809 1.22085668 0.90911809\n",
            " 0.90911809 1.03681726 1.03593588 1.03681726 0.42076959 1.21229922\n",
            " 0.90911809 1.03593588 1.03681726 1.03681726 1.03593588 0.90911809\n",
            " 1.1259961  1.03681726 1.03681726 1.31005394 0.72521986 1.03593588\n",
            " 1.1259961  1.03681726 1.03681726 0.73255556 1.03681726 0.82180001\n",
            " 0.90911809 1.21229922 1.03681726 1.31005394 1.1259961  1.21229922\n",
            " 0.82180001 0.90911809 1.21229922 0.90911809 1.03681726 1.03593588\n",
            " 0.90911809 0.82180001 1.21229922 0.33467661 0.42076959 0.42076959\n",
            " 1.03593588 0.90911809 0.94670085 1.03681726 1.03681726 1.03681726\n",
            " 1.1259961  1.03681726 1.03593588 1.31005394 1.03681726 1.03593588\n",
            " 1.03681726 0.90911809 1.21229922 1.03681726 1.21229922 0.82180001\n",
            " 1.03681726 1.03681726 1.03681726 1.03593588 1.22085668 0.90911809\n",
            " 0.90911809 1.03681726 0.82180001 1.22085668 0.82180001 1.03593588\n",
            " 0.82180001 1.1259961  1.03681726 0.90911809 1.03681726 1.22085668\n",
            " 1.12311588 1.03681726 1.21229922 0.90911809 0.90911809 1.03681726\n",
            " 0.90911809 1.03681726 1.03681726 0.90911809 1.52434802 1.03593588\n",
            " 0.90911809 0.63457318 1.03681726 0.90911809 1.03681726 0.90911809\n",
            " 1.03593588 1.03681726 0.72521986 1.31005394 1.03681726 1.1259961\n",
            " 1.22085668 1.03681726 1.03681726 1.1259961  0.90911809 1.03681726\n",
            " 0.90911809 1.03593588 1.31005394 1.03593588 0.94670085 0.90911809\n",
            " 0.82180001 0.90911809 0.90911809 1.03593588 1.03681726 1.03681726\n",
            " 0.90911809 1.03681726 0.90911809 1.21229922 0.63457318 1.03681726\n",
            " 0.72521986 0.90911809 1.03681726 1.21229922 0.42076959 1.03593588\n",
            " 0.82180001 1.03593588 1.03593588 1.1259961  0.72521986 1.03681726\n",
            " 1.03681726 1.1259961  0.90911809 1.22085668 1.03681726 1.03593588\n",
            " 1.1259961  1.21229922 1.31005394 0.90911809 1.03593588 1.03593588\n",
            " 1.1259961  1.03681726 1.03593588 1.31005394 1.1259961  0.90911809\n",
            " 0.72521986 1.03681726 1.03593588 1.1259961  0.90911809 0.86234705\n",
            " 0.42076959 1.03681726 1.03681726 1.03681726 1.03593588 1.03681726\n",
            " 1.21229922 1.03593588 0.90911809 0.90911809 0.90911809 1.21229922\n",
            " 1.03681726 1.03681726 1.03593588 0.86234705 1.03681726 1.1259961\n",
            " 1.22085668 1.03593588 1.03681726 0.82180001 1.21229922 1.31005394\n",
            " 0.90911809 0.42076959 1.03681726 0.90911809 1.1259961  0.42076959\n",
            " 0.90911809 0.42076959 0.82180001 1.03593588 1.03681726 1.03681726\n",
            " 0.90911809 1.03593588 1.31005394 0.90911809 0.90911809 0.90911809\n",
            " 0.90911809 0.90911809 1.21229922 1.31005394 1.03593588 1.03593588\n",
            " 1.03593588 0.90911809 0.42076959 1.03681726 1.03681726 1.03593588\n",
            " 0.90911809 0.90911809 1.03593588 0.90911809 1.03593588 1.22085668\n",
            " 1.03681726 0.90911809 1.03681726 0.90911809 0.82180001 0.90911809\n",
            " 1.1259961  0.90911809 0.82180001 0.33467661 1.03681726 0.90911809\n",
            " 0.90911809 1.21229922 1.03681726 0.82180001 1.03681726 1.03681726\n",
            " 0.90911809 1.03681726 0.90911809 1.03681726 1.29967211 0.82180001\n",
            " 1.03593588 1.12311588 1.03681726 0.90911809 1.03681726 1.1259961\n",
            " 0.72521986 0.77310714 0.82180001 1.21229922 0.90911809 1.03681726\n",
            " 0.42076959 1.03681726 1.03593588 1.03681726 0.94670085 0.90911809\n",
            " 1.03681726 1.03593588 1.03593588 0.90911809 1.31005394 1.31005394\n",
            " 0.90911809 1.03681726 1.31005394 0.42076959 1.03681726 1.03681726\n",
            " 0.90911809 1.03681726 0.90911809 0.90911809]\n"
          ],
          "name": "stdout"
        }
      ]
    },
    {
      "cell_type": "code",
      "metadata": {
        "id": "Z1V-98pImkVa",
        "colab_type": "code",
        "colab": {}
      },
      "source": [
        "\n",
        "m=m.dot(m.T)  \n",
        "s=np.zeros(shape=(m.shape[0],m.shape[0]))\n",
        "for i in range(m.shape[0]):\n",
        "  for j in range(m.shape[0]):\n",
        "    if i!=j:\n",
        "      sum1=0\n",
        "      for k in range(2,m.shape[1]):\n",
        "        sum1=sum1+(m[i][k]*m[j][k])\n",
        "      s[i][j]=sum1   \n"
      ],
      "execution_count": 0,
      "outputs": []
    },
    {
      "cell_type": "code",
      "metadata": {
        "id": "j40zOKQ-mnOz",
        "colab_type": "code",
        "outputId": "27f75eca-bfdf-42cd-f186-ad491b8d6f55",
        "colab": {
          "base_uri": "https://localhost:8080/",
          "height": 238
        }
      },
      "source": [
        "d=np.zeros(shape=w.shape[0])\n",
        "w=s\n",
        "for i in range(d.shape[0]):\n",
        "  d[i]=np.sum(w[i],axis=0)\n",
        "wnew=w/d.reshape(d.shape[0],1)  \n",
        "Kc=wnew\n",
        "Kc"
      ],
      "execution_count": 0,
      "outputs": [
        {
          "output_type": "execute_result",
          "data": {
            "text/plain": [
              "array([[0.        , 0.00159626, 0.00159626, ..., 0.00013716, 0.00159626,\n",
              "        0.00086233],\n",
              "       [0.00159626, 0.        , 0.00159626, ..., 0.00013716, 0.00159626,\n",
              "        0.00086233],\n",
              "       [0.00159626, 0.00159626, 0.        , ..., 0.00013716, 0.00159626,\n",
              "        0.00086233],\n",
              "       ...,\n",
              "       [0.00032536, 0.00032536, 0.00032536, ..., 0.        , 0.00032536,\n",
              "        0.00125644],\n",
              "       [0.00159626, 0.00159626, 0.00159626, ..., 0.00013716, 0.        ,\n",
              "        0.00086233],\n",
              "       [0.00122112, 0.00122112, 0.00122112, ..., 0.00075003, 0.00122112,\n",
              "        0.        ]])"
            ]
          },
          "metadata": {
            "tags": []
          },
          "execution_count": 42
        }
      ]
    },
    {
      "cell_type": "markdown",
      "metadata": {
        "id": "SAFnKTDscdnX",
        "colab_type": "text"
      },
      "source": [
        "**Same, checking for bi-stochastic behaviour**"
      ]
    },
    {
      "cell_type": "code",
      "metadata": {
        "id": "DlvTfnrF2Smi",
        "colab_type": "code",
        "outputId": "d6fc24bb-a420-4e80-8a80-13506afbe222",
        "colab": {
          "base_uri": "https://localhost:8080/",
          "height": 986
        }
      },
      "source": [
        "  np.sum(Kc,axis=1)"
      ],
      "execution_count": 0,
      "outputs": [
        {
          "output_type": "execute_result",
          "data": {
            "text/plain": [
              "array([1., 1., 1., 1., 1., 1., 1., 1., 1., 1., 1., 1., 1., 1., 1., 1., 1.,\n",
              "       1., 1., 1., 1., 1., 1., 1., 1., 1., 1., 1., 1., 1., 1., 1., 1., 1.,\n",
              "       1., 1., 1., 1., 1., 1., 1., 1., 1., 1., 1., 1., 1., 1., 1., 1., 1.,\n",
              "       1., 1., 1., 1., 1., 1., 1., 1., 1., 1., 1., 1., 1., 1., 1., 1., 1.,\n",
              "       1., 1., 1., 1., 1., 1., 1., 1., 1., 1., 1., 1., 1., 1., 1., 1., 1.,\n",
              "       1., 1., 1., 1., 1., 1., 1., 1., 1., 1., 1., 1., 1., 1., 1., 1., 1.,\n",
              "       1., 1., 1., 1., 1., 1., 1., 1., 1., 1., 1., 1., 1., 1., 1., 1., 1.,\n",
              "       1., 1., 1., 1., 1., 1., 1., 1., 1., 1., 1., 1., 1., 1., 1., 1., 1.,\n",
              "       1., 1., 1., 1., 1., 1., 1., 1., 1., 1., 1., 1., 1., 1., 1., 1., 1.,\n",
              "       1., 1., 1., 1., 1., 1., 1., 1., 1., 1., 1., 1., 1., 1., 1., 1., 1.,\n",
              "       1., 1., 1., 1., 1., 1., 1., 1., 1., 1., 1., 1., 1., 1., 1., 1., 1.,\n",
              "       1., 1., 1., 1., 1., 1., 1., 1., 1., 1., 1., 1., 1., 1., 1., 1., 1.,\n",
              "       1., 1., 1., 1., 1., 1., 1., 1., 1., 1., 1., 1., 1., 1., 1., 1., 1.,\n",
              "       1., 1., 1., 1., 1., 1., 1., 1., 1., 1., 1., 1., 1., 1., 1., 1., 1.,\n",
              "       1., 1., 1., 1., 1., 1., 1., 1., 1., 1., 1., 1., 1., 1., 1., 1., 1.,\n",
              "       1., 1., 1., 1., 1., 1., 1., 1., 1., 1., 1., 1., 1., 1., 1., 1., 1.,\n",
              "       1., 1., 1., 1., 1., 1., 1., 1., 1., 1., 1., 1., 1., 1., 1., 1., 1.,\n",
              "       1., 1., 1., 1., 1., 1., 1., 1., 1., 1., 1., 1., 1., 1., 1., 1., 1.,\n",
              "       1., 1., 1., 1., 1., 1., 1., 1., 1., 1., 1., 1., 1., 1., 1., 1., 1.,\n",
              "       1., 1., 1., 1., 1., 1., 1., 1., 1., 1., 1., 1., 1., 1., 1., 1., 1.,\n",
              "       1., 1., 1., 1., 1., 1., 1., 1., 1., 1., 1., 1., 1., 1., 1., 1., 1.,\n",
              "       1., 1., 1., 1., 1., 1., 1., 1., 1., 1., 1., 1., 1., 1., 1., 1., 1.,\n",
              "       1., 1., 1., 1., 1., 1., 1., 1., 1., 1., 1., 1., 1., 1., 1., 1., 1.,\n",
              "       1., 1., 1., 1., 1., 1., 1., 1., 1., 1., 1., 1., 1., 1., 1., 1., 1.,\n",
              "       1., 1., 1., 1., 1., 1., 1., 1., 1., 1., 1., 1., 1., 1., 1., 1., 1.,\n",
              "       1., 1., 1., 1., 1., 1., 1., 1., 1., 1., 1., 1., 1., 1., 1., 1., 1.,\n",
              "       1., 1., 1., 1., 1., 1., 1., 1., 1., 1., 1., 1., 1., 1., 1., 1., 1.,\n",
              "       1., 1., 1., 1., 1., 1., 1., 1., 1., 1., 1., 1., 1., 1., 1., 1., 1.,\n",
              "       1., 1., 1., 1., 1., 1., 1., 1., 1., 1., 1., 1., 1., 1., 1., 1., 1.,\n",
              "       1., 1., 1., 1., 1., 1., 1., 1., 1., 1., 1., 1., 1., 1., 1., 1., 1.,\n",
              "       1., 1., 1., 1., 1., 1., 1., 1., 1., 1., 1., 1., 1., 1., 1., 1., 1.,\n",
              "       1., 1., 1., 1., 1., 1., 1., 1., 1., 1., 1., 1., 1., 1., 1., 1., 1.,\n",
              "       1., 1., 1., 1., 1., 1., 1., 1., 1., 1., 1., 1., 1., 1., 1., 1., 1.,\n",
              "       1., 1., 1., 1., 1., 1., 1., 1., 1., 1., 1., 1., 1., 1., 1., 1., 1.,\n",
              "       1., 1., 1., 1., 1., 1., 1., 1., 1., 1., 1., 1., 1., 1., 1., 1., 1.,\n",
              "       1., 1., 1., 1., 1., 1., 1., 1., 1., 1., 1., 1., 1., 1., 1., 1., 1.,\n",
              "       1., 1., 1., 1., 1., 1., 1., 1., 1., 1., 1., 1., 1., 1., 1., 1., 1.,\n",
              "       1., 1., 1., 1., 1., 1., 1., 1., 1., 1., 1., 1., 1., 1., 1., 1., 1.,\n",
              "       1., 1., 1., 1., 1., 1., 1., 1., 1., 1., 1., 1., 1., 1., 1., 1., 1.,\n",
              "       1., 1., 1., 1., 1., 1., 1., 1., 1., 1., 1., 1., 1., 1., 1., 1., 1.,\n",
              "       1., 1., 1., 1., 1., 1., 1., 1., 1., 1., 1., 1., 1., 1., 1., 1., 1.,\n",
              "       1., 1., 1., 1., 1., 1., 1., 1., 1., 1., 1., 1., 1., 1., 1., 1., 1.,\n",
              "       1., 1., 1., 1., 1., 1., 1., 1., 1., 1., 1., 1., 1., 1., 1., 1., 1.,\n",
              "       1., 1., 1., 1., 1., 1., 1., 1., 1., 1., 1., 1., 1., 1., 1., 1., 1.,\n",
              "       1., 1., 1., 1., 1., 1., 1., 1., 1., 1., 1., 1., 1., 1., 1., 1., 1.,\n",
              "       1., 1., 1., 1., 1., 1., 1., 1., 1., 1., 1., 1., 1., 1., 1., 1., 1.,\n",
              "       1., 1., 1., 1., 1., 1., 1., 1., 1., 1., 1., 1., 1., 1., 1., 1., 1.,\n",
              "       1., 1., 1., 1., 1., 1., 1., 1., 1., 1., 1., 1., 1., 1., 1., 1., 1.,\n",
              "       1., 1., 1., 1., 1., 1., 1., 1., 1., 1., 1., 1., 1., 1., 1., 1., 1.,\n",
              "       1., 1., 1., 1., 1., 1., 1., 1., 1., 1., 1., 1., 1., 1., 1., 1., 1.,\n",
              "       1., 1., 1., 1., 1., 1., 1., 1., 1., 1., 1., 1., 1., 1., 1., 1., 1.,\n",
              "       1., 1., 1., 1., 1., 1., 1., 1., 1., 1., 1., 1., 1., 1., 1., 1., 1.,\n",
              "       1., 1., 1., 1., 1., 1., 1., 1., 1., 1., 1., 1., 1., 1., 1., 1., 1.,\n",
              "       1., 1., 1., 1., 1., 1., 1., 1., 1., 1., 1., 1., 1., 1., 1., 1., 1.,\n",
              "       1., 1., 1., 1., 1., 1., 1., 1., 1., 1., 1., 1., 1., 1., 1., 1., 1.,\n",
              "       1., 1., 1., 1., 1., 1., 1., 1., 1., 1., 1., 1., 1., 1., 1., 1., 1.,\n",
              "       1., 1., 1., 1., 1., 1., 1., 1., 1., 1.])"
            ]
          },
          "metadata": {
            "tags": []
          },
          "execution_count": 43
        }
      ]
    },
    {
      "cell_type": "markdown",
      "metadata": {
        "id": "qmJ1FML0ckLi",
        "colab_type": "text"
      },
      "source": [
        "**Generating Fg and Fo i'e the Group class matrix and Object Class matrix**"
      ]
    },
    {
      "cell_type": "code",
      "metadata": {
        "id": "DTO5d9Ay2Xc5",
        "colab_type": "code",
        "outputId": "1a210a8c-74f2-4e55-fd83-3eef07c881e5",
        "colab": {
          "base_uri": "https://localhost:8080/",
          "height": 85
        }
      },
      "source": [
        "\n",
        "objclass_mat1=pd.DataFrame(y_prob,columns=['Survived','NotSurvived'])\n",
        "objclass_mat2=pd.DataFrame(y_prob3,columns=['Survived','NotSurvived'])\n",
        "df_t=pd.DataFrame(objclass_mat1)\n",
        "Fo=np.array(df_t)\n",
        "gpclass_mat=pd.DataFrame(columns=['Survived','NotSurvived'],index=['class1surv','class1notsurv','class2surv','class2notsurv'])\n",
        "prob1s=np.sum(objclass_mat1.Survived)/len(objclass_mat1)\n",
        "prob1ns=np.sum(objclass_mat1.NotSurvived)/len(objclass_mat1)\n",
        "prob2s=np.sum(objclass_mat2.Survived)/len(objclass_mat2)\n",
        "prob2ns=np.sum(objclass_mat2.NotSurvived)/len(objclass_mat2)\n",
        "list1=[]\n",
        "list1.append(prob1s)\n",
        "list1.append(prob1ns)\n",
        "list1.append(prob2s)\n",
        "list1.append(prob2ns)\n",
        "\n",
        "list2=[]\n",
        "list2.append(prob1ns)\n",
        "list2.append(prob1s)\n",
        "list2.append(prob2ns)\n",
        "list2.append(prob2s)\n",
        "gpclass_mat['Survived']=list1\n",
        "gpclass_mat['NotSurvived']=list2\n",
        "gpclass_mat\n",
        "Fg=np.array(gpclass_mat)\n",
        "Fg"
      ],
      "execution_count": 0,
      "outputs": [
        {
          "output_type": "execute_result",
          "data": {
            "text/plain": [
              "array([[0.38290849, 0.61709151],\n",
              "       [0.61709151, 0.38290849],\n",
              "       [0.37733888, 0.62266112],\n",
              "       [0.62266112, 0.37733888]])"
            ]
          },
          "metadata": {
            "tags": []
          },
          "execution_count": 44
        }
      ]
    },
    {
      "cell_type": "code",
      "metadata": {
        "id": "IEV2MTUnn-JZ",
        "colab_type": "code",
        "colab": {}
      },
      "source": [
        ""
      ],
      "execution_count": 0,
      "outputs": []
    },
    {
      "cell_type": "code",
      "metadata": {
        "id": "ovw7WJ7S2pQc",
        "colab_type": "code",
        "colab": {}
      },
      "source": [
        "n=ypred.shape[1]\n",
        "C=survived.shape[1]\n",
        "G=survived.shape[1]*n\n",
        "\n",
        "Yo=np.zeros(shape=(df.shape[0],C))\n",
        "cal_y=np.array(df)\n",
        "for i in range(Yo.shape[0]):\n",
        "  Yo[i][0]=(cal_y[i][0]+cal_y[i][2])/C\n",
        "for i in range(Yo.shape[0]):\n",
        "  Yo[i][1]=(cal_y[i][1]+cal_y[i][3])/C"
      ],
      "execution_count": 0,
      "outputs": []
    },
    {
      "cell_type": "code",
      "metadata": {
        "id": "hYZkiSfs2w2I",
        "colab_type": "code",
        "outputId": "e7b32840-a7ac-41ea-881a-76cf6c45d19a",
        "colab": {
          "base_uri": "https://localhost:8080/",
          "height": 85
        }
      },
      "source": [
        "m=np.array(df)\n",
        "Yg=np.zeros(shape=(m.shape[1],2))\n",
        "c=np.sum(m,axis=0)\n",
        "for i in range(Yg.shape[0]):\n",
        "  if i%2==0:\n",
        "    Yg[i][0]=c[i]/m.shape[0]\n",
        "    Yg[i][1]=1-Yg[i][0]\n",
        "  else:\n",
        "    Yg[i][1]=c[i]/m.shape[0]\n",
        "    Yg[i][0]=1-Yg[i][1]  \n",
        "Yg"
      ],
      "execution_count": 0,
      "outputs": [
        {
          "output_type": "execute_result",
          "data": {
            "text/plain": [
              "array([[0.38357588, 0.61642412],\n",
              "       [0.38357588, 0.61642412],\n",
              "       [0.37733888, 0.62266112],\n",
              "       [0.37733888, 0.62266112]])"
            ]
          },
          "metadata": {
            "tags": []
          },
          "execution_count": 47
        }
      ]
    },
    {
      "cell_type": "code",
      "metadata": {
        "id": "QHAljZHU21jH",
        "colab_type": "code",
        "outputId": "540d7e59-f2da-4e4c-b3eb-3ce5d4560b5c",
        "colab": {
          "base_uri": "https://localhost:8080/",
          "height": 51
        }
      },
      "source": [
        "Fo_cond=True\n",
        "Fg_cond=True\n",
        "for i in range(Fo.shape[0]):\n",
        "  if np.linalg.norm((Fo[i]), ord=1)!=1:\n",
        "    Fo_cond=False\n",
        "for i in range(Fg.shape[0]):\n",
        "  if np.linalg.norm((Fg[i]), ord=1)!=1:\n",
        "    Fo_cond=False    \n",
        "print(Fo_cond)\n",
        "print(Fg_cond)"
      ],
      "execution_count": 0,
      "outputs": [
        {
          "output_type": "stream",
          "text": [
            "True\n",
            "True\n"
          ],
          "name": "stdout"
        }
      ]
    },
    {
      "cell_type": "code",
      "metadata": {
        "id": "a8cG1naJ3Cbk",
        "colab_type": "code",
        "outputId": "de8051a5-7be7-4f8f-80aa-86311cad56c4",
        "colab": {
          "base_uri": "https://localhost:8080/",
          "height": 51
        }
      },
      "source": [
        "test_dm=np.zeros(shape=(Km.shape))\n",
        "test_Km=Km\n",
        "for i in range(test_Km.shape[0]):\n",
        "  test_dm[i]=np.sum(test_Km[i],axis=0)\n",
        "Dm=np.diag(np.diag(test_dm))\n",
        "print(\"Shape of DM\",Dm.shape)\n",
        "test_dc=np.zeros(shape=(Kc.shape))\n",
        "test_Kc=Kc\n",
        "for i in range(test_Kc.shape[0]):\n",
        "  test_dc[i]=np.sum(test_Kc[i],axis=0)\n",
        "Dc=np.diag(np.diag(test_dc))\n",
        "print(\"shape of Dc\",Dc.shape)"
      ],
      "execution_count": 0,
      "outputs": [
        {
          "output_type": "stream",
          "text": [
            "Shape of DM (962, 962)\n",
            "shape of Dc (962, 962)\n"
          ],
          "name": "stdout"
        }
      ]
    },
    {
      "cell_type": "code",
      "metadata": {
        "id": "Bv1sYezy3Hwa",
        "colab_type": "code",
        "outputId": "833c8ad4-4d56-4534-fd3d-dceb05198e21",
        "colab": {
          "base_uri": "https://localhost:8080/",
          "height": 153
        }
      },
      "source": [
        "print(\"KHM\",Km.shape)\n",
        "print(\"KHC\",Kc.shape)\n",
        "print(\"Fo\",Fo.shape)\n",
        "print(\"Fg\",Fg.shape)\n",
        "print(\"Yo\",Yo.shape)\n",
        "print(\"Yg\",Yg.shape)\n",
        "print(\"Dm\",Dm.shape)\n",
        "print(\"Dc\",Dc.shape)"
      ],
      "execution_count": 0,
      "outputs": [
        {
          "output_type": "stream",
          "text": [
            "KHM (962, 962)\n",
            "KHC (962, 962)\n",
            "Fo (962, 2)\n",
            "Fg (4, 2)\n",
            "Yo (962, 2)\n",
            "Yg (4, 2)\n",
            "Dm (962, 962)\n",
            "Dc (962, 962)\n"
          ],
          "name": "stdout"
        }
      ]
    },
    {
      "cell_type": "code",
      "metadata": {
        "id": "Ro1G66qS5Pzv",
        "colab_type": "code",
        "outputId": "4c79c4aa-e960-4bf8-97c8-029ca5769ee3",
        "colab": {
          "base_uri": "https://localhost:8080/",
          "height": 153
        }
      },
      "source": [
        "print(\"KHM\",Km.shape)\n",
        "print(\"KHC\",Kc.shape)\n",
        "print(\"Fo\",Fo.shape)\n",
        "print(\"Fg\",Fg.shape)\n",
        "print(\"Yo\",Yo.shape)\n",
        "print(\"Yg\",Yg.shape)\n",
        "print(\"Dm\",Dm.shape)\n",
        "print(\"Dc\",Dc.shape)"
      ],
      "execution_count": 0,
      "outputs": [
        {
          "output_type": "stream",
          "text": [
            "KHM (962, 962)\n",
            "KHC (962, 962)\n",
            "Fo (962, 2)\n",
            "Fg (4, 2)\n",
            "Yo (962, 2)\n",
            "Yg (962, 2)\n",
            "Dm (962, 962)\n",
            "Dc (962, 962)\n"
          ],
          "name": "stdout"
        }
      ]
    },
    {
      "cell_type": "code",
      "metadata": {
        "id": "4OVQOQf35Tb7",
        "colab_type": "code",
        "colab": {}
      },
      "source": [
        "import sys\n",
        "threshold=sys.float_info.epsilon"
      ],
      "execution_count": 0,
      "outputs": []
    },
    {
      "cell_type": "code",
      "metadata": {
        "id": "x2yQviy9gmJi",
        "colab_type": "code",
        "colab": {}
      },
      "source": [
        "from numpy import linalg as LA"
      ],
      "execution_count": 0,
      "outputs": []
    },
    {
      "cell_type": "code",
      "metadata": {
        "id": "NaOULbFt5XBQ",
        "colab_type": "code",
        "colab": {}
      },
      "source": [
        "alpha=0.25\n",
        "beta=0.35\n",
        "gamma=0.35\n",
        "delta=0.05\n",
        "Fo_t=np.zeros(shape=Fo.shape)\n",
        "Fg_t=np.zeros(shape=Fg.shape)\n",
        "Fot_old=np.zeros(shape=Fo.shape)\n",
        "Fo_t=Fo\n",
        "Fg_t=Fg\n",
        "while LA.norm((Fo_t-Fot_old),'fro')>threshold:\n",
        "  Fot_old=Fo_t\n",
        "  Fg_t=np.matmul((np.linalg.inv(2*delta*np.ones(shape=Dm.shape)+(alpha*Dm))),((alpha*np.matmul(Km,Fo_t))+(2*delta*Yg)))\n",
        "  Fo_t=np.matmul((np.linalg.inv((alpha*Dm)+(2*beta*Dc)-(beta*np.matmul(np.identity(Kc.shape[0]),Kc))-(beta*np.matmul(np.ones(shape=Kc.shape),Kc))+(2*gamma*np.identity(Kc.shape[0])))),((alpha*np.matmul(Km,Fg_t))+(2*gamma*Yo)))"
      ],
      "execution_count": 0,
      "outputs": []
    },
    {
      "cell_type": "code",
      "metadata": {
        "id": "ZhH4nVo_5e6_",
        "colab_type": "code",
        "outputId": "70393647-d182-4c09-e066-699bae22147d",
        "colab": {
          "base_uri": "https://localhost:8080/",
          "height": 85
        }
      },
      "source": [
        "from sklearn.metrics import accuracy_score,roc_auc_score\n",
        "result=np.zeros(shape=Fo_t.shape[0])\n",
        "for i in range(Fo_t.shape[0]):\n",
        "  if Fo_t[i][0]<Fo_t[i][1]:\n",
        "    result[i]=1\n",
        "print(\"Accuracy value for Ensemble model\",accuracy_score(y_val,result))\n",
        "print(\"AUC for for Ensemble model\",roc_auc_score(y_val,result))\n",
        "print(\"Accuracy value for LR\",accuracy_score(y_val,ypred))\n",
        "print(\"AUC for for LR\",roc_auc_score(y_val,ypred))\n"
      ],
      "execution_count": 0,
      "outputs": [
        {
          "output_type": "stream",
          "text": [
            "Accuracy value for Ensemble model 0.8835758835758836\n",
            "AUC for for Ensemble model 0.8977652312831311\n",
            "Accuracy value for LR 0.8056133056133056\n",
            "AUC for for LR 0.7942188294241523\n"
          ],
          "name": "stdout"
        }
      ]
    }
  ]
}