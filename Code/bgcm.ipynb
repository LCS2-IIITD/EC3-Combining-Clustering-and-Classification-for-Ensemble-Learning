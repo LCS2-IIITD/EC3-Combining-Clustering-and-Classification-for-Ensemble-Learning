{
  "nbformat": 4,
  "nbformat_minor": 0,
  "metadata": {
    "colab": {
      "name": "Untitled146.ipynb",
      "provenance": [],
      "include_colab_link": true
    },
    "kernelspec": {
      "name": "python3",
      "display_name": "Python 3"
    },
    "accelerator": "GPU"
  },
  "cells": [
    {
      "cell_type": "markdown",
      "metadata": {
        "id": "view-in-github",
        "colab_type": "text"
      },
      "source": [
        "<a href=\"https://colab.research.google.com/github/manjotmb20/EC3/blob/master/bgcm.ipynb\" target=\"_parent\"><img src=\"https://colab.research.google.com/assets/colab-badge.svg\" alt=\"Open In Colab\"/></a>"
      ]
    },
    {
      "cell_type": "markdown",
      "metadata": {
        "id": "3NWsEsiK-XJA",
        "colab_type": "text"
      },
      "source": [
        "**Implementing the BGCM algorithm**"
      ]
    },
    {
      "cell_type": "markdown",
      "metadata": {
        "id": "qQNPHut2-Mcy",
        "colab_type": "text"
      },
      "source": [
        "**downloading libraries**"
      ]
    },
    {
      "cell_type": "code",
      "metadata": {
        "id": "eRsugpIqUx_g",
        "colab_type": "code",
        "outputId": "9506c998-fa60-42b4-c19c-3452f4bbd3c2",
        "colab": {
          "base_uri": "https://localhost:8080/",
          "height": 51
        }
      },
      "source": [
        "import numpy as np\n",
        "import matplotlib.pyplot as plt\n",
        "import pandas as pd\n",
        "import seaborn as sns\n",
        "from sklearn.preprocessing import LabelEncoder\n",
        "from sklearn.preprocessing import StandardScaler\n",
        "from sklearn.preprocessing import OneHotEncoder\n",
        "from numpy import linalg as LA\n",
        "import numpy as np\n",
        "import pandas as pd\n",
        "import matplotlib.pyplot as plt\n",
        "import seaborn as sns\n",
        "%matplotlib inline\n",
        "from sklearn.preprocessing import StandardScaler\n",
        "import nltk\n",
        "nltk.download(\"punkt\")\n",
        "# Warnings\n",
        "import warnings\n",
        "warnings.filterwarnings('ignore')"
      ],
      "execution_count": 19,
      "outputs": [
        {
          "output_type": "stream",
          "text": [
            "[nltk_data] Downloading package punkt to /root/nltk_data...\n",
            "[nltk_data]   Package punkt is already up-to-date!\n"
          ],
          "name": "stdout"
        }
      ]
    },
    {
      "cell_type": "code",
      "metadata": {
        "id": "f-FEsE00VHhT",
        "colab_type": "code",
        "colab": {}
      },
      "source": [
        ""
      ],
      "execution_count": 0,
      "outputs": []
    },
    {
      "cell_type": "markdown",
      "metadata": {
        "id": "kiBJTNQz-SLJ",
        "colab_type": "text"
      },
      "source": [
        "**Data preprocessing on the dataset**"
      ]
    },
    {
      "cell_type": "code",
      "metadata": {
        "id": "rgcb1q57VNbO",
        "colab_type": "code",
        "colab": {}
      },
      "source": [
        "df_train = pd.read_csv('train.csv')\n",
        "df_train[['Pclass', 'Survived']].groupby(['Pclass'], as_index=False).mean().sort_values(by='Survived', ascending=False)\n",
        "df_train[['Sex', 'Survived']].groupby(['Sex'], as_index=False).mean().sort_values(by='Survived', ascending=False)\n",
        "df_train[['SibSp', 'Survived']].groupby(['SibSp'], as_index=False).mean().sort_values(by='Survived', ascending=False)\n",
        "df_train[['Parch', 'Survived']].groupby(['Parch'], as_index=False).mean().sort_values(by='Survived', ascending=False)\n",
        "df_train = df_train.drop(['Ticket', 'Cabin'], axis=1)\n",
        "combine = [df_train]\n",
        "for dataset in combine:\n",
        "    dataset['Title'] = dataset.Name.str.extract('([A-Za-z]+)\\.', expand=False)\n",
        "pd.crosstab(df_train['Title'], df_train['Sex'])\n",
        "for dataset in combine:\n",
        "    dataset['Title'] = dataset['Title'].replace('Mlle', 'Miss')\n",
        "    dataset['Title'] = dataset['Title'].replace('Ms', 'Miss')\n",
        "    dataset['Title'] = dataset['Title'].replace('Mme', 'Mrs')\n",
        "    dataset['Title'] = dataset['Title'].replace(['Lady', 'Countess','Don', 'Sir', 'Jonkheer', 'Dona'],'Royalty')\n",
        "    dataset['Title'] = dataset['Title'].replace(['Capt', 'Col','Dr','Major','Rev'],'Special')\n",
        "df_train[['Title','Survived']].groupby(['Title'], as_index=False).mean()\n",
        "title_mapping = {\"Master\": 1, \"Miss\": 2, \"Mrs\": 3, \"Mr\": 4, \"Royalty\": 5, \"Special\": 6}\n",
        "for dataset in combine:\n",
        "    dataset['Title'] = dataset['Title'].map(title_mapping)\n",
        "    dataset['Title'] = dataset['Title'].fillna(0)\n",
        "df_train = df_train.drop(['Name', 'PassengerId'], axis=1)\n",
        "combine = [df_train]\n",
        "for dataset in combine:\n",
        "    dataset['Sex'] = dataset['Sex'].map( {'female': 1, 'male': 0} ).astype(int)\n",
        "median_age = np.zeros((2,3))\n",
        "for dataset in combine:\n",
        "    for sex in range(0,2):\n",
        "        for pclass in range(0,3):\n",
        "            guess_df = dataset[(dataset['Sex'] == sex) & \\\n",
        "                                  (dataset['Pclass'] == pclass+1)]['Age'].dropna()\n",
        "            age_guess = guess_df.median()\n",
        "            median_age[sex,pclass] = age_guess\n",
        "\n",
        "for dataset in combine:\n",
        "    for i in range(0, 2):\n",
        "        for j in range(0, 3):\n",
        "            dataset.loc[ (dataset.Age.isnull()) & (dataset.Sex == i) & (dataset.Pclass == j+1),\\\n",
        "                    'Age'] = median_age[i,j]\n",
        "\n",
        "dataset['Age'] = dataset['Age'].astype(int)\n",
        "df_train['AgeBand'] = pd.cut(df_train['Age'], 5)\n",
        "df_train[['AgeBand', 'Survived']].groupby(['AgeBand'], as_index=False).mean().sort_values(by='AgeBand', ascending=True)\n",
        "for dataset in combine:\n",
        "    dataset.loc[ dataset['Age'] <= 16, 'AgeG'] = 0\n",
        "    dataset.loc[(dataset['Age'] > 16) & (dataset['Age'] <= 32), 'AgeG'] = 1\n",
        "    dataset.loc[(dataset['Age'] > 32) & (dataset['Age'] <= 48), 'AgeG'] = 2\n",
        "    dataset.loc[(dataset['Age'] > 48) & (dataset['Age'] <= 64), 'AgeG'] = 3\n",
        "    dataset.loc[ dataset['Age'] > 64, 'AgeG'] = 4\n",
        "df_train = df_train.drop(['AgeBand','Age'], axis=1)\n",
        "combine = [df_train]\n",
        "for dataset in combine:\n",
        "    dataset['FamilySize'] = dataset['SibSp'] + dataset['Parch'] + 1\n",
        "\n",
        "df_train[['FamilySize','Survived']].groupby(['FamilySize'], as_index=False).mean().sort_values(by='Survived', ascending=False) \n",
        "df_train = df_train.drop(['SibSp', 'Parch'], axis=1)\n",
        "combine = [df_train]\n",
        "freq_port = df_train.Embarked.dropna().mode()[0]\n",
        "for dataset in combine:\n",
        "    dataset['Embarked'] = dataset['Embarked'].fillna(freq_port)\n",
        "df_train[['Embarked','Survived']].groupby(['Embarked'], as_index = False).mean().sort_values(by='Survived', ascending=False)\n",
        "for dataset in combine:\n",
        "    dataset['Embarked'] = dataset['Embarked'].map( {'S': 0, 'C': 1, 'Q': 2} ).astype(int)\n",
        "df_train = df_train.drop(['Fare'], axis=1)\n",
        "combine = [df_train]\n",
        "for dataset in combine:\n",
        "    dataset.AgeG = dataset.AgeG.astype(int)\n",
        "X_train = df_train.drop(\"Survived\", axis=1)\n",
        "Y_train = df_train['Survived'] "
      ],
      "execution_count": 0,
      "outputs": []
    },
    {
      "cell_type": "markdown",
      "metadata": {
        "id": "ttAgIfIu-orb",
        "colab_type": "text"
      },
      "source": [
        "**Applying classification algorithm on the dataset to form the output used by the BGCM algorithm.**"
      ]
    },
    {
      "cell_type": "code",
      "metadata": {
        "id": "fJjpiOJ5WaAh",
        "colab_type": "code",
        "outputId": "a7340867-c7c7-44f7-aeac-c5c4d1ac573c",
        "colab": {
          "base_uri": "https://localhost:8080/",
          "height": 51
        }
      },
      "source": [
        "from sklearn.linear_model import LogisticRegression\n",
        "from sklearn.model_selection import train_test_split\n",
        "from sklearn.tree import DecisionTreeClassifier\n",
        "from sklearn.svm import SVC\n",
        "classifier3=SVC(probability=True)\n",
        "from sklearn.metrics import roc_auc_score,accuracy_score\n",
        "x_train,x_val,y_train,y_val=train_test_split(X_train,Y_train,test_size=0.4,random_state=2)\n",
        "classifier=LogisticRegression(random_state=0)\n",
        "classifier.fit(x_train,y_train)\n",
        "ypred=classifier.predict(x_val)\n",
        "print(\"ROC score of LR\",roc_auc_score(y_val,ypred))\n",
        "y_prob=classifier.predict_proba(x_val)\n",
        "df=pd.DataFrame()\n",
        "df['pred']=ypred\n",
        "survived=pd.get_dummies(df.pred,prefix='Survived')\n",
        "df=pd.concat([df,survived],axis=1)\n",
        "df.drop('pred',inplace=True,axis=1)\n",
        "df2=pd.DataFrame()\n",
        "classifier3.fit(x_train,y_train)\n",
        "ypred3=classifier3.predict(x_val)\n",
        "print(\"ROC score of SVM\",roc_auc_score(y_val,ypred3))\n",
        "df2['pred']=ypred3\n",
        "y_prob3=classifier3.predict_proba(x_val)\n",
        "survived2=pd.get_dummies(df2.pred,prefix='Surviveds')\n",
        "df=pd.concat([df,survived2],axis=1)"
      ],
      "execution_count": 21,
      "outputs": [
        {
          "output_type": "stream",
          "text": [
            "ROC score of LR 0.8043450148713306\n",
            "ROC score of SVM 0.8082891503944135\n"
          ],
          "name": "stdout"
        }
      ]
    },
    {
      "cell_type": "code",
      "metadata": {
        "id": "8L2Gw4IPEtJh",
        "colab_type": "code",
        "colab": {}
      },
      "source": [
        "from sklearn.cluster import KMeans\n",
        "kmeans = KMeans(n_clusters=2,max_iter=100)\n",
        "kmeans.fit(x_train)\n",
        "k_pred=kmeans.predict(x_val)\n",
        "accuracy_score(y_val,k_pred)\n",
        "df_kmeans=pd.DataFrame()\n",
        "df_kmeans['Survived_k']=k_pred\n",
        "survivedk=pd.get_dummies(df_kmeans.Survived_k,prefix='Survivedk')\n"
      ],
      "execution_count": 0,
      "outputs": []
    },
    {
      "cell_type": "code",
      "metadata": {
        "id": "GnN7CGLWF9oL",
        "colab_type": "code",
        "colab": {
          "base_uri": "https://localhost:8080/",
          "height": 436
        },
        "outputId": "54a49ba4-5da4-4a60-f5e8-5ce1fd7eaaa8"
      },
      "source": [
        "df['Survivedk_0']=survivedk['Survivedk_0']\n",
        "df['Survivedk_1']=survivedk['Survivedk_1']\n",
        "print(\"Accuracy score of Kmeans\",accuracy_score(y_val,k_pred))\n",
        "df"
      ],
      "execution_count": 23,
      "outputs": [
        {
          "output_type": "stream",
          "text": [
            "Accuracy score of Kmeans 0.5938375350140056\n"
          ],
          "name": "stdout"
        },
        {
          "output_type": "execute_result",
          "data": {
            "text/html": [
              "<div>\n",
              "<style scoped>\n",
              "    .dataframe tbody tr th:only-of-type {\n",
              "        vertical-align: middle;\n",
              "    }\n",
              "\n",
              "    .dataframe tbody tr th {\n",
              "        vertical-align: top;\n",
              "    }\n",
              "\n",
              "    .dataframe thead th {\n",
              "        text-align: right;\n",
              "    }\n",
              "</style>\n",
              "<table border=\"1\" class=\"dataframe\">\n",
              "  <thead>\n",
              "    <tr style=\"text-align: right;\">\n",
              "      <th></th>\n",
              "      <th>Survived_0</th>\n",
              "      <th>Survived_1</th>\n",
              "      <th>Surviveds_0</th>\n",
              "      <th>Surviveds_1</th>\n",
              "      <th>Survivedk_0</th>\n",
              "      <th>Survivedk_1</th>\n",
              "    </tr>\n",
              "  </thead>\n",
              "  <tbody>\n",
              "    <tr>\n",
              "      <th>0</th>\n",
              "      <td>1</td>\n",
              "      <td>0</td>\n",
              "      <td>1</td>\n",
              "      <td>0</td>\n",
              "      <td>1</td>\n",
              "      <td>0</td>\n",
              "    </tr>\n",
              "    <tr>\n",
              "      <th>1</th>\n",
              "      <td>1</td>\n",
              "      <td>0</td>\n",
              "      <td>1</td>\n",
              "      <td>0</td>\n",
              "      <td>1</td>\n",
              "      <td>0</td>\n",
              "    </tr>\n",
              "    <tr>\n",
              "      <th>2</th>\n",
              "      <td>0</td>\n",
              "      <td>1</td>\n",
              "      <td>0</td>\n",
              "      <td>1</td>\n",
              "      <td>0</td>\n",
              "      <td>1</td>\n",
              "    </tr>\n",
              "    <tr>\n",
              "      <th>3</th>\n",
              "      <td>1</td>\n",
              "      <td>0</td>\n",
              "      <td>1</td>\n",
              "      <td>0</td>\n",
              "      <td>1</td>\n",
              "      <td>0</td>\n",
              "    </tr>\n",
              "    <tr>\n",
              "      <th>4</th>\n",
              "      <td>1</td>\n",
              "      <td>0</td>\n",
              "      <td>1</td>\n",
              "      <td>0</td>\n",
              "      <td>0</td>\n",
              "      <td>1</td>\n",
              "    </tr>\n",
              "    <tr>\n",
              "      <th>...</th>\n",
              "      <td>...</td>\n",
              "      <td>...</td>\n",
              "      <td>...</td>\n",
              "      <td>...</td>\n",
              "      <td>...</td>\n",
              "      <td>...</td>\n",
              "    </tr>\n",
              "    <tr>\n",
              "      <th>352</th>\n",
              "      <td>1</td>\n",
              "      <td>0</td>\n",
              "      <td>1</td>\n",
              "      <td>0</td>\n",
              "      <td>1</td>\n",
              "      <td>0</td>\n",
              "    </tr>\n",
              "    <tr>\n",
              "      <th>353</th>\n",
              "      <td>0</td>\n",
              "      <td>1</td>\n",
              "      <td>0</td>\n",
              "      <td>1</td>\n",
              "      <td>1</td>\n",
              "      <td>0</td>\n",
              "    </tr>\n",
              "    <tr>\n",
              "      <th>354</th>\n",
              "      <td>0</td>\n",
              "      <td>1</td>\n",
              "      <td>0</td>\n",
              "      <td>1</td>\n",
              "      <td>1</td>\n",
              "      <td>0</td>\n",
              "    </tr>\n",
              "    <tr>\n",
              "      <th>355</th>\n",
              "      <td>1</td>\n",
              "      <td>0</td>\n",
              "      <td>1</td>\n",
              "      <td>0</td>\n",
              "      <td>1</td>\n",
              "      <td>0</td>\n",
              "    </tr>\n",
              "    <tr>\n",
              "      <th>356</th>\n",
              "      <td>1</td>\n",
              "      <td>0</td>\n",
              "      <td>1</td>\n",
              "      <td>0</td>\n",
              "      <td>0</td>\n",
              "      <td>1</td>\n",
              "    </tr>\n",
              "  </tbody>\n",
              "</table>\n",
              "<p>357 rows × 6 columns</p>\n",
              "</div>"
            ],
            "text/plain": [
              "     Survived_0  Survived_1  Surviveds_0  Surviveds_1  Survivedk_0  Survivedk_1\n",
              "0             1           0            1            0            1            0\n",
              "1             1           0            1            0            1            0\n",
              "2             0           1            0            1            0            1\n",
              "3             1           0            1            0            1            0\n",
              "4             1           0            1            0            0            1\n",
              "..          ...         ...          ...          ...          ...          ...\n",
              "352           1           0            1            0            1            0\n",
              "353           0           1            0            1            1            0\n",
              "354           0           1            0            1            1            0\n",
              "355           1           0            1            0            1            0\n",
              "356           1           0            1            0            0            1\n",
              "\n",
              "[357 rows x 6 columns]"
            ]
          },
          "metadata": {
            "tags": []
          },
          "execution_count": 23
        }
      ]
    },
    {
      "cell_type": "markdown",
      "metadata": {
        "id": "9LLNazLgCzyX",
        "colab_type": "text"
      },
      "source": [
        "**Generating affinity matrix dimension (n*v), here v=4**"
      ]
    },
    {
      "cell_type": "code",
      "metadata": {
        "id": "vABVgXxZW1rU",
        "colab_type": "code",
        "outputId": "6c7729a9-76b2-4185-bd98-1c71762e3c86",
        "colab": {
          "base_uri": "https://localhost:8080/",
          "height": 34
        }
      },
      "source": [
        "A=np.array(df)\n",
        "A.shape"
      ],
      "execution_count": 24,
      "outputs": [
        {
          "output_type": "execute_result",
          "data": {
            "text/plain": [
              "(357, 6)"
            ]
          },
          "metadata": {
            "tags": []
          },
          "execution_count": 24
        }
      ]
    },
    {
      "cell_type": "markdown",
      "metadata": {
        "id": "QVCc_UrBBV4V",
        "colab_type": "text"
      },
      "source": [
        "**Generating conditional probability  matrix U of dimension** **(n*c)**"
      ]
    },
    {
      "cell_type": "code",
      "metadata": {
        "id": "0F5ezx2mXyw5",
        "colab_type": "code",
        "colab": {}
      },
      "source": [
        "\n",
        "objclass_mat1=pd.DataFrame(y_prob,columns=['Survived','NotSurvived'])\n",
        "objclass_mat2=pd.DataFrame(y_prob3,columns=['Survived','NotSurvived'])\n",
        "df_t=pd.DataFrame(objclass_mat1)\n",
        "df_t['Survived2']=objclass_mat2['Survived']\n",
        "df_t['NotSurvived2']=objclass_mat2['NotSurvived']\n",
        "\n",
        "\n",
        "G=4\n",
        "C=2\n",
        "m=G/2\n",
        "n=df_t.shape[0]\n",
        "dft=np.array(df_t)\n",
        "Fo=np.zeros(shape=(n,C))\n",
        "for i in range(n):\n",
        "  sum1=0\n",
        "  for j in range(0,G,2):\n",
        "    sum1=sum1+dft[i][j]\n",
        "  Fo[i][0]=sum1/m \n",
        "  sum2=0\n",
        "  for j in range(1,G,2):\n",
        "    sum2=sum2+dft[i][j]\n",
        "  Fo[i][1]=sum2/m\n",
        "U=np.array(Fo)"
      ],
      "execution_count": 0,
      "outputs": []
    },
    {
      "cell_type": "markdown",
      "metadata": {
        "id": "htRtlZLDDMD2",
        "colab_type": "text"
      },
      "source": [
        "**Checking for Fo conditions.**"
      ]
    },
    {
      "cell_type": "code",
      "metadata": {
        "id": "NqjDG_BgJEWu",
        "colab_type": "code",
        "outputId": "126cead7-27f2-445c-dfa6-8b6cb1063990",
        "colab": {
          "base_uri": "https://localhost:8080/",
          "height": 34
        }
      },
      "source": [
        "np.linalg.norm((Fo[0]),ord=1)"
      ],
      "execution_count": 27,
      "outputs": [
        {
          "output_type": "execute_result",
          "data": {
            "text/plain": [
              "1.0"
            ]
          },
          "metadata": {
            "tags": []
          },
          "execution_count": 27
        }
      ]
    },
    {
      "cell_type": "code",
      "metadata": {
        "id": "McAyws0xYTyR",
        "colab_type": "code",
        "outputId": "5075537f-4f7e-4182-fb2d-9081e896ba10",
        "colab": {
          "base_uri": "https://localhost:8080/",
          "height": 34
        }
      },
      "source": [
        "Fo.shape"
      ],
      "execution_count": 28,
      "outputs": [
        {
          "output_type": "execute_result",
          "data": {
            "text/plain": [
              "(357, 2)"
            ]
          },
          "metadata": {
            "tags": []
          },
          "execution_count": 28
        }
      ]
    },
    {
      "cell_type": "markdown",
      "metadata": {
        "id": "CTgZ6wdyEgbi",
        "colab_type": "text"
      },
      "source": [
        "**Similarly calculating Q and Y as per the BGCM algorithm**"
      ]
    },
    {
      "cell_type": "code",
      "metadata": {
        "id": "2liJKiRSYUyh",
        "colab_type": "code",
        "outputId": "b9a8932a-db8e-4631-8796-f3b55dfd9e02",
        "colab": {
          "base_uri": "https://localhost:8080/",
          "height": 34
        }
      },
      "source": [
        "m=np.array(df)\n",
        "Yg=np.zeros(shape=(m.shape[1],2))\n",
        "c=np.sum(m,axis=0)\n",
        "for i in range(Yg.shape[0]):\n",
        "  if i%2==0:\n",
        "    Yg[i][0]=c[i]/m.shape[0]\n",
        "    Yg[i][1]=1-Yg[i][0]\n",
        "  else:\n",
        "    Yg[i][1]=c[i]/m.shape[0]\n",
        "    Yg[i][0]=1-Yg[i][1]  \n",
        "print(Yg.shape)    \n",
        "Fg=Yg\n",
        "Q=np.array(Fg)\n",
        "Y=np.array(Yg)\n",
        "for i in range(Y.shape[0]):\n",
        "  for j in range(Y.shape[1]):\n",
        "    if Y[i][j]>0.5:\n",
        "      Y[i][j]=1\n",
        "    else:\n",
        "      Y[i][j]=0"
      ],
      "execution_count": 29,
      "outputs": [
        {
          "output_type": "stream",
          "text": [
            "(6, 2)\n"
          ],
          "name": "stdout"
        }
      ]
    },
    {
      "cell_type": "markdown",
      "metadata": {
        "id": "3kQzBI4YFCwX",
        "colab_type": "text"
      },
      "source": [
        "**Importing and defining epsilon**"
      ]
    },
    {
      "cell_type": "code",
      "metadata": {
        "id": "ZtZ5TuDfbdEm",
        "colab_type": "code",
        "colab": {}
      },
      "source": [
        "import sys\n",
        "threshold=sys.float_info.epsilon"
      ],
      "execution_count": 0,
      "outputs": []
    },
    {
      "cell_type": "markdown",
      "metadata": {
        "id": "deqbDdGMFNcQ",
        "colab_type": "text"
      },
      "source": [
        "**Generating diagonal matrices Dv, Dn and K respectively**"
      ]
    },
    {
      "cell_type": "code",
      "metadata": {
        "id": "WqnXTylPcyRR",
        "colab_type": "code",
        "colab": {}
      },
      "source": [
        "D_sum=np.sum(A,axis=0)\n",
        "Dv=np.diag(D_sum)\n",
        "Dn_sum=np.sum(A,axis=1)\n",
        "Dn=np.diag(Dn_sum)\n",
        "K_sum=np.sum(Y,axis=1)\n",
        "K=np.diag(K_sum)\n"
      ],
      "execution_count": 0,
      "outputs": []
    },
    {
      "cell_type": "markdown",
      "metadata": {
        "id": "KNzJ89R1FaKH",
        "colab_type": "text"
      },
      "source": [
        "**Implementing BGCM algorithm as per the paper**"
      ]
    },
    {
      "cell_type": "code",
      "metadata": {
        "id": "VvjID0agaJn9",
        "colab_type": "code",
        "colab": {}
      },
      "source": [
        "Ut_old=np.zeros(shape=U.shape)\n",
        "alpha=0.40\n",
        "Ut=U\n",
        "while LA.norm((Ut-Ut_old))>threshold:\n",
        "  Ut_old=Ut\n",
        "  Q=np.matmul((np.linalg.inv(Dv+alpha*K)),((np.matmul(np.transpose(A),Ut))+(alpha*np.matmul(K,Y))))\n",
        "  t=np.matmul(A,Q)\n",
        "  Ut=np.matmul(np.linalg.inv(Dn),t)\n",
        "Ut.shape  \n",
        "from sklearn.metrics import accuracy_score\n",
        "result=np.zeros(shape=Ut.shape[0])\n",
        "for i in range(Ut.shape[0]):\n",
        "  if Ut[i][0]<Ut[i][1]:\n",
        "    result[i]=1"
      ],
      "execution_count": 0,
      "outputs": []
    },
    {
      "cell_type": "code",
      "metadata": {
        "id": "KGwa8M1qHA30",
        "colab_type": "code",
        "colab": {}
      },
      "source": [
        ""
      ],
      "execution_count": 0,
      "outputs": []
    }
  ]
}